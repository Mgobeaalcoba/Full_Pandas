{
  "nbformat": 4,
  "nbformat_minor": 0,
  "metadata": {
    "colab": {
      "name": "primeros_pasos.ipynb",
      "provenance": [],
      "collapsed_sections": [],
      "authorship_tag": "ABX9TyO6mOpOVtf3PPBQmtTHpzSr",
      "include_colab_link": true
    },
    "kernelspec": {
      "name": "python3",
      "display_name": "Python 3"
    },
    "language_info": {
      "name": "python"
    }
  },
  "cells": [
    {
      "cell_type": "markdown",
      "metadata": {
        "id": "view-in-github",
        "colab_type": "text"
      },
      "source": [
        "<a href=\"https://colab.research.google.com/github/Mgobeaalcoba/Full_Pandas/blob/main/primeros_pasos.ipynb\" target=\"_parent\"><img src=\"https://colab.research.google.com/assets/colab-badge.svg\" alt=\"Open In Colab\"/></a>"
      ]
    },
    {
      "cell_type": "code",
      "metadata": {
        "id": "6BegDLeDZXGy"
      },
      "source": [
        "import numpy as np\n",
        "import pandas as pd\n"
      ],
      "execution_count": null,
      "outputs": []
    },
    {
      "cell_type": "code",
      "metadata": {
        "colab": {
          "base_uri": "https://localhost:8080/"
        },
        "id": "usqtzD2VZ8lf",
        "outputId": "8316328b-78f0-45a3-89d2-73f8d7593d74"
      },
      "source": [
        "my_array = np.array([[1,2,3,4,5,10],[10,1,2,3,4,5]])\n",
        "my_array"
      ],
      "execution_count": null,
      "outputs": [
        {
          "output_type": "execute_result",
          "data": {
            "text/plain": [
              "array([[ 1,  2,  3,  4,  5, 10],\n",
              "       [10,  1,  2,  3,  4,  5]])"
            ]
          },
          "metadata": {},
          "execution_count": 9
        }
      ]
    },
    {
      "cell_type": "code",
      "metadata": {
        "colab": {
          "base_uri": "https://localhost:8080/"
        },
        "id": "kTwqtPp0aDVM",
        "outputId": "eaba31c7-e98a-4312-e59f-5b0b7b227bd4"
      },
      "source": [
        "my_array + 10"
      ],
      "execution_count": null,
      "outputs": [
        {
          "output_type": "execute_result",
          "data": {
            "text/plain": [
              "array([[11, 12, 13, 14, 15, 20],\n",
              "       [20, 11, 12, 13, 14, 15]])"
            ]
          },
          "metadata": {},
          "execution_count": 10
        }
      ]
    },
    {
      "cell_type": "code",
      "metadata": {
        "colab": {
          "base_uri": "https://localhost:8080/"
        },
        "id": "HAUQ91BaaQlt",
        "outputId": "17981f3a-aa19-4368-d2c4-8bf4fb9ddd6c"
      },
      "source": [
        "my_array.shape"
      ],
      "execution_count": null,
      "outputs": [
        {
          "output_type": "execute_result",
          "data": {
            "text/plain": [
              "(2, 6)"
            ]
          },
          "metadata": {},
          "execution_count": 11
        }
      ]
    },
    {
      "cell_type": "code",
      "metadata": {
        "colab": {
          "base_uri": "https://localhost:8080/"
        },
        "id": "LhkNDFcXaooF",
        "outputId": "76ccb417-b049-4f9c-acde-3403264e35b1"
      },
      "source": [
        "my_array[0]"
      ],
      "execution_count": null,
      "outputs": [
        {
          "output_type": "execute_result",
          "data": {
            "text/plain": [
              "array([ 1,  2,  3,  4,  5, 10])"
            ]
          },
          "metadata": {},
          "execution_count": 12
        }
      ]
    },
    {
      "cell_type": "code",
      "metadata": {
        "colab": {
          "base_uri": "https://localhost:8080/"
        },
        "id": "nRM1pAbDasVV",
        "outputId": "73b3880c-0f1b-47c9-ba0d-57d7a1d301f0"
      },
      "source": [
        "my_array[0][0]"
      ],
      "execution_count": null,
      "outputs": [
        {
          "output_type": "execute_result",
          "data": {
            "text/plain": [
              "1"
            ]
          },
          "metadata": {},
          "execution_count": 13
        }
      ]
    },
    {
      "cell_type": "code",
      "metadata": {
        "colab": {
          "base_uri": "https://localhost:8080/"
        },
        "id": "ohzN4y39bWBO",
        "outputId": "e1ec1e05-ea0f-4b94-a537-76180843b739"
      },
      "source": [
        "sr = pd.Series([10,9,8,7,6]) # Las series a diferencia de los arrays son indexados\n",
        "sr"
      ],
      "execution_count": null,
      "outputs": [
        {
          "output_type": "execute_result",
          "data": {
            "text/plain": [
              "0    10\n",
              "1     9\n",
              "2     8\n",
              "3     7\n",
              "4     6\n",
              "dtype: int64"
            ]
          },
          "metadata": {},
          "execution_count": 15
        }
      ]
    },
    {
      "cell_type": "code",
      "metadata": {
        "colab": {
          "base_uri": "https://localhost:8080/"
        },
        "id": "b_OvX7fybpz1",
        "outputId": "0b8b2b97-6211-4d76-9d62-eee12b28e8df"
      },
      "source": [
        "sr.values "
      ],
      "execution_count": null,
      "outputs": [
        {
          "output_type": "execute_result",
          "data": {
            "text/plain": [
              "array([10,  9,  8,  7,  6])"
            ]
          },
          "metadata": {},
          "execution_count": 16
        }
      ]
    },
    {
      "cell_type": "code",
      "metadata": {
        "colab": {
          "base_uri": "https://localhost:8080/"
        },
        "id": "VBStx9hRbrj-",
        "outputId": "14429780-3013-4d69-bbd8-811233dc78fd"
      },
      "source": [
        "sr.index # Muestra la dimensionalidad de mi serie"
      ],
      "execution_count": null,
      "outputs": [
        {
          "output_type": "execute_result",
          "data": {
            "text/plain": [
              "RangeIndex(start=0, stop=5, step=1)"
            ]
          },
          "metadata": {},
          "execution_count": 17
        }
      ]
    },
    {
      "cell_type": "code",
      "metadata": {
        "colab": {
          "base_uri": "https://localhost:8080/"
        },
        "id": "WD2sgWnFbtvD",
        "outputId": "7001aa6c-f5c2-4632-c6db-3f3ebd649713"
      },
      "source": [
        "sr.shape"
      ],
      "execution_count": null,
      "outputs": [
        {
          "output_type": "execute_result",
          "data": {
            "text/plain": [
              "(5,)"
            ]
          },
          "metadata": {},
          "execution_count": 18
        }
      ]
    },
    {
      "cell_type": "code",
      "metadata": {
        "colab": {
          "base_uri": "https://localhost:8080/"
        },
        "id": "jX_oxD6ub2Bz",
        "outputId": "659d52c1-e8e1-44de-e51c-10e9617d0327"
      },
      "source": [
        "sr[3] # Me muestra solo el elemento solicitado. "
      ],
      "execution_count": null,
      "outputs": [
        {
          "output_type": "execute_result",
          "data": {
            "text/plain": [
              "7"
            ]
          },
          "metadata": {},
          "execution_count": 20
        }
      ]
    },
    {
      "cell_type": "code",
      "metadata": {
        "colab": {
          "base_uri": "https://localhost:8080/"
        },
        "id": "35PB3Ia4b4qc",
        "outputId": "2e8815f6-36f0-43d7-bb63-39a17e7459bc"
      },
      "source": [
        "sr[[0,4,2]] # Me muestra lso elementos guardados en mi lista en el orden escrito"
      ],
      "execution_count": null,
      "outputs": [
        {
          "output_type": "execute_result",
          "data": {
            "text/plain": [
              "0    10\n",
              "4     6\n",
              "2     8\n",
              "dtype: int64"
            ]
          },
          "metadata": {},
          "execution_count": 22
        }
      ]
    },
    {
      "cell_type": "code",
      "metadata": {
        "colab": {
          "base_uri": "https://localhost:8080/"
        },
        "id": "Yt9kCNYMcSZN",
        "outputId": "b4ba0cc0-e55a-4af8-c617-465378aab11c"
      },
      "source": [
        "sr = pd.Series([10,9,8,7,6],index=[\"a\",\"b\",\"c\",\"d\",\"e\"]) # Así defino el indice que deseo\n",
        "sr"
      ],
      "execution_count": null,
      "outputs": [
        {
          "output_type": "execute_result",
          "data": {
            "text/plain": [
              "a    10\n",
              "b     9\n",
              "c     8\n",
              "d     7\n",
              "e     6\n",
              "dtype: int64"
            ]
          },
          "metadata": {},
          "execution_count": 27
        }
      ]
    },
    {
      "cell_type": "code",
      "metadata": {
        "colab": {
          "base_uri": "https://localhost:8080/"
        },
        "id": "dOHS7FOVc9X-",
        "outputId": "43b94a1e-1ab4-4bf7-d788-8da0b90463fc"
      },
      "source": [
        "sr[\"b\":\"e\"] #Uso rebanadas con los indices para ver solo una parte"
      ],
      "execution_count": null,
      "outputs": [
        {
          "output_type": "execute_result",
          "data": {
            "text/plain": [
              "b    9\n",
              "c    8\n",
              "d    7\n",
              "e    6\n",
              "dtype: int64"
            ]
          },
          "metadata": {},
          "execution_count": 28
        }
      ]
    },
    {
      "cell_type": "markdown",
      "metadata": {
        "id": "xwvhoRsqdPtT"
      },
      "source": [
        "Las series de Pandas funcionan muy parecido a los diccionarios de Python"
      ]
    },
    {
      "cell_type": "code",
      "metadata": {
        "colab": {
          "base_uri": "https://localhost:8080/"
        },
        "id": "RvnpRM9PdVWt",
        "outputId": "8aa8ec90-087b-4532-e339-783ebfa7e135"
      },
      "source": [
        "dict_data = {\"CO\":100,\"MX\":200,\"AR\":300}\n",
        "dict_data"
      ],
      "execution_count": null,
      "outputs": [
        {
          "output_type": "execute_result",
          "data": {
            "text/plain": [
              "{'AR': 300, 'CO': 100, 'MX': 200}"
            ]
          },
          "metadata": {},
          "execution_count": 29
        }
      ]
    },
    {
      "cell_type": "code",
      "metadata": {
        "colab": {
          "base_uri": "https://localhost:8080/"
        },
        "id": "VfZuyDO4dose",
        "outputId": "6872f545-b440-40e1-8c13-c5b9ccf46c92"
      },
      "source": [
        "dict_data.keys()"
      ],
      "execution_count": null,
      "outputs": [
        {
          "output_type": "execute_result",
          "data": {
            "text/plain": [
              "dict_keys(['CO', 'MX', 'AR'])"
            ]
          },
          "metadata": {},
          "execution_count": 30
        }
      ]
    },
    {
      "cell_type": "code",
      "metadata": {
        "colab": {
          "base_uri": "https://localhost:8080/"
        },
        "id": "KmS0oiEwdrxM",
        "outputId": "897cdfe7-fd01-4599-b21c-e5349a74fd2f"
      },
      "source": [
        "dict_data.values()"
      ],
      "execution_count": null,
      "outputs": [
        {
          "output_type": "execute_result",
          "data": {
            "text/plain": [
              "dict_values([100, 200, 300])"
            ]
          },
          "metadata": {},
          "execution_count": 31
        }
      ]
    },
    {
      "cell_type": "code",
      "metadata": {
        "colab": {
          "base_uri": "https://localhost:8080/"
        },
        "id": "xgXTpyG3duiu",
        "outputId": "39e023ae-fd13-4fa1-d904-5cfef975969a"
      },
      "source": [
        "dict_data[\"MX\"]"
      ],
      "execution_count": null,
      "outputs": [
        {
          "output_type": "execute_result",
          "data": {
            "text/plain": [
              "200"
            ]
          },
          "metadata": {},
          "execution_count": 33
        }
      ]
    },
    {
      "cell_type": "markdown",
      "metadata": {
        "id": "o5LSFZ5Hd6q6"
      },
      "source": [
        "Un archivo json es muy parecido con un diccionario"
      ]
    },
    {
      "cell_type": "markdown",
      "metadata": {
        "id": "BIfANjB0eBDl"
      },
      "source": [
        "podemos crear una serie sobre la base de un diccionario"
      ]
    },
    {
      "cell_type": "code",
      "metadata": {
        "colab": {
          "base_uri": "https://localhost:8080/"
        },
        "id": "W3WfhBEZd_es",
        "outputId": "a88c5ba2-ffe6-4703-bc46-20d83d7ac9d6"
      },
      "source": [
        "pd.Series(dict_data)"
      ],
      "execution_count": null,
      "outputs": [
        {
          "output_type": "execute_result",
          "data": {
            "text/plain": [
              "CO    100\n",
              "MX    200\n",
              "AR    300\n",
              "dtype: int64"
            ]
          },
          "metadata": {},
          "execution_count": 34
        }
      ]
    },
    {
      "cell_type": "code",
      "metadata": {
        "colab": {
          "base_uri": "https://localhost:8080/"
        },
        "id": "PX7IrlTYeM8u",
        "outputId": "47e3bbc2-e813-4059-a6da-4fd51c690552"
      },
      "source": [
        "pd.Series(dict_data,index=[\"CO\",\"MX\",\"PE\"]) # Me arroja una serie con CO y MX del dict pero sin AR y PE con valor Nulo"
      ],
      "execution_count": null,
      "outputs": [
        {
          "output_type": "execute_result",
          "data": {
            "text/plain": [
              "CO    100.0\n",
              "MX    200.0\n",
              "PE      NaN\n",
              "dtype: float64"
            ]
          },
          "metadata": {},
          "execution_count": 36
        }
      ]
    },
    {
      "cell_type": "code",
      "metadata": {
        "colab": {
          "base_uri": "https://localhost:8080/"
        },
        "id": "SkPdgufIedeD",
        "outputId": "ddaafce2-470c-4446-f6ac-cbfee9ad92ff"
      },
      "source": [
        "# ¿Que es NaN? \n",
        "np.nan"
      ],
      "execution_count": null,
      "outputs": [
        {
          "output_type": "execute_result",
          "data": {
            "text/plain": [
              "nan"
            ]
          },
          "metadata": {},
          "execution_count": 37
        }
      ]
    },
    {
      "cell_type": "code",
      "metadata": {
        "colab": {
          "base_uri": "https://localhost:8080/"
        },
        "id": "xfIr5r9OepRE",
        "outputId": "2e02b2f6-d9ab-4fcd-bdeb-ff0b1336d853"
      },
      "source": [
        "np.nan+10"
      ],
      "execution_count": null,
      "outputs": [
        {
          "output_type": "execute_result",
          "data": {
            "text/plain": [
              "nan"
            ]
          },
          "metadata": {},
          "execution_count": 38
        }
      ]
    },
    {
      "cell_type": "code",
      "metadata": {
        "colab": {
          "base_uri": "https://localhost:8080/"
        },
        "id": "81zQ1xI4eya9",
        "outputId": "ed5f2a02-e5d1-4a1c-869e-f8d97060def1"
      },
      "source": [
        "sr = pd.Series(dict_data,index=[\"CO\",\"MX\",\"PE\"]) \n",
        "sr"
      ],
      "execution_count": null,
      "outputs": [
        {
          "output_type": "execute_result",
          "data": {
            "text/plain": [
              "CO    100.0\n",
              "MX    200.0\n",
              "PE      NaN\n",
              "dtype: float64"
            ]
          },
          "metadata": {},
          "execution_count": 39
        }
      ]
    },
    {
      "cell_type": "code",
      "metadata": {
        "colab": {
          "base_uri": "https://localhost:8080/"
        },
        "id": "rnJpFhAhe26l",
        "outputId": "9b4dd4f6-a4f1-4a01-83d3-a25a4ed27a79"
      },
      "source": [
        "sr.isnull() # Me marca en que parte de mi serie tengo valores nulos"
      ],
      "execution_count": null,
      "outputs": [
        {
          "output_type": "execute_result",
          "data": {
            "text/plain": [
              "CO    False\n",
              "MX    False\n",
              "PE     True\n",
              "dtype: bool"
            ]
          },
          "metadata": {},
          "execution_count": 40
        }
      ]
    },
    {
      "cell_type": "code",
      "metadata": {
        "colab": {
          "base_uri": "https://localhost:8080/"
        },
        "id": "e9SczXo2e-To",
        "outputId": "56df7771-c3ac-4a6c-ecfc-91f37b6e3263"
      },
      "source": [
        "sr.notnull()"
      ],
      "execution_count": null,
      "outputs": [
        {
          "output_type": "execute_result",
          "data": {
            "text/plain": [
              "CO     True\n",
              "MX     True\n",
              "PE    False\n",
              "dtype: bool"
            ]
          },
          "metadata": {},
          "execution_count": 41
        }
      ]
    }
  ]
}
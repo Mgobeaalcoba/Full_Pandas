{
  "nbformat": 4,
  "nbformat_minor": 0,
  "metadata": {
    "colab": {
      "name": "datatypes.ipynb",
      "provenance": [],
      "collapsed_sections": [],
      "authorship_tag": "ABX9TyOAwpp0C6t7rB9Dp6U8Aj8n",
      "include_colab_link": true
    },
    "kernelspec": {
      "name": "python3",
      "display_name": "Python 3"
    },
    "language_info": {
      "name": "python"
    }
  },
  "cells": [
    {
      "cell_type": "markdown",
      "metadata": {
        "id": "view-in-github",
        "colab_type": "text"
      },
      "source": [
        "<a href=\"https://colab.research.google.com/github/Mgobeaalcoba/Full_Pandas/blob/main/datatypes.ipynb\" target=\"_parent\"><img src=\"https://colab.research.google.com/assets/colab-badge.svg\" alt=\"Open In Colab\"/></a>"
      ]
    },
    {
      "cell_type": "code",
      "metadata": {
        "id": "5390tz_32-WX"
      },
      "source": [
        "import pandas as pd"
      ],
      "execution_count": 1,
      "outputs": []
    },
    {
      "cell_type": "code",
      "metadata": {
        "colab": {
          "base_uri": "https://localhost:8080/",
          "height": 36
        },
        "id": "NcTcVd083GrZ",
        "outputId": "0fe0d151-bbe3-4a87-ece5-6ab5b7cd39c2"
      },
      "source": [
        "pd.__version__"
      ],
      "execution_count": 2,
      "outputs": [
        {
          "output_type": "execute_result",
          "data": {
            "application/vnd.google.colaboratory.intrinsic+json": {
              "type": "string"
            },
            "text/plain": [
              "'1.1.5'"
            ]
          },
          "metadata": {},
          "execution_count": 2
        }
      ]
    },
    {
      "cell_type": "code",
      "metadata": {
        "colab": {
          "base_uri": "https://localhost:8080/",
          "height": 394
        },
        "id": "fT1Jd95t3Jhy",
        "outputId": "dc4e2d54-9e54-405c-d0fa-c204a533fdef"
      },
      "source": [
        "!pip install --upgrade pandas"
      ],
      "execution_count": null,
      "outputs": [
        {
          "output_type": "stream",
          "name": "stdout",
          "text": [
            "Requirement already satisfied: pandas in /usr/local/lib/python3.7/dist-packages (1.1.5)\n",
            "Collecting pandas\n",
            "  Downloading pandas-1.3.4-cp37-cp37m-manylinux_2_17_x86_64.manylinux2014_x86_64.whl (11.3 MB)\n",
            "\u001b[K     |████████████████████████████████| 11.3 MB 4.1 MB/s \n",
            "\u001b[?25hRequirement already satisfied: pytz>=2017.3 in /usr/local/lib/python3.7/dist-packages (from pandas) (2018.9)\n",
            "Requirement already satisfied: python-dateutil>=2.7.3 in /usr/local/lib/python3.7/dist-packages (from pandas) (2.8.2)\n",
            "Requirement already satisfied: numpy>=1.17.3 in /usr/local/lib/python3.7/dist-packages (from pandas) (1.19.5)\n",
            "Requirement already satisfied: six>=1.5 in /usr/local/lib/python3.7/dist-packages (from python-dateutil>=2.7.3->pandas) (1.15.0)\n",
            "Installing collected packages: pandas\n",
            "  Attempting uninstall: pandas\n",
            "    Found existing installation: pandas 1.1.5\n",
            "    Uninstalling pandas-1.1.5:\n",
            "      Successfully uninstalled pandas-1.1.5\n",
            "\u001b[31mERROR: pip's dependency resolver does not currently take into account all the packages that are installed. This behaviour is the source of the following dependency conflicts.\n",
            "google-colab 1.0.0 requires pandas~=1.1.0; python_version >= \"3.0\", but you have pandas 1.3.4 which is incompatible.\u001b[0m\n",
            "Successfully installed pandas-1.3.4\n"
          ]
        },
        {
          "output_type": "display_data",
          "data": {
            "application/vnd.colab-display-data+json": {
              "pip_warning": {
                "packages": [
                  "pandas"
                ]
              }
            }
          },
          "metadata": {}
        }
      ]
    },
    {
      "cell_type": "code",
      "metadata": {
        "colab": {
          "base_uri": "https://localhost:8080/",
          "height": 36
        },
        "id": "44Ts8wdb3Vra",
        "outputId": "27ae85c9-b22a-4f6a-b123-6235e1eaa1fd"
      },
      "source": [
        "dir_pandas = '/content/drive/My Drive/Colab Notebooks/db/{}'\n",
        "dir_pandas"
      ],
      "execution_count": 3,
      "outputs": [
        {
          "output_type": "execute_result",
          "data": {
            "application/vnd.google.colaboratory.intrinsic+json": {
              "type": "string"
            },
            "text/plain": [
              "'/content/drive/My Drive/Colab Notebooks/db/{}'"
            ]
          },
          "metadata": {},
          "execution_count": 3
        }
      ]
    },
    {
      "cell_type": "markdown",
      "metadata": {
        "id": "zQLqfBgA4aha"
      },
      "source": [
        "**Muy importante: Antes de leer el archivo debo conectar mi colab con mi google drive**"
      ]
    },
    {
      "cell_type": "code",
      "metadata": {
        "colab": {
          "base_uri": "https://localhost:8080/"
        },
        "id": "sPYFsi6B4jXJ",
        "outputId": "3c4f893e-fa4e-4e2a-b85d-caaa623a478b"
      },
      "source": [
        "from google.colab import drive # Codigo para poder acceder al contenido de nuestro google drive\n",
        "drive.mount(\"/content/drive\")"
      ],
      "execution_count": 4,
      "outputs": [
        {
          "output_type": "stream",
          "name": "stdout",
          "text": [
            "Mounted at /content/drive\n"
          ]
        }
      ]
    },
    {
      "cell_type": "code",
      "metadata": {
        "colab": {
          "base_uri": "https://localhost:8080/",
          "height": 808
        },
        "id": "5E_d6uxk3gXh",
        "outputId": "ddb1012f-6771-4dbf-b32a-a71cf43c75a0"
      },
      "source": [
        "df_meteorites = pd.read_csv(dir_pandas.format(\"Meteorite_Landings.csv\"))\n",
        "df_meteorites"
      ],
      "execution_count": 5,
      "outputs": [
        {
          "output_type": "execute_result",
          "data": {
            "text/html": [
              "<div>\n",
              "<style scoped>\n",
              "    .dataframe tbody tr th:only-of-type {\n",
              "        vertical-align: middle;\n",
              "    }\n",
              "\n",
              "    .dataframe tbody tr th {\n",
              "        vertical-align: top;\n",
              "    }\n",
              "\n",
              "    .dataframe thead th {\n",
              "        text-align: right;\n",
              "    }\n",
              "</style>\n",
              "<table border=\"1\" class=\"dataframe\">\n",
              "  <thead>\n",
              "    <tr style=\"text-align: right;\">\n",
              "      <th></th>\n",
              "      <th>name</th>\n",
              "      <th>id</th>\n",
              "      <th>nametype</th>\n",
              "      <th>recclass</th>\n",
              "      <th>mass (g)</th>\n",
              "      <th>fall</th>\n",
              "      <th>year</th>\n",
              "      <th>reclat</th>\n",
              "      <th>reclong</th>\n",
              "      <th>GeoLocation</th>\n",
              "    </tr>\n",
              "  </thead>\n",
              "  <tbody>\n",
              "    <tr>\n",
              "      <th>0</th>\n",
              "      <td>Aachen</td>\n",
              "      <td>1</td>\n",
              "      <td>Valid</td>\n",
              "      <td>L5</td>\n",
              "      <td>21.0</td>\n",
              "      <td>Fell</td>\n",
              "      <td>01/01/1880 12:00:00 AM</td>\n",
              "      <td>50.77500</td>\n",
              "      <td>6.08333</td>\n",
              "      <td>(50.775, 6.08333)</td>\n",
              "    </tr>\n",
              "    <tr>\n",
              "      <th>1</th>\n",
              "      <td>Aarhus</td>\n",
              "      <td>2</td>\n",
              "      <td>Valid</td>\n",
              "      <td>H6</td>\n",
              "      <td>720.0</td>\n",
              "      <td>Fell</td>\n",
              "      <td>01/01/1951 12:00:00 AM</td>\n",
              "      <td>56.18333</td>\n",
              "      <td>10.23333</td>\n",
              "      <td>(56.18333, 10.23333)</td>\n",
              "    </tr>\n",
              "    <tr>\n",
              "      <th>2</th>\n",
              "      <td>Abee</td>\n",
              "      <td>6</td>\n",
              "      <td>Valid</td>\n",
              "      <td>EH4</td>\n",
              "      <td>107000.0</td>\n",
              "      <td>Fell</td>\n",
              "      <td>01/01/1952 12:00:00 AM</td>\n",
              "      <td>54.21667</td>\n",
              "      <td>-113.00000</td>\n",
              "      <td>(54.21667, -113.0)</td>\n",
              "    </tr>\n",
              "    <tr>\n",
              "      <th>3</th>\n",
              "      <td>Acapulco</td>\n",
              "      <td>10</td>\n",
              "      <td>Valid</td>\n",
              "      <td>Acapulcoite</td>\n",
              "      <td>1914.0</td>\n",
              "      <td>Fell</td>\n",
              "      <td>01/01/1976 12:00:00 AM</td>\n",
              "      <td>16.88333</td>\n",
              "      <td>-99.90000</td>\n",
              "      <td>(16.88333, -99.9)</td>\n",
              "    </tr>\n",
              "    <tr>\n",
              "      <th>4</th>\n",
              "      <td>Achiras</td>\n",
              "      <td>370</td>\n",
              "      <td>Valid</td>\n",
              "      <td>L6</td>\n",
              "      <td>780.0</td>\n",
              "      <td>Fell</td>\n",
              "      <td>01/01/1902 12:00:00 AM</td>\n",
              "      <td>-33.16667</td>\n",
              "      <td>-64.95000</td>\n",
              "      <td>(-33.16667, -64.95)</td>\n",
              "    </tr>\n",
              "    <tr>\n",
              "      <th>...</th>\n",
              "      <td>...</td>\n",
              "      <td>...</td>\n",
              "      <td>...</td>\n",
              "      <td>...</td>\n",
              "      <td>...</td>\n",
              "      <td>...</td>\n",
              "      <td>...</td>\n",
              "      <td>...</td>\n",
              "      <td>...</td>\n",
              "      <td>...</td>\n",
              "    </tr>\n",
              "    <tr>\n",
              "      <th>45711</th>\n",
              "      <td>Zillah 002</td>\n",
              "      <td>31356</td>\n",
              "      <td>Valid</td>\n",
              "      <td>Eucrite</td>\n",
              "      <td>172.0</td>\n",
              "      <td>Found</td>\n",
              "      <td>01/01/1990 12:00:00 AM</td>\n",
              "      <td>29.03700</td>\n",
              "      <td>17.01850</td>\n",
              "      <td>(29.037, 17.0185)</td>\n",
              "    </tr>\n",
              "    <tr>\n",
              "      <th>45712</th>\n",
              "      <td>Zinder</td>\n",
              "      <td>30409</td>\n",
              "      <td>Valid</td>\n",
              "      <td>Pallasite, ungrouped</td>\n",
              "      <td>46.0</td>\n",
              "      <td>Found</td>\n",
              "      <td>01/01/1999 12:00:00 AM</td>\n",
              "      <td>13.78333</td>\n",
              "      <td>8.96667</td>\n",
              "      <td>(13.78333, 8.96667)</td>\n",
              "    </tr>\n",
              "    <tr>\n",
              "      <th>45713</th>\n",
              "      <td>Zlin</td>\n",
              "      <td>30410</td>\n",
              "      <td>Valid</td>\n",
              "      <td>H4</td>\n",
              "      <td>3.3</td>\n",
              "      <td>Found</td>\n",
              "      <td>01/01/1939 12:00:00 AM</td>\n",
              "      <td>49.25000</td>\n",
              "      <td>17.66667</td>\n",
              "      <td>(49.25, 17.66667)</td>\n",
              "    </tr>\n",
              "    <tr>\n",
              "      <th>45714</th>\n",
              "      <td>Zubkovsky</td>\n",
              "      <td>31357</td>\n",
              "      <td>Valid</td>\n",
              "      <td>L6</td>\n",
              "      <td>2167.0</td>\n",
              "      <td>Found</td>\n",
              "      <td>01/01/2003 12:00:00 AM</td>\n",
              "      <td>49.78917</td>\n",
              "      <td>41.50460</td>\n",
              "      <td>(49.78917, 41.5046)</td>\n",
              "    </tr>\n",
              "    <tr>\n",
              "      <th>45715</th>\n",
              "      <td>Zulu Queen</td>\n",
              "      <td>30414</td>\n",
              "      <td>Valid</td>\n",
              "      <td>L3.7</td>\n",
              "      <td>200.0</td>\n",
              "      <td>Found</td>\n",
              "      <td>01/01/1976 12:00:00 AM</td>\n",
              "      <td>33.98333</td>\n",
              "      <td>-115.68333</td>\n",
              "      <td>(33.98333, -115.68333)</td>\n",
              "    </tr>\n",
              "  </tbody>\n",
              "</table>\n",
              "<p>45716 rows × 10 columns</p>\n",
              "</div>"
            ],
            "text/plain": [
              "             name     id nametype  ...    reclat    reclong             GeoLocation\n",
              "0          Aachen      1    Valid  ...  50.77500    6.08333       (50.775, 6.08333)\n",
              "1          Aarhus      2    Valid  ...  56.18333   10.23333    (56.18333, 10.23333)\n",
              "2            Abee      6    Valid  ...  54.21667 -113.00000      (54.21667, -113.0)\n",
              "3        Acapulco     10    Valid  ...  16.88333  -99.90000       (16.88333, -99.9)\n",
              "4         Achiras    370    Valid  ... -33.16667  -64.95000     (-33.16667, -64.95)\n",
              "...           ...    ...      ...  ...       ...        ...                     ...\n",
              "45711  Zillah 002  31356    Valid  ...  29.03700   17.01850       (29.037, 17.0185)\n",
              "45712      Zinder  30409    Valid  ...  13.78333    8.96667     (13.78333, 8.96667)\n",
              "45713        Zlin  30410    Valid  ...  49.25000   17.66667       (49.25, 17.66667)\n",
              "45714   Zubkovsky  31357    Valid  ...  49.78917   41.50460     (49.78917, 41.5046)\n",
              "45715  Zulu Queen  30414    Valid  ...  33.98333 -115.68333  (33.98333, -115.68333)\n",
              "\n",
              "[45716 rows x 10 columns]"
            ]
          },
          "metadata": {},
          "execution_count": 5
        }
      ]
    },
    {
      "cell_type": "code",
      "metadata": {
        "colab": {
          "base_uri": "https://localhost:8080/",
          "height": 417
        },
        "id": "rJ8BkmZe5KgA",
        "outputId": "10e6178c-de32-41fd-8b29-28781ba5a56b"
      },
      "source": [
        "df_meteorites.head()\n"
      ],
      "execution_count": 6,
      "outputs": [
        {
          "output_type": "execute_result",
          "data": {
            "text/html": [
              "<div>\n",
              "<style scoped>\n",
              "    .dataframe tbody tr th:only-of-type {\n",
              "        vertical-align: middle;\n",
              "    }\n",
              "\n",
              "    .dataframe tbody tr th {\n",
              "        vertical-align: top;\n",
              "    }\n",
              "\n",
              "    .dataframe thead th {\n",
              "        text-align: right;\n",
              "    }\n",
              "</style>\n",
              "<table border=\"1\" class=\"dataframe\">\n",
              "  <thead>\n",
              "    <tr style=\"text-align: right;\">\n",
              "      <th></th>\n",
              "      <th>name</th>\n",
              "      <th>id</th>\n",
              "      <th>nametype</th>\n",
              "      <th>recclass</th>\n",
              "      <th>mass (g)</th>\n",
              "      <th>fall</th>\n",
              "      <th>year</th>\n",
              "      <th>reclat</th>\n",
              "      <th>reclong</th>\n",
              "      <th>GeoLocation</th>\n",
              "    </tr>\n",
              "  </thead>\n",
              "  <tbody>\n",
              "    <tr>\n",
              "      <th>0</th>\n",
              "      <td>Aachen</td>\n",
              "      <td>1</td>\n",
              "      <td>Valid</td>\n",
              "      <td>L5</td>\n",
              "      <td>21.0</td>\n",
              "      <td>Fell</td>\n",
              "      <td>01/01/1880 12:00:00 AM</td>\n",
              "      <td>50.77500</td>\n",
              "      <td>6.08333</td>\n",
              "      <td>(50.775, 6.08333)</td>\n",
              "    </tr>\n",
              "    <tr>\n",
              "      <th>1</th>\n",
              "      <td>Aarhus</td>\n",
              "      <td>2</td>\n",
              "      <td>Valid</td>\n",
              "      <td>H6</td>\n",
              "      <td>720.0</td>\n",
              "      <td>Fell</td>\n",
              "      <td>01/01/1951 12:00:00 AM</td>\n",
              "      <td>56.18333</td>\n",
              "      <td>10.23333</td>\n",
              "      <td>(56.18333, 10.23333)</td>\n",
              "    </tr>\n",
              "    <tr>\n",
              "      <th>2</th>\n",
              "      <td>Abee</td>\n",
              "      <td>6</td>\n",
              "      <td>Valid</td>\n",
              "      <td>EH4</td>\n",
              "      <td>107000.0</td>\n",
              "      <td>Fell</td>\n",
              "      <td>01/01/1952 12:00:00 AM</td>\n",
              "      <td>54.21667</td>\n",
              "      <td>-113.00000</td>\n",
              "      <td>(54.21667, -113.0)</td>\n",
              "    </tr>\n",
              "    <tr>\n",
              "      <th>3</th>\n",
              "      <td>Acapulco</td>\n",
              "      <td>10</td>\n",
              "      <td>Valid</td>\n",
              "      <td>Acapulcoite</td>\n",
              "      <td>1914.0</td>\n",
              "      <td>Fell</td>\n",
              "      <td>01/01/1976 12:00:00 AM</td>\n",
              "      <td>16.88333</td>\n",
              "      <td>-99.90000</td>\n",
              "      <td>(16.88333, -99.9)</td>\n",
              "    </tr>\n",
              "    <tr>\n",
              "      <th>4</th>\n",
              "      <td>Achiras</td>\n",
              "      <td>370</td>\n",
              "      <td>Valid</td>\n",
              "      <td>L6</td>\n",
              "      <td>780.0</td>\n",
              "      <td>Fell</td>\n",
              "      <td>01/01/1902 12:00:00 AM</td>\n",
              "      <td>-33.16667</td>\n",
              "      <td>-64.95000</td>\n",
              "      <td>(-33.16667, -64.95)</td>\n",
              "    </tr>\n",
              "  </tbody>\n",
              "</table>\n",
              "</div>"
            ],
            "text/plain": [
              "       name   id nametype  ...    reclat    reclong           GeoLocation\n",
              "0    Aachen    1    Valid  ...  50.77500    6.08333     (50.775, 6.08333)\n",
              "1    Aarhus    2    Valid  ...  56.18333   10.23333  (56.18333, 10.23333)\n",
              "2      Abee    6    Valid  ...  54.21667 -113.00000    (54.21667, -113.0)\n",
              "3  Acapulco   10    Valid  ...  16.88333  -99.90000     (16.88333, -99.9)\n",
              "4   Achiras  370    Valid  ... -33.16667  -64.95000   (-33.16667, -64.95)\n",
              "\n",
              "[5 rows x 10 columns]"
            ]
          },
          "metadata": {},
          "execution_count": 6
        }
      ]
    },
    {
      "cell_type": "code",
      "metadata": {
        "colab": {
          "base_uri": "https://localhost:8080/",
          "height": 417
        },
        "id": "mvD7yV0P5M_r",
        "outputId": "0e928b3f-9868-4c17-ed93-22951143bcfc"
      },
      "source": [
        "df_meteorites.tail()"
      ],
      "execution_count": 7,
      "outputs": [
        {
          "output_type": "execute_result",
          "data": {
            "text/html": [
              "<div>\n",
              "<style scoped>\n",
              "    .dataframe tbody tr th:only-of-type {\n",
              "        vertical-align: middle;\n",
              "    }\n",
              "\n",
              "    .dataframe tbody tr th {\n",
              "        vertical-align: top;\n",
              "    }\n",
              "\n",
              "    .dataframe thead th {\n",
              "        text-align: right;\n",
              "    }\n",
              "</style>\n",
              "<table border=\"1\" class=\"dataframe\">\n",
              "  <thead>\n",
              "    <tr style=\"text-align: right;\">\n",
              "      <th></th>\n",
              "      <th>name</th>\n",
              "      <th>id</th>\n",
              "      <th>nametype</th>\n",
              "      <th>recclass</th>\n",
              "      <th>mass (g)</th>\n",
              "      <th>fall</th>\n",
              "      <th>year</th>\n",
              "      <th>reclat</th>\n",
              "      <th>reclong</th>\n",
              "      <th>GeoLocation</th>\n",
              "    </tr>\n",
              "  </thead>\n",
              "  <tbody>\n",
              "    <tr>\n",
              "      <th>45711</th>\n",
              "      <td>Zillah 002</td>\n",
              "      <td>31356</td>\n",
              "      <td>Valid</td>\n",
              "      <td>Eucrite</td>\n",
              "      <td>172.0</td>\n",
              "      <td>Found</td>\n",
              "      <td>01/01/1990 12:00:00 AM</td>\n",
              "      <td>29.03700</td>\n",
              "      <td>17.01850</td>\n",
              "      <td>(29.037, 17.0185)</td>\n",
              "    </tr>\n",
              "    <tr>\n",
              "      <th>45712</th>\n",
              "      <td>Zinder</td>\n",
              "      <td>30409</td>\n",
              "      <td>Valid</td>\n",
              "      <td>Pallasite, ungrouped</td>\n",
              "      <td>46.0</td>\n",
              "      <td>Found</td>\n",
              "      <td>01/01/1999 12:00:00 AM</td>\n",
              "      <td>13.78333</td>\n",
              "      <td>8.96667</td>\n",
              "      <td>(13.78333, 8.96667)</td>\n",
              "    </tr>\n",
              "    <tr>\n",
              "      <th>45713</th>\n",
              "      <td>Zlin</td>\n",
              "      <td>30410</td>\n",
              "      <td>Valid</td>\n",
              "      <td>H4</td>\n",
              "      <td>3.3</td>\n",
              "      <td>Found</td>\n",
              "      <td>01/01/1939 12:00:00 AM</td>\n",
              "      <td>49.25000</td>\n",
              "      <td>17.66667</td>\n",
              "      <td>(49.25, 17.66667)</td>\n",
              "    </tr>\n",
              "    <tr>\n",
              "      <th>45714</th>\n",
              "      <td>Zubkovsky</td>\n",
              "      <td>31357</td>\n",
              "      <td>Valid</td>\n",
              "      <td>L6</td>\n",
              "      <td>2167.0</td>\n",
              "      <td>Found</td>\n",
              "      <td>01/01/2003 12:00:00 AM</td>\n",
              "      <td>49.78917</td>\n",
              "      <td>41.50460</td>\n",
              "      <td>(49.78917, 41.5046)</td>\n",
              "    </tr>\n",
              "    <tr>\n",
              "      <th>45715</th>\n",
              "      <td>Zulu Queen</td>\n",
              "      <td>30414</td>\n",
              "      <td>Valid</td>\n",
              "      <td>L3.7</td>\n",
              "      <td>200.0</td>\n",
              "      <td>Found</td>\n",
              "      <td>01/01/1976 12:00:00 AM</td>\n",
              "      <td>33.98333</td>\n",
              "      <td>-115.68333</td>\n",
              "      <td>(33.98333, -115.68333)</td>\n",
              "    </tr>\n",
              "  </tbody>\n",
              "</table>\n",
              "</div>"
            ],
            "text/plain": [
              "             name     id nametype  ...    reclat    reclong             GeoLocation\n",
              "45711  Zillah 002  31356    Valid  ...  29.03700   17.01850       (29.037, 17.0185)\n",
              "45712      Zinder  30409    Valid  ...  13.78333    8.96667     (13.78333, 8.96667)\n",
              "45713        Zlin  30410    Valid  ...  49.25000   17.66667       (49.25, 17.66667)\n",
              "45714   Zubkovsky  31357    Valid  ...  49.78917   41.50460     (49.78917, 41.5046)\n",
              "45715  Zulu Queen  30414    Valid  ...  33.98333 -115.68333  (33.98333, -115.68333)\n",
              "\n",
              "[5 rows x 10 columns]"
            ]
          },
          "metadata": {},
          "execution_count": 7
        }
      ]
    },
    {
      "cell_type": "code",
      "metadata": {
        "colab": {
          "base_uri": "https://localhost:8080/",
          "height": 1000
        },
        "id": "VaugONJB5VLw",
        "outputId": "0ddb2398-1daa-402f-b0e2-8ecddf6d1f9e"
      },
      "source": [
        "df_meteorites.head(15)"
      ],
      "execution_count": 8,
      "outputs": [
        {
          "output_type": "execute_result",
          "data": {
            "text/html": [
              "<div>\n",
              "<style scoped>\n",
              "    .dataframe tbody tr th:only-of-type {\n",
              "        vertical-align: middle;\n",
              "    }\n",
              "\n",
              "    .dataframe tbody tr th {\n",
              "        vertical-align: top;\n",
              "    }\n",
              "\n",
              "    .dataframe thead th {\n",
              "        text-align: right;\n",
              "    }\n",
              "</style>\n",
              "<table border=\"1\" class=\"dataframe\">\n",
              "  <thead>\n",
              "    <tr style=\"text-align: right;\">\n",
              "      <th></th>\n",
              "      <th>name</th>\n",
              "      <th>id</th>\n",
              "      <th>nametype</th>\n",
              "      <th>recclass</th>\n",
              "      <th>mass (g)</th>\n",
              "      <th>fall</th>\n",
              "      <th>year</th>\n",
              "      <th>reclat</th>\n",
              "      <th>reclong</th>\n",
              "      <th>GeoLocation</th>\n",
              "    </tr>\n",
              "  </thead>\n",
              "  <tbody>\n",
              "    <tr>\n",
              "      <th>0</th>\n",
              "      <td>Aachen</td>\n",
              "      <td>1</td>\n",
              "      <td>Valid</td>\n",
              "      <td>L5</td>\n",
              "      <td>21.0</td>\n",
              "      <td>Fell</td>\n",
              "      <td>01/01/1880 12:00:00 AM</td>\n",
              "      <td>50.77500</td>\n",
              "      <td>6.08333</td>\n",
              "      <td>(50.775, 6.08333)</td>\n",
              "    </tr>\n",
              "    <tr>\n",
              "      <th>1</th>\n",
              "      <td>Aarhus</td>\n",
              "      <td>2</td>\n",
              "      <td>Valid</td>\n",
              "      <td>H6</td>\n",
              "      <td>720.0</td>\n",
              "      <td>Fell</td>\n",
              "      <td>01/01/1951 12:00:00 AM</td>\n",
              "      <td>56.18333</td>\n",
              "      <td>10.23333</td>\n",
              "      <td>(56.18333, 10.23333)</td>\n",
              "    </tr>\n",
              "    <tr>\n",
              "      <th>2</th>\n",
              "      <td>Abee</td>\n",
              "      <td>6</td>\n",
              "      <td>Valid</td>\n",
              "      <td>EH4</td>\n",
              "      <td>107000.0</td>\n",
              "      <td>Fell</td>\n",
              "      <td>01/01/1952 12:00:00 AM</td>\n",
              "      <td>54.21667</td>\n",
              "      <td>-113.00000</td>\n",
              "      <td>(54.21667, -113.0)</td>\n",
              "    </tr>\n",
              "    <tr>\n",
              "      <th>3</th>\n",
              "      <td>Acapulco</td>\n",
              "      <td>10</td>\n",
              "      <td>Valid</td>\n",
              "      <td>Acapulcoite</td>\n",
              "      <td>1914.0</td>\n",
              "      <td>Fell</td>\n",
              "      <td>01/01/1976 12:00:00 AM</td>\n",
              "      <td>16.88333</td>\n",
              "      <td>-99.90000</td>\n",
              "      <td>(16.88333, -99.9)</td>\n",
              "    </tr>\n",
              "    <tr>\n",
              "      <th>4</th>\n",
              "      <td>Achiras</td>\n",
              "      <td>370</td>\n",
              "      <td>Valid</td>\n",
              "      <td>L6</td>\n",
              "      <td>780.0</td>\n",
              "      <td>Fell</td>\n",
              "      <td>01/01/1902 12:00:00 AM</td>\n",
              "      <td>-33.16667</td>\n",
              "      <td>-64.95000</td>\n",
              "      <td>(-33.16667, -64.95)</td>\n",
              "    </tr>\n",
              "    <tr>\n",
              "      <th>5</th>\n",
              "      <td>Adhi Kot</td>\n",
              "      <td>379</td>\n",
              "      <td>Valid</td>\n",
              "      <td>EH4</td>\n",
              "      <td>4239.0</td>\n",
              "      <td>Fell</td>\n",
              "      <td>01/01/1919 12:00:00 AM</td>\n",
              "      <td>32.10000</td>\n",
              "      <td>71.80000</td>\n",
              "      <td>(32.1, 71.8)</td>\n",
              "    </tr>\n",
              "    <tr>\n",
              "      <th>6</th>\n",
              "      <td>Adzhi-Bogdo (stone)</td>\n",
              "      <td>390</td>\n",
              "      <td>Valid</td>\n",
              "      <td>LL3-6</td>\n",
              "      <td>910.0</td>\n",
              "      <td>Fell</td>\n",
              "      <td>01/01/1949 12:00:00 AM</td>\n",
              "      <td>44.83333</td>\n",
              "      <td>95.16667</td>\n",
              "      <td>(44.83333, 95.16667)</td>\n",
              "    </tr>\n",
              "    <tr>\n",
              "      <th>7</th>\n",
              "      <td>Agen</td>\n",
              "      <td>392</td>\n",
              "      <td>Valid</td>\n",
              "      <td>H5</td>\n",
              "      <td>30000.0</td>\n",
              "      <td>Fell</td>\n",
              "      <td>01/01/1814 12:00:00 AM</td>\n",
              "      <td>44.21667</td>\n",
              "      <td>0.61667</td>\n",
              "      <td>(44.21667, 0.61667)</td>\n",
              "    </tr>\n",
              "    <tr>\n",
              "      <th>8</th>\n",
              "      <td>Aguada</td>\n",
              "      <td>398</td>\n",
              "      <td>Valid</td>\n",
              "      <td>L6</td>\n",
              "      <td>1620.0</td>\n",
              "      <td>Fell</td>\n",
              "      <td>01/01/1930 12:00:00 AM</td>\n",
              "      <td>-31.60000</td>\n",
              "      <td>-65.23333</td>\n",
              "      <td>(-31.6, -65.23333)</td>\n",
              "    </tr>\n",
              "    <tr>\n",
              "      <th>9</th>\n",
              "      <td>Aguila Blanca</td>\n",
              "      <td>417</td>\n",
              "      <td>Valid</td>\n",
              "      <td>L</td>\n",
              "      <td>1440.0</td>\n",
              "      <td>Fell</td>\n",
              "      <td>01/01/1920 12:00:00 AM</td>\n",
              "      <td>-30.86667</td>\n",
              "      <td>-64.55000</td>\n",
              "      <td>(-30.86667, -64.55)</td>\n",
              "    </tr>\n",
              "    <tr>\n",
              "      <th>10</th>\n",
              "      <td>Aioun el Atrouss</td>\n",
              "      <td>423</td>\n",
              "      <td>Valid</td>\n",
              "      <td>Diogenite-pm</td>\n",
              "      <td>1000.0</td>\n",
              "      <td>Fell</td>\n",
              "      <td>01/01/1974 12:00:00 AM</td>\n",
              "      <td>16.39806</td>\n",
              "      <td>-9.57028</td>\n",
              "      <td>(16.39806, -9.57028)</td>\n",
              "    </tr>\n",
              "    <tr>\n",
              "      <th>11</th>\n",
              "      <td>Aïr</td>\n",
              "      <td>424</td>\n",
              "      <td>Valid</td>\n",
              "      <td>L6</td>\n",
              "      <td>24000.0</td>\n",
              "      <td>Fell</td>\n",
              "      <td>01/01/1925 12:00:00 AM</td>\n",
              "      <td>19.08333</td>\n",
              "      <td>8.38333</td>\n",
              "      <td>(19.08333, 8.38333)</td>\n",
              "    </tr>\n",
              "    <tr>\n",
              "      <th>12</th>\n",
              "      <td>Aire-sur-la-Lys</td>\n",
              "      <td>425</td>\n",
              "      <td>Valid</td>\n",
              "      <td>Unknown</td>\n",
              "      <td>NaN</td>\n",
              "      <td>Fell</td>\n",
              "      <td>01/01/1769 12:00:00 AM</td>\n",
              "      <td>50.66667</td>\n",
              "      <td>2.33333</td>\n",
              "      <td>(50.66667, 2.33333)</td>\n",
              "    </tr>\n",
              "    <tr>\n",
              "      <th>13</th>\n",
              "      <td>Akaba</td>\n",
              "      <td>426</td>\n",
              "      <td>Valid</td>\n",
              "      <td>L6</td>\n",
              "      <td>779.0</td>\n",
              "      <td>Fell</td>\n",
              "      <td>01/01/1949 12:00:00 AM</td>\n",
              "      <td>29.51667</td>\n",
              "      <td>35.05000</td>\n",
              "      <td>(29.51667, 35.05)</td>\n",
              "    </tr>\n",
              "    <tr>\n",
              "      <th>14</th>\n",
              "      <td>Akbarpur</td>\n",
              "      <td>427</td>\n",
              "      <td>Valid</td>\n",
              "      <td>H4</td>\n",
              "      <td>1800.0</td>\n",
              "      <td>Fell</td>\n",
              "      <td>01/01/1838 12:00:00 AM</td>\n",
              "      <td>29.71667</td>\n",
              "      <td>77.95000</td>\n",
              "      <td>(29.71667, 77.95)</td>\n",
              "    </tr>\n",
              "  </tbody>\n",
              "</table>\n",
              "</div>"
            ],
            "text/plain": [
              "                   name   id  ...    reclong           GeoLocation\n",
              "0                Aachen    1  ...    6.08333     (50.775, 6.08333)\n",
              "1                Aarhus    2  ...   10.23333  (56.18333, 10.23333)\n",
              "2                  Abee    6  ... -113.00000    (54.21667, -113.0)\n",
              "3              Acapulco   10  ...  -99.90000     (16.88333, -99.9)\n",
              "4               Achiras  370  ...  -64.95000   (-33.16667, -64.95)\n",
              "5              Adhi Kot  379  ...   71.80000          (32.1, 71.8)\n",
              "6   Adzhi-Bogdo (stone)  390  ...   95.16667  (44.83333, 95.16667)\n",
              "7                  Agen  392  ...    0.61667   (44.21667, 0.61667)\n",
              "8                Aguada  398  ...  -65.23333    (-31.6, -65.23333)\n",
              "9         Aguila Blanca  417  ...  -64.55000   (-30.86667, -64.55)\n",
              "10     Aioun el Atrouss  423  ...   -9.57028  (16.39806, -9.57028)\n",
              "11                  Aïr  424  ...    8.38333   (19.08333, 8.38333)\n",
              "12      Aire-sur-la-Lys  425  ...    2.33333   (50.66667, 2.33333)\n",
              "13                Akaba  426  ...   35.05000     (29.51667, 35.05)\n",
              "14             Akbarpur  427  ...   77.95000     (29.71667, 77.95)\n",
              "\n",
              "[15 rows x 10 columns]"
            ]
          },
          "metadata": {},
          "execution_count": 8
        }
      ]
    },
    {
      "cell_type": "code",
      "metadata": {
        "colab": {
          "base_uri": "https://localhost:8080/",
          "height": 747
        },
        "id": "G1l7GDyO5Yb4",
        "outputId": "7ac64928-4e34-4e97-9513-e79d83c641ed"
      },
      "source": [
        "df_meteorites.sample(10)"
      ],
      "execution_count": 9,
      "outputs": [
        {
          "output_type": "execute_result",
          "data": {
            "text/html": [
              "<div>\n",
              "<style scoped>\n",
              "    .dataframe tbody tr th:only-of-type {\n",
              "        vertical-align: middle;\n",
              "    }\n",
              "\n",
              "    .dataframe tbody tr th {\n",
              "        vertical-align: top;\n",
              "    }\n",
              "\n",
              "    .dataframe thead th {\n",
              "        text-align: right;\n",
              "    }\n",
              "</style>\n",
              "<table border=\"1\" class=\"dataframe\">\n",
              "  <thead>\n",
              "    <tr style=\"text-align: right;\">\n",
              "      <th></th>\n",
              "      <th>name</th>\n",
              "      <th>id</th>\n",
              "      <th>nametype</th>\n",
              "      <th>recclass</th>\n",
              "      <th>mass (g)</th>\n",
              "      <th>fall</th>\n",
              "      <th>year</th>\n",
              "      <th>reclat</th>\n",
              "      <th>reclong</th>\n",
              "      <th>GeoLocation</th>\n",
              "    </tr>\n",
              "  </thead>\n",
              "  <tbody>\n",
              "    <tr>\n",
              "      <th>25985</th>\n",
              "      <td>Miller Range 090908</td>\n",
              "      <td>55192</td>\n",
              "      <td>Valid</td>\n",
              "      <td>LL6</td>\n",
              "      <td>0.50</td>\n",
              "      <td>Found</td>\n",
              "      <td>01/01/2009 12:00:00 AM</td>\n",
              "      <td>0.00000</td>\n",
              "      <td>0.00000</td>\n",
              "      <td>(0.0, 0.0)</td>\n",
              "    </tr>\n",
              "    <tr>\n",
              "      <th>10686</th>\n",
              "      <td>Elephant Moraine 90670</td>\n",
              "      <td>9079</td>\n",
              "      <td>Valid</td>\n",
              "      <td>L6</td>\n",
              "      <td>43.40</td>\n",
              "      <td>Found</td>\n",
              "      <td>01/01/1990 12:00:00 AM</td>\n",
              "      <td>-76.27974</td>\n",
              "      <td>156.42350</td>\n",
              "      <td>(-76.27974, 156.4235)</td>\n",
              "    </tr>\n",
              "    <tr>\n",
              "      <th>4431</th>\n",
              "      <td>Asuka 881440</td>\n",
              "      <td>4149</td>\n",
              "      <td>Valid</td>\n",
              "      <td>L6</td>\n",
              "      <td>67.59</td>\n",
              "      <td>Found</td>\n",
              "      <td>01/01/1988 12:00:00 AM</td>\n",
              "      <td>-72.00000</td>\n",
              "      <td>26.00000</td>\n",
              "      <td>(-72.0, 26.0)</td>\n",
              "    </tr>\n",
              "    <tr>\n",
              "      <th>36916</th>\n",
              "      <td>Sayh al Uhaymir 011</td>\n",
              "      <td>23203</td>\n",
              "      <td>Valid</td>\n",
              "      <td>H5</td>\n",
              "      <td>174.00</td>\n",
              "      <td>Found</td>\n",
              "      <td>01/01/1999 12:00:00 AM</td>\n",
              "      <td>21.00333</td>\n",
              "      <td>57.28850</td>\n",
              "      <td>(21.00333, 57.2885)</td>\n",
              "    </tr>\n",
              "    <tr>\n",
              "      <th>38957</th>\n",
              "      <td>Yamato 74529</td>\n",
              "      <td>24907</td>\n",
              "      <td>Valid</td>\n",
              "      <td>H6</td>\n",
              "      <td>13.01</td>\n",
              "      <td>Found</td>\n",
              "      <td>01/01/1974 12:00:00 AM</td>\n",
              "      <td>0.00000</td>\n",
              "      <td>35.66667</td>\n",
              "      <td>(0.0, 35.66667)</td>\n",
              "    </tr>\n",
              "    <tr>\n",
              "      <th>25934</th>\n",
              "      <td>Miller Range 090857</td>\n",
              "      <td>56022</td>\n",
              "      <td>Valid</td>\n",
              "      <td>L5</td>\n",
              "      <td>166.40</td>\n",
              "      <td>Found</td>\n",
              "      <td>01/01/2009 12:00:00 AM</td>\n",
              "      <td>0.00000</td>\n",
              "      <td>0.00000</td>\n",
              "      <td>(0.0, 0.0)</td>\n",
              "    </tr>\n",
              "    <tr>\n",
              "      <th>9198</th>\n",
              "      <td>El Atchane 004</td>\n",
              "      <td>7781</td>\n",
              "      <td>Valid</td>\n",
              "      <td>H4/5</td>\n",
              "      <td>133.00</td>\n",
              "      <td>Found</td>\n",
              "      <td>01/01/1991 12:00:00 AM</td>\n",
              "      <td>29.76306</td>\n",
              "      <td>4.23528</td>\n",
              "      <td>(29.76306, 4.23528)</td>\n",
              "    </tr>\n",
              "    <tr>\n",
              "      <th>27854</th>\n",
              "      <td>Northwest Africa 2880</td>\n",
              "      <td>31167</td>\n",
              "      <td>Valid</td>\n",
              "      <td>H6</td>\n",
              "      <td>63.00</td>\n",
              "      <td>Found</td>\n",
              "      <td>01/01/2004 12:00:00 AM</td>\n",
              "      <td>NaN</td>\n",
              "      <td>NaN</td>\n",
              "      <td>NaN</td>\n",
              "    </tr>\n",
              "    <tr>\n",
              "      <th>20082</th>\n",
              "      <td>Lewis Cliff 86169</td>\n",
              "      <td>13107</td>\n",
              "      <td>Valid</td>\n",
              "      <td>L6</td>\n",
              "      <td>25.80</td>\n",
              "      <td>Found</td>\n",
              "      <td>01/01/1986 12:00:00 AM</td>\n",
              "      <td>-84.25865</td>\n",
              "      <td>161.37228</td>\n",
              "      <td>(-84.25865, 161.37228)</td>\n",
              "    </tr>\n",
              "    <tr>\n",
              "      <th>42791</th>\n",
              "      <td>Yamato 86022</td>\n",
              "      <td>29528</td>\n",
              "      <td>Valid</td>\n",
              "      <td>L6</td>\n",
              "      <td>4.80</td>\n",
              "      <td>Found</td>\n",
              "      <td>01/01/1986 12:00:00 AM</td>\n",
              "      <td>-71.50000</td>\n",
              "      <td>35.66667</td>\n",
              "      <td>(-71.5, 35.66667)</td>\n",
              "    </tr>\n",
              "  </tbody>\n",
              "</table>\n",
              "</div>"
            ],
            "text/plain": [
              "                         name     id  ...    reclong             GeoLocation\n",
              "25985     Miller Range 090908  55192  ...    0.00000              (0.0, 0.0)\n",
              "10686  Elephant Moraine 90670   9079  ...  156.42350   (-76.27974, 156.4235)\n",
              "4431             Asuka 881440   4149  ...   26.00000           (-72.0, 26.0)\n",
              "36916     Sayh al Uhaymir 011  23203  ...   57.28850     (21.00333, 57.2885)\n",
              "38957            Yamato 74529  24907  ...   35.66667         (0.0, 35.66667)\n",
              "25934     Miller Range 090857  56022  ...    0.00000              (0.0, 0.0)\n",
              "9198           El Atchane 004   7781  ...    4.23528     (29.76306, 4.23528)\n",
              "27854   Northwest Africa 2880  31167  ...        NaN                     NaN\n",
              "20082       Lewis Cliff 86169  13107  ...  161.37228  (-84.25865, 161.37228)\n",
              "42791            Yamato 86022  29528  ...   35.66667       (-71.5, 35.66667)\n",
              "\n",
              "[10 rows x 10 columns]"
            ]
          },
          "metadata": {},
          "execution_count": 9
        }
      ]
    },
    {
      "cell_type": "code",
      "metadata": {
        "colab": {
          "base_uri": "https://localhost:8080/",
          "height": 300
        },
        "id": "g2GAEt8O5iAC",
        "outputId": "68765653-a2c3-4bc7-cc2f-a7058e8e6864"
      },
      "source": [
        "df_meteorites.describe() # Me muestra medidas de tendencia central de mis variables estadisticas"
      ],
      "execution_count": 10,
      "outputs": [
        {
          "output_type": "execute_result",
          "data": {
            "text/html": [
              "<div>\n",
              "<style scoped>\n",
              "    .dataframe tbody tr th:only-of-type {\n",
              "        vertical-align: middle;\n",
              "    }\n",
              "\n",
              "    .dataframe tbody tr th {\n",
              "        vertical-align: top;\n",
              "    }\n",
              "\n",
              "    .dataframe thead th {\n",
              "        text-align: right;\n",
              "    }\n",
              "</style>\n",
              "<table border=\"1\" class=\"dataframe\">\n",
              "  <thead>\n",
              "    <tr style=\"text-align: right;\">\n",
              "      <th></th>\n",
              "      <th>id</th>\n",
              "      <th>mass (g)</th>\n",
              "      <th>reclat</th>\n",
              "      <th>reclong</th>\n",
              "    </tr>\n",
              "  </thead>\n",
              "  <tbody>\n",
              "    <tr>\n",
              "      <th>count</th>\n",
              "      <td>45716.000000</td>\n",
              "      <td>4.558500e+04</td>\n",
              "      <td>38401.000000</td>\n",
              "      <td>38401.000000</td>\n",
              "    </tr>\n",
              "    <tr>\n",
              "      <th>mean</th>\n",
              "      <td>26889.735104</td>\n",
              "      <td>1.327808e+04</td>\n",
              "      <td>-39.122580</td>\n",
              "      <td>61.074319</td>\n",
              "    </tr>\n",
              "    <tr>\n",
              "      <th>std</th>\n",
              "      <td>16860.683030</td>\n",
              "      <td>5.749889e+05</td>\n",
              "      <td>46.378511</td>\n",
              "      <td>80.647298</td>\n",
              "    </tr>\n",
              "    <tr>\n",
              "      <th>min</th>\n",
              "      <td>1.000000</td>\n",
              "      <td>0.000000e+00</td>\n",
              "      <td>-87.366670</td>\n",
              "      <td>-165.433330</td>\n",
              "    </tr>\n",
              "    <tr>\n",
              "      <th>25%</th>\n",
              "      <td>12688.750000</td>\n",
              "      <td>7.200000e+00</td>\n",
              "      <td>-76.714240</td>\n",
              "      <td>0.000000</td>\n",
              "    </tr>\n",
              "    <tr>\n",
              "      <th>50%</th>\n",
              "      <td>24261.500000</td>\n",
              "      <td>3.260000e+01</td>\n",
              "      <td>-71.500000</td>\n",
              "      <td>35.666670</td>\n",
              "    </tr>\n",
              "    <tr>\n",
              "      <th>75%</th>\n",
              "      <td>40656.750000</td>\n",
              "      <td>2.026000e+02</td>\n",
              "      <td>0.000000</td>\n",
              "      <td>157.166670</td>\n",
              "    </tr>\n",
              "    <tr>\n",
              "      <th>max</th>\n",
              "      <td>57458.000000</td>\n",
              "      <td>6.000000e+07</td>\n",
              "      <td>81.166670</td>\n",
              "      <td>354.473330</td>\n",
              "    </tr>\n",
              "  </tbody>\n",
              "</table>\n",
              "</div>"
            ],
            "text/plain": [
              "                 id      mass (g)        reclat       reclong\n",
              "count  45716.000000  4.558500e+04  38401.000000  38401.000000\n",
              "mean   26889.735104  1.327808e+04    -39.122580     61.074319\n",
              "std    16860.683030  5.749889e+05     46.378511     80.647298\n",
              "min        1.000000  0.000000e+00    -87.366670   -165.433330\n",
              "25%    12688.750000  7.200000e+00    -76.714240      0.000000\n",
              "50%    24261.500000  3.260000e+01    -71.500000     35.666670\n",
              "75%    40656.750000  2.026000e+02      0.000000    157.166670\n",
              "max    57458.000000  6.000000e+07     81.166670    354.473330"
            ]
          },
          "metadata": {},
          "execution_count": 10
        }
      ]
    },
    {
      "cell_type": "code",
      "metadata": {
        "colab": {
          "base_uri": "https://localhost:8080/"
        },
        "id": "Gu8gcDN05-bu",
        "outputId": "51300371-6ca4-4bf6-ef02-a2fc7cab5587"
      },
      "source": [
        "df_meteorites.size # Me muestra la cantidad total de registros de mi database"
      ],
      "execution_count": 11,
      "outputs": [
        {
          "output_type": "execute_result",
          "data": {
            "text/plain": [
              "457160"
            ]
          },
          "metadata": {},
          "execution_count": 11
        }
      ]
    },
    {
      "cell_type": "code",
      "metadata": {
        "colab": {
          "base_uri": "https://localhost:8080/"
        },
        "id": "_s5eGnAt5yDR",
        "outputId": "38a74e7b-d8ad-4c6b-a370-3a534c874b9f"
      },
      "source": [
        "df_meteorites.shape # Me muestra filas por columnas"
      ],
      "execution_count": 12,
      "outputs": [
        {
          "output_type": "execute_result",
          "data": {
            "text/plain": [
              "(45716, 10)"
            ]
          },
          "metadata": {},
          "execution_count": 12
        }
      ]
    },
    {
      "cell_type": "markdown",
      "metadata": {
        "id": "c6CGMOsJ6YKF"
      },
      "source": [
        "**Para poder ver el .describe sin notación cientifica podemos correr el siguiente codigo: **"
      ]
    },
    {
      "cell_type": "code",
      "metadata": {
        "id": "hW_SZ8qa6elg"
      },
      "source": [
        "pd.options.display.float_format=\"{:,.1f}\".format # Significa que quiero comas para separar las unidades de mil y 1 solo decimal luego del punto."
      ],
      "execution_count": 13,
      "outputs": []
    },
    {
      "cell_type": "code",
      "metadata": {
        "colab": {
          "base_uri": "https://localhost:8080/",
          "height": 300
        },
        "id": "s5F8DVAM6pzH",
        "outputId": "255ff9e8-f6cd-46c5-9bcd-d3e8cd84d7b5"
      },
      "source": [
        "df_meteorites.describe()"
      ],
      "execution_count": 14,
      "outputs": [
        {
          "output_type": "execute_result",
          "data": {
            "text/html": [
              "<div>\n",
              "<style scoped>\n",
              "    .dataframe tbody tr th:only-of-type {\n",
              "        vertical-align: middle;\n",
              "    }\n",
              "\n",
              "    .dataframe tbody tr th {\n",
              "        vertical-align: top;\n",
              "    }\n",
              "\n",
              "    .dataframe thead th {\n",
              "        text-align: right;\n",
              "    }\n",
              "</style>\n",
              "<table border=\"1\" class=\"dataframe\">\n",
              "  <thead>\n",
              "    <tr style=\"text-align: right;\">\n",
              "      <th></th>\n",
              "      <th>id</th>\n",
              "      <th>mass (g)</th>\n",
              "      <th>reclat</th>\n",
              "      <th>reclong</th>\n",
              "    </tr>\n",
              "  </thead>\n",
              "  <tbody>\n",
              "    <tr>\n",
              "      <th>count</th>\n",
              "      <td>45,716.0</td>\n",
              "      <td>45,585.0</td>\n",
              "      <td>38,401.0</td>\n",
              "      <td>38,401.0</td>\n",
              "    </tr>\n",
              "    <tr>\n",
              "      <th>mean</th>\n",
              "      <td>26,889.7</td>\n",
              "      <td>13,278.1</td>\n",
              "      <td>-39.1</td>\n",
              "      <td>61.1</td>\n",
              "    </tr>\n",
              "    <tr>\n",
              "      <th>std</th>\n",
              "      <td>16,860.7</td>\n",
              "      <td>574,988.9</td>\n",
              "      <td>46.4</td>\n",
              "      <td>80.6</td>\n",
              "    </tr>\n",
              "    <tr>\n",
              "      <th>min</th>\n",
              "      <td>1.0</td>\n",
              "      <td>0.0</td>\n",
              "      <td>-87.4</td>\n",
              "      <td>-165.4</td>\n",
              "    </tr>\n",
              "    <tr>\n",
              "      <th>25%</th>\n",
              "      <td>12,688.8</td>\n",
              "      <td>7.2</td>\n",
              "      <td>-76.7</td>\n",
              "      <td>0.0</td>\n",
              "    </tr>\n",
              "    <tr>\n",
              "      <th>50%</th>\n",
              "      <td>24,261.5</td>\n",
              "      <td>32.6</td>\n",
              "      <td>-71.5</td>\n",
              "      <td>35.7</td>\n",
              "    </tr>\n",
              "    <tr>\n",
              "      <th>75%</th>\n",
              "      <td>40,656.8</td>\n",
              "      <td>202.6</td>\n",
              "      <td>0.0</td>\n",
              "      <td>157.2</td>\n",
              "    </tr>\n",
              "    <tr>\n",
              "      <th>max</th>\n",
              "      <td>57,458.0</td>\n",
              "      <td>60,000,000.0</td>\n",
              "      <td>81.2</td>\n",
              "      <td>354.5</td>\n",
              "    </tr>\n",
              "  </tbody>\n",
              "</table>\n",
              "</div>"
            ],
            "text/plain": [
              "            id     mass (g)   reclat  reclong\n",
              "count 45,716.0     45,585.0 38,401.0 38,401.0\n",
              "mean  26,889.7     13,278.1    -39.1     61.1\n",
              "std   16,860.7    574,988.9     46.4     80.6\n",
              "min        1.0          0.0    -87.4   -165.4\n",
              "25%   12,688.8          7.2    -76.7      0.0\n",
              "50%   24,261.5         32.6    -71.5     35.7\n",
              "75%   40,656.8        202.6      0.0    157.2\n",
              "max   57,458.0 60,000,000.0     81.2    354.5"
            ]
          },
          "metadata": {},
          "execution_count": 14
        }
      ]
    },
    {
      "cell_type": "code",
      "metadata": {
        "colab": {
          "base_uri": "https://localhost:8080/",
          "height": 448
        },
        "id": "xTU4Taqk7Om5",
        "outputId": "41251f80-6857-4e0c-b5ce-1036428c20d8"
      },
      "source": [
        "df_meteorites.describe(include=\"all\") # Me muestra ademas de la medidas de tendencia central información de mis variables tipo texto."
      ],
      "execution_count": 15,
      "outputs": [
        {
          "output_type": "execute_result",
          "data": {
            "text/html": [
              "<div>\n",
              "<style scoped>\n",
              "    .dataframe tbody tr th:only-of-type {\n",
              "        vertical-align: middle;\n",
              "    }\n",
              "\n",
              "    .dataframe tbody tr th {\n",
              "        vertical-align: top;\n",
              "    }\n",
              "\n",
              "    .dataframe thead th {\n",
              "        text-align: right;\n",
              "    }\n",
              "</style>\n",
              "<table border=\"1\" class=\"dataframe\">\n",
              "  <thead>\n",
              "    <tr style=\"text-align: right;\">\n",
              "      <th></th>\n",
              "      <th>name</th>\n",
              "      <th>id</th>\n",
              "      <th>nametype</th>\n",
              "      <th>recclass</th>\n",
              "      <th>mass (g)</th>\n",
              "      <th>fall</th>\n",
              "      <th>year</th>\n",
              "      <th>reclat</th>\n",
              "      <th>reclong</th>\n",
              "      <th>GeoLocation</th>\n",
              "    </tr>\n",
              "  </thead>\n",
              "  <tbody>\n",
              "    <tr>\n",
              "      <th>count</th>\n",
              "      <td>45716</td>\n",
              "      <td>45,716.0</td>\n",
              "      <td>45716</td>\n",
              "      <td>45716</td>\n",
              "      <td>45,585.0</td>\n",
              "      <td>45716</td>\n",
              "      <td>45425</td>\n",
              "      <td>38,401.0</td>\n",
              "      <td>38,401.0</td>\n",
              "      <td>38401</td>\n",
              "    </tr>\n",
              "    <tr>\n",
              "      <th>unique</th>\n",
              "      <td>45716</td>\n",
              "      <td>nan</td>\n",
              "      <td>2</td>\n",
              "      <td>466</td>\n",
              "      <td>nan</td>\n",
              "      <td>2</td>\n",
              "      <td>266</td>\n",
              "      <td>nan</td>\n",
              "      <td>nan</td>\n",
              "      <td>17100</td>\n",
              "    </tr>\n",
              "    <tr>\n",
              "      <th>top</th>\n",
              "      <td>Grove Mountains 052978</td>\n",
              "      <td>nan</td>\n",
              "      <td>Valid</td>\n",
              "      <td>L6</td>\n",
              "      <td>nan</td>\n",
              "      <td>Found</td>\n",
              "      <td>01/01/2003 12:00:00 AM</td>\n",
              "      <td>nan</td>\n",
              "      <td>nan</td>\n",
              "      <td>(0.0, 0.0)</td>\n",
              "    </tr>\n",
              "    <tr>\n",
              "      <th>freq</th>\n",
              "      <td>1</td>\n",
              "      <td>nan</td>\n",
              "      <td>45641</td>\n",
              "      <td>8285</td>\n",
              "      <td>nan</td>\n",
              "      <td>44609</td>\n",
              "      <td>3323</td>\n",
              "      <td>nan</td>\n",
              "      <td>nan</td>\n",
              "      <td>6214</td>\n",
              "    </tr>\n",
              "    <tr>\n",
              "      <th>mean</th>\n",
              "      <td>NaN</td>\n",
              "      <td>26,889.7</td>\n",
              "      <td>NaN</td>\n",
              "      <td>NaN</td>\n",
              "      <td>13,278.1</td>\n",
              "      <td>NaN</td>\n",
              "      <td>NaN</td>\n",
              "      <td>-39.1</td>\n",
              "      <td>61.1</td>\n",
              "      <td>NaN</td>\n",
              "    </tr>\n",
              "    <tr>\n",
              "      <th>std</th>\n",
              "      <td>NaN</td>\n",
              "      <td>16,860.7</td>\n",
              "      <td>NaN</td>\n",
              "      <td>NaN</td>\n",
              "      <td>574,988.9</td>\n",
              "      <td>NaN</td>\n",
              "      <td>NaN</td>\n",
              "      <td>46.4</td>\n",
              "      <td>80.6</td>\n",
              "      <td>NaN</td>\n",
              "    </tr>\n",
              "    <tr>\n",
              "      <th>min</th>\n",
              "      <td>NaN</td>\n",
              "      <td>1.0</td>\n",
              "      <td>NaN</td>\n",
              "      <td>NaN</td>\n",
              "      <td>0.0</td>\n",
              "      <td>NaN</td>\n",
              "      <td>NaN</td>\n",
              "      <td>-87.4</td>\n",
              "      <td>-165.4</td>\n",
              "      <td>NaN</td>\n",
              "    </tr>\n",
              "    <tr>\n",
              "      <th>25%</th>\n",
              "      <td>NaN</td>\n",
              "      <td>12,688.8</td>\n",
              "      <td>NaN</td>\n",
              "      <td>NaN</td>\n",
              "      <td>7.2</td>\n",
              "      <td>NaN</td>\n",
              "      <td>NaN</td>\n",
              "      <td>-76.7</td>\n",
              "      <td>0.0</td>\n",
              "      <td>NaN</td>\n",
              "    </tr>\n",
              "    <tr>\n",
              "      <th>50%</th>\n",
              "      <td>NaN</td>\n",
              "      <td>24,261.5</td>\n",
              "      <td>NaN</td>\n",
              "      <td>NaN</td>\n",
              "      <td>32.6</td>\n",
              "      <td>NaN</td>\n",
              "      <td>NaN</td>\n",
              "      <td>-71.5</td>\n",
              "      <td>35.7</td>\n",
              "      <td>NaN</td>\n",
              "    </tr>\n",
              "    <tr>\n",
              "      <th>75%</th>\n",
              "      <td>NaN</td>\n",
              "      <td>40,656.8</td>\n",
              "      <td>NaN</td>\n",
              "      <td>NaN</td>\n",
              "      <td>202.6</td>\n",
              "      <td>NaN</td>\n",
              "      <td>NaN</td>\n",
              "      <td>0.0</td>\n",
              "      <td>157.2</td>\n",
              "      <td>NaN</td>\n",
              "    </tr>\n",
              "    <tr>\n",
              "      <th>max</th>\n",
              "      <td>NaN</td>\n",
              "      <td>57,458.0</td>\n",
              "      <td>NaN</td>\n",
              "      <td>NaN</td>\n",
              "      <td>60,000,000.0</td>\n",
              "      <td>NaN</td>\n",
              "      <td>NaN</td>\n",
              "      <td>81.2</td>\n",
              "      <td>354.5</td>\n",
              "      <td>NaN</td>\n",
              "    </tr>\n",
              "  </tbody>\n",
              "</table>\n",
              "</div>"
            ],
            "text/plain": [
              "                          name       id nametype  ...   reclat  reclong GeoLocation\n",
              "count                    45716 45,716.0    45716  ... 38,401.0 38,401.0       38401\n",
              "unique                   45716      nan        2  ...      nan      nan       17100\n",
              "top     Grove Mountains 052978      nan    Valid  ...      nan      nan  (0.0, 0.0)\n",
              "freq                         1      nan    45641  ...      nan      nan        6214\n",
              "mean                       NaN 26,889.7      NaN  ...    -39.1     61.1         NaN\n",
              "std                        NaN 16,860.7      NaN  ...     46.4     80.6         NaN\n",
              "min                        NaN      1.0      NaN  ...    -87.4   -165.4         NaN\n",
              "25%                        NaN 12,688.8      NaN  ...    -76.7      0.0         NaN\n",
              "50%                        NaN 24,261.5      NaN  ...    -71.5     35.7         NaN\n",
              "75%                        NaN 40,656.8      NaN  ...      0.0    157.2         NaN\n",
              "max                        NaN 57,458.0      NaN  ...     81.2    354.5         NaN\n",
              "\n",
              "[11 rows x 10 columns]"
            ]
          },
          "metadata": {},
          "execution_count": 15
        }
      ]
    },
    {
      "cell_type": "code",
      "metadata": {
        "colab": {
          "base_uri": "https://localhost:8080/"
        },
        "id": "6Hgx_a297hv3",
        "outputId": "ccfc9b9d-d8b5-4142-f057-858dbb6b106a"
      },
      "source": [
        "df_meteorites.info() # Me muestra de que tipo son mis variables. Veo los strings como objects"
      ],
      "execution_count": 16,
      "outputs": [
        {
          "output_type": "stream",
          "name": "stdout",
          "text": [
            "<class 'pandas.core.frame.DataFrame'>\n",
            "RangeIndex: 45716 entries, 0 to 45715\n",
            "Data columns (total 10 columns):\n",
            " #   Column       Non-Null Count  Dtype  \n",
            "---  ------       --------------  -----  \n",
            " 0   name         45716 non-null  object \n",
            " 1   id           45716 non-null  int64  \n",
            " 2   nametype     45716 non-null  object \n",
            " 3   recclass     45716 non-null  object \n",
            " 4   mass (g)     45585 non-null  float64\n",
            " 5   fall         45716 non-null  object \n",
            " 6   year         45425 non-null  object \n",
            " 7   reclat       38401 non-null  float64\n",
            " 8   reclong      38401 non-null  float64\n",
            " 9   GeoLocation  38401 non-null  object \n",
            "dtypes: float64(3), int64(1), object(6)\n",
            "memory usage: 3.5+ MB\n"
          ]
        }
      ]
    },
    {
      "cell_type": "code",
      "metadata": {
        "colab": {
          "base_uri": "https://localhost:8080/"
        },
        "id": "r25V5yzI7_-p",
        "outputId": "074fdc52-a623-4b80-ede7-f8aa5185bc84"
      },
      "source": [
        "df_meteorites.convert_dtypes().dtypes # Con este comando veo mis strings como strings"
      ],
      "execution_count": 17,
      "outputs": [
        {
          "output_type": "execute_result",
          "data": {
            "text/plain": [
              "name            string\n",
              "id               Int64\n",
              "nametype        string\n",
              "recclass        string\n",
              "mass (g)       float64\n",
              "fall            string\n",
              "year            string\n",
              "reclat         float64\n",
              "reclong        float64\n",
              "GeoLocation     string\n",
              "dtype: object"
            ]
          },
          "metadata": {},
          "execution_count": 17
        }
      ]
    },
    {
      "cell_type": "markdown",
      "metadata": {
        "id": "Kd-6afb4-dvT"
      },
      "source": [
        "**¿Qué es una variable categórica y para que sirve? **"
      ]
    },
    {
      "cell_type": "code",
      "metadata": {
        "colab": {
          "base_uri": "https://localhost:8080/"
        },
        "id": "BzWzN_Mc-kCl",
        "outputId": "9a14cc4d-8892-4d6b-8b34-05aeddc4860a"
      },
      "source": [
        "df_meteorites.nunique() # nunique me muestra la cantidad de valores unicos que tiene cada variable"
      ],
      "execution_count": 19,
      "outputs": [
        {
          "output_type": "execute_result",
          "data": {
            "text/plain": [
              "name           45716\n",
              "id             45716\n",
              "nametype           2\n",
              "recclass         466\n",
              "mass (g)       12576\n",
              "fall               2\n",
              "year             266\n",
              "reclat         12738\n",
              "reclong        14640\n",
              "GeoLocation    17100\n",
              "dtype: int64"
            ]
          },
          "metadata": {},
          "execution_count": 19
        }
      ]
    },
    {
      "cell_type": "markdown",
      "metadata": {
        "id": "H5TZye_6-xAX"
      },
      "source": [
        "**Nos encontramos con que tenemos dos variables: nametype y fall que tienen solamente dos valores distintos. Pero no son boolenana. En general son variables categoricas. Veamos entonces cuales son: **"
      ]
    },
    {
      "cell_type": "code",
      "metadata": {
        "colab": {
          "base_uri": "https://localhost:8080/"
        },
        "id": "Ru7QoooV_CNW",
        "outputId": "173f9bf7-c799-4915-f861-10b36980a743"
      },
      "source": [
        "df_meteorites[\"fall\"]"
      ],
      "execution_count": 20,
      "outputs": [
        {
          "output_type": "execute_result",
          "data": {
            "text/plain": [
              "0         Fell\n",
              "1         Fell\n",
              "2         Fell\n",
              "3         Fell\n",
              "4         Fell\n",
              "         ...  \n",
              "45711    Found\n",
              "45712    Found\n",
              "45713    Found\n",
              "45714    Found\n",
              "45715    Found\n",
              "Name: fall, Length: 45716, dtype: object"
            ]
          },
          "metadata": {},
          "execution_count": 20
        }
      ]
    },
    {
      "cell_type": "code",
      "metadata": {
        "colab": {
          "base_uri": "https://localhost:8080/"
        },
        "id": "L6EyJ2wz_CTG",
        "outputId": "b33e8512-0996-409f-d989-3e7f264e0d31"
      },
      "source": [
        "df_meteorites[\"nametype\"].sample(15)"
      ],
      "execution_count": 21,
      "outputs": [
        {
          "output_type": "execute_result",
          "data": {
            "text/plain": [
              "36062    Valid\n",
              "29187    Valid\n",
              "27740    Valid\n",
              "12097    Valid\n",
              "4509     Valid\n",
              "19496    Valid\n",
              "18462    Valid\n",
              "26802    Valid\n",
              "42093    Valid\n",
              "9771     Valid\n",
              "5426     Valid\n",
              "13456    Valid\n",
              "31470    Valid\n",
              "23692    Valid\n",
              "27722    Valid\n",
              "Name: nametype, dtype: object"
            ]
          },
          "metadata": {},
          "execution_count": 21
        }
      ]
    },
    {
      "cell_type": "code",
      "metadata": {
        "colab": {
          "base_uri": "https://localhost:8080/",
          "height": 520
        },
        "id": "bVoxQQef_Vcm",
        "outputId": "3d3796ea-6306-4758-ffae-14188715f8f0"
      },
      "source": [
        "df_meteorites[[\"fall\",\"nametype\"]].sample(15)"
      ],
      "execution_count": 22,
      "outputs": [
        {
          "output_type": "execute_result",
          "data": {
            "text/html": [
              "<div>\n",
              "<style scoped>\n",
              "    .dataframe tbody tr th:only-of-type {\n",
              "        vertical-align: middle;\n",
              "    }\n",
              "\n",
              "    .dataframe tbody tr th {\n",
              "        vertical-align: top;\n",
              "    }\n",
              "\n",
              "    .dataframe thead th {\n",
              "        text-align: right;\n",
              "    }\n",
              "</style>\n",
              "<table border=\"1\" class=\"dataframe\">\n",
              "  <thead>\n",
              "    <tr style=\"text-align: right;\">\n",
              "      <th></th>\n",
              "      <th>fall</th>\n",
              "      <th>nametype</th>\n",
              "    </tr>\n",
              "  </thead>\n",
              "  <tbody>\n",
              "    <tr>\n",
              "      <th>12384</th>\n",
              "      <td>Found</td>\n",
              "      <td>Valid</td>\n",
              "    </tr>\n",
              "    <tr>\n",
              "      <th>17797</th>\n",
              "      <td>Found</td>\n",
              "      <td>Valid</td>\n",
              "    </tr>\n",
              "    <tr>\n",
              "      <th>33052</th>\n",
              "      <td>Found</td>\n",
              "      <td>Valid</td>\n",
              "    </tr>\n",
              "    <tr>\n",
              "      <th>2332</th>\n",
              "      <td>Found</td>\n",
              "      <td>Valid</td>\n",
              "    </tr>\n",
              "    <tr>\n",
              "      <th>24127</th>\n",
              "      <td>Found</td>\n",
              "      <td>Valid</td>\n",
              "    </tr>\n",
              "    <tr>\n",
              "      <th>12967</th>\n",
              "      <td>Found</td>\n",
              "      <td>Valid</td>\n",
              "    </tr>\n",
              "    <tr>\n",
              "      <th>14634</th>\n",
              "      <td>Found</td>\n",
              "      <td>Valid</td>\n",
              "    </tr>\n",
              "    <tr>\n",
              "      <th>22891</th>\n",
              "      <td>Found</td>\n",
              "      <td>Valid</td>\n",
              "    </tr>\n",
              "    <tr>\n",
              "      <th>17249</th>\n",
              "      <td>Found</td>\n",
              "      <td>Valid</td>\n",
              "    </tr>\n",
              "    <tr>\n",
              "      <th>10010</th>\n",
              "      <td>Found</td>\n",
              "      <td>Valid</td>\n",
              "    </tr>\n",
              "    <tr>\n",
              "      <th>40864</th>\n",
              "      <td>Found</td>\n",
              "      <td>Valid</td>\n",
              "    </tr>\n",
              "    <tr>\n",
              "      <th>14234</th>\n",
              "      <td>Found</td>\n",
              "      <td>Valid</td>\n",
              "    </tr>\n",
              "    <tr>\n",
              "      <th>13189</th>\n",
              "      <td>Found</td>\n",
              "      <td>Valid</td>\n",
              "    </tr>\n",
              "    <tr>\n",
              "      <th>43763</th>\n",
              "      <td>Found</td>\n",
              "      <td>Valid</td>\n",
              "    </tr>\n",
              "    <tr>\n",
              "      <th>1092</th>\n",
              "      <td>Fell</td>\n",
              "      <td>Valid</td>\n",
              "    </tr>\n",
              "  </tbody>\n",
              "</table>\n",
              "</div>"
            ],
            "text/plain": [
              "        fall nametype\n",
              "12384  Found    Valid\n",
              "17797  Found    Valid\n",
              "33052  Found    Valid\n",
              "2332   Found    Valid\n",
              "24127  Found    Valid\n",
              "12967  Found    Valid\n",
              "14634  Found    Valid\n",
              "22891  Found    Valid\n",
              "17249  Found    Valid\n",
              "10010  Found    Valid\n",
              "40864  Found    Valid\n",
              "14234  Found    Valid\n",
              "13189  Found    Valid\n",
              "43763  Found    Valid\n",
              "1092    Fell    Valid"
            ]
          },
          "metadata": {},
          "execution_count": 22
        }
      ]
    },
    {
      "cell_type": "markdown",
      "metadata": {
        "id": "Ct05U1_y_0Wt"
      },
      "source": [
        "**Entonces las voy a renombrar como variables categoricas de la siguiente forma:**"
      ]
    },
    {
      "cell_type": "code",
      "metadata": {
        "id": "5PUGuFxw_6DI"
      },
      "source": [
        "df_meteorites[[\"fall\",\"nametype\"]] = df_meteorites[[\"fall\",\"nametype\"]].astype(\"category\")"
      ],
      "execution_count": 23,
      "outputs": []
    },
    {
      "cell_type": "markdown",
      "metadata": {
        "id": "Mg2Xjy5cAFsv"
      },
      "source": [
        "**Veamos ahora los tipos de variables con la función dtypes**"
      ]
    },
    {
      "cell_type": "code",
      "metadata": {
        "colab": {
          "base_uri": "https://localhost:8080/"
        },
        "id": "hhqTsMTsALy-",
        "outputId": "7621c2b7-03a4-43c2-e71c-60f59da11531"
      },
      "source": [
        "df_meteorites.dtypes"
      ],
      "execution_count": 24,
      "outputs": [
        {
          "output_type": "execute_result",
          "data": {
            "text/plain": [
              "name             object\n",
              "id                int64\n",
              "nametype       category\n",
              "recclass         object\n",
              "mass (g)        float64\n",
              "fall           category\n",
              "year             object\n",
              "reclat          float64\n",
              "reclong         float64\n",
              "GeoLocation      object\n",
              "dtype: object"
            ]
          },
          "metadata": {},
          "execution_count": 24
        }
      ]
    },
    {
      "cell_type": "markdown",
      "metadata": {
        "id": "DVfLCx0IAWzv"
      },
      "source": [
        "**Puedo ver que valores componen la categoria con la función unique()**"
      ]
    },
    {
      "cell_type": "code",
      "metadata": {
        "colab": {
          "base_uri": "https://localhost:8080/"
        },
        "id": "k-4tCx2cAcT3",
        "outputId": "52a2b056-3960-466a-8464-e520781ae984"
      },
      "source": [
        "df_meteorites[\"fall\"].unique()"
      ],
      "execution_count": 25,
      "outputs": [
        {
          "output_type": "execute_result",
          "data": {
            "text/plain": [
              "['Fell', 'Found']\n",
              "Categories (2, object): ['Fell', 'Found']"
            ]
          },
          "metadata": {},
          "execution_count": 25
        }
      ]
    },
    {
      "cell_type": "code",
      "metadata": {
        "colab": {
          "base_uri": "https://localhost:8080/"
        },
        "id": "98xetdUxAiD2",
        "outputId": "648dcfe6-edf7-4c42-d7fe-097bb0caa49e"
      },
      "source": [
        "df_meteorites[\"nametype\"].unique()"
      ],
      "execution_count": 26,
      "outputs": [
        {
          "output_type": "execute_result",
          "data": {
            "text/plain": [
              "['Valid', 'Relict']\n",
              "Categories (2, object): ['Valid', 'Relict']"
            ]
          },
          "metadata": {},
          "execution_count": 26
        }
      ]
    },
    {
      "cell_type": "code",
      "metadata": {
        "id": "J_SazciJAlrO"
      },
      "source": [
        "df_meteorites[\"year\"].unique()"
      ],
      "execution_count": null,
      "outputs": []
    },
    {
      "cell_type": "markdown",
      "metadata": {
        "id": "eKXgXdyzA12A"
      },
      "source": [
        "**Puedo saber tmb la frecuencia con que aparece cada una de los valores en mi variable con la función .value_counts()**"
      ]
    },
    {
      "cell_type": "code",
      "metadata": {
        "colab": {
          "base_uri": "https://localhost:8080/"
        },
        "id": "HqaNagHrAunD",
        "outputId": "dbf9c56d-5663-4d70-e8f1-78759de005d8"
      },
      "source": [
        "df_meteorites[\"fall\"].value_counts()"
      ],
      "execution_count": 28,
      "outputs": [
        {
          "output_type": "execute_result",
          "data": {
            "text/plain": [
              "Found    44609\n",
              "Fell      1107\n",
              "Name: fall, dtype: int64"
            ]
          },
          "metadata": {},
          "execution_count": 28
        }
      ]
    },
    {
      "cell_type": "code",
      "metadata": {
        "colab": {
          "base_uri": "https://localhost:8080/"
        },
        "id": "zkmS8irwBF6H",
        "outputId": "c96f9554-764c-466e-c662-ba2605e8778a"
      },
      "source": [
        "df_meteorites[\"nametype\"].value_counts()"
      ],
      "execution_count": 29,
      "outputs": [
        {
          "output_type": "execute_result",
          "data": {
            "text/plain": [
              "Valid     45641\n",
              "Relict       75\n",
              "Name: nametype, dtype: int64"
            ]
          },
          "metadata": {},
          "execution_count": 29
        }
      ]
    },
    {
      "cell_type": "markdown",
      "metadata": {
        "id": "On3dgU5-BUvL"
      },
      "source": [
        "**Podemos convertir nuestras variables categoricas a variables dummies. Es decir variables cuyo valor es 1 o 0 y esto nos sirve para numerizar nuestras variables tipo strings**\n",
        "\n"
      ]
    },
    {
      "cell_type": "code",
      "metadata": {
        "colab": {
          "base_uri": "https://localhost:8080/",
          "height": 423
        },
        "id": "LEDVXXtVBgkl",
        "outputId": "3981bba2-cb56-43a2-d230-8d7799a097b8"
      },
      "source": [
        "pd.get_dummies(df_meteorites[\"fall\"])"
      ],
      "execution_count": 30,
      "outputs": [
        {
          "output_type": "execute_result",
          "data": {
            "text/html": [
              "<div>\n",
              "<style scoped>\n",
              "    .dataframe tbody tr th:only-of-type {\n",
              "        vertical-align: middle;\n",
              "    }\n",
              "\n",
              "    .dataframe tbody tr th {\n",
              "        vertical-align: top;\n",
              "    }\n",
              "\n",
              "    .dataframe thead th {\n",
              "        text-align: right;\n",
              "    }\n",
              "</style>\n",
              "<table border=\"1\" class=\"dataframe\">\n",
              "  <thead>\n",
              "    <tr style=\"text-align: right;\">\n",
              "      <th></th>\n",
              "      <th>Fell</th>\n",
              "      <th>Found</th>\n",
              "    </tr>\n",
              "  </thead>\n",
              "  <tbody>\n",
              "    <tr>\n",
              "      <th>0</th>\n",
              "      <td>1</td>\n",
              "      <td>0</td>\n",
              "    </tr>\n",
              "    <tr>\n",
              "      <th>1</th>\n",
              "      <td>1</td>\n",
              "      <td>0</td>\n",
              "    </tr>\n",
              "    <tr>\n",
              "      <th>2</th>\n",
              "      <td>1</td>\n",
              "      <td>0</td>\n",
              "    </tr>\n",
              "    <tr>\n",
              "      <th>3</th>\n",
              "      <td>1</td>\n",
              "      <td>0</td>\n",
              "    </tr>\n",
              "    <tr>\n",
              "      <th>4</th>\n",
              "      <td>1</td>\n",
              "      <td>0</td>\n",
              "    </tr>\n",
              "    <tr>\n",
              "      <th>...</th>\n",
              "      <td>...</td>\n",
              "      <td>...</td>\n",
              "    </tr>\n",
              "    <tr>\n",
              "      <th>45711</th>\n",
              "      <td>0</td>\n",
              "      <td>1</td>\n",
              "    </tr>\n",
              "    <tr>\n",
              "      <th>45712</th>\n",
              "      <td>0</td>\n",
              "      <td>1</td>\n",
              "    </tr>\n",
              "    <tr>\n",
              "      <th>45713</th>\n",
              "      <td>0</td>\n",
              "      <td>1</td>\n",
              "    </tr>\n",
              "    <tr>\n",
              "      <th>45714</th>\n",
              "      <td>0</td>\n",
              "      <td>1</td>\n",
              "    </tr>\n",
              "    <tr>\n",
              "      <th>45715</th>\n",
              "      <td>0</td>\n",
              "      <td>1</td>\n",
              "    </tr>\n",
              "  </tbody>\n",
              "</table>\n",
              "<p>45716 rows × 2 columns</p>\n",
              "</div>"
            ],
            "text/plain": [
              "       Fell  Found\n",
              "0         1      0\n",
              "1         1      0\n",
              "2         1      0\n",
              "3         1      0\n",
              "4         1      0\n",
              "...     ...    ...\n",
              "45711     0      1\n",
              "45712     0      1\n",
              "45713     0      1\n",
              "45714     0      1\n",
              "45715     0      1\n",
              "\n",
              "[45716 rows x 2 columns]"
            ]
          },
          "metadata": {},
          "execution_count": 30
        }
      ]
    },
    {
      "cell_type": "markdown",
      "metadata": {
        "id": "sYhZOwUAB6uC"
      },
      "source": [
        "**Tmb puedo crear nuevas columnas con la siguiente sintaxis... Voy a hacer una columna nueva rellena de \"1\"**"
      ]
    },
    {
      "cell_type": "code",
      "metadata": {
        "colab": {
          "base_uri": "https://localhost:8080/",
          "height": 791
        },
        "id": "KTxCtmIUCEp3",
        "outputId": "bd2c90c5-454c-4975-abc7-f660600df4e1"
      },
      "source": [
        "df_meteorites[\"ones\"] = 1\n",
        "df_meteorites"
      ],
      "execution_count": 31,
      "outputs": [
        {
          "output_type": "execute_result",
          "data": {
            "text/html": [
              "<div>\n",
              "<style scoped>\n",
              "    .dataframe tbody tr th:only-of-type {\n",
              "        vertical-align: middle;\n",
              "    }\n",
              "\n",
              "    .dataframe tbody tr th {\n",
              "        vertical-align: top;\n",
              "    }\n",
              "\n",
              "    .dataframe thead th {\n",
              "        text-align: right;\n",
              "    }\n",
              "</style>\n",
              "<table border=\"1\" class=\"dataframe\">\n",
              "  <thead>\n",
              "    <tr style=\"text-align: right;\">\n",
              "      <th></th>\n",
              "      <th>name</th>\n",
              "      <th>id</th>\n",
              "      <th>nametype</th>\n",
              "      <th>recclass</th>\n",
              "      <th>mass (g)</th>\n",
              "      <th>fall</th>\n",
              "      <th>year</th>\n",
              "      <th>reclat</th>\n",
              "      <th>reclong</th>\n",
              "      <th>GeoLocation</th>\n",
              "      <th>ones</th>\n",
              "    </tr>\n",
              "  </thead>\n",
              "  <tbody>\n",
              "    <tr>\n",
              "      <th>0</th>\n",
              "      <td>Aachen</td>\n",
              "      <td>1</td>\n",
              "      <td>Valid</td>\n",
              "      <td>L5</td>\n",
              "      <td>21.0</td>\n",
              "      <td>Fell</td>\n",
              "      <td>01/01/1880 12:00:00 AM</td>\n",
              "      <td>50.8</td>\n",
              "      <td>6.1</td>\n",
              "      <td>(50.775, 6.08333)</td>\n",
              "      <td>1</td>\n",
              "    </tr>\n",
              "    <tr>\n",
              "      <th>1</th>\n",
              "      <td>Aarhus</td>\n",
              "      <td>2</td>\n",
              "      <td>Valid</td>\n",
              "      <td>H6</td>\n",
              "      <td>720.0</td>\n",
              "      <td>Fell</td>\n",
              "      <td>01/01/1951 12:00:00 AM</td>\n",
              "      <td>56.2</td>\n",
              "      <td>10.2</td>\n",
              "      <td>(56.18333, 10.23333)</td>\n",
              "      <td>1</td>\n",
              "    </tr>\n",
              "    <tr>\n",
              "      <th>2</th>\n",
              "      <td>Abee</td>\n",
              "      <td>6</td>\n",
              "      <td>Valid</td>\n",
              "      <td>EH4</td>\n",
              "      <td>107,000.0</td>\n",
              "      <td>Fell</td>\n",
              "      <td>01/01/1952 12:00:00 AM</td>\n",
              "      <td>54.2</td>\n",
              "      <td>-113.0</td>\n",
              "      <td>(54.21667, -113.0)</td>\n",
              "      <td>1</td>\n",
              "    </tr>\n",
              "    <tr>\n",
              "      <th>3</th>\n",
              "      <td>Acapulco</td>\n",
              "      <td>10</td>\n",
              "      <td>Valid</td>\n",
              "      <td>Acapulcoite</td>\n",
              "      <td>1,914.0</td>\n",
              "      <td>Fell</td>\n",
              "      <td>01/01/1976 12:00:00 AM</td>\n",
              "      <td>16.9</td>\n",
              "      <td>-99.9</td>\n",
              "      <td>(16.88333, -99.9)</td>\n",
              "      <td>1</td>\n",
              "    </tr>\n",
              "    <tr>\n",
              "      <th>4</th>\n",
              "      <td>Achiras</td>\n",
              "      <td>370</td>\n",
              "      <td>Valid</td>\n",
              "      <td>L6</td>\n",
              "      <td>780.0</td>\n",
              "      <td>Fell</td>\n",
              "      <td>01/01/1902 12:00:00 AM</td>\n",
              "      <td>-33.2</td>\n",
              "      <td>-65.0</td>\n",
              "      <td>(-33.16667, -64.95)</td>\n",
              "      <td>1</td>\n",
              "    </tr>\n",
              "    <tr>\n",
              "      <th>...</th>\n",
              "      <td>...</td>\n",
              "      <td>...</td>\n",
              "      <td>...</td>\n",
              "      <td>...</td>\n",
              "      <td>...</td>\n",
              "      <td>...</td>\n",
              "      <td>...</td>\n",
              "      <td>...</td>\n",
              "      <td>...</td>\n",
              "      <td>...</td>\n",
              "      <td>...</td>\n",
              "    </tr>\n",
              "    <tr>\n",
              "      <th>45711</th>\n",
              "      <td>Zillah 002</td>\n",
              "      <td>31356</td>\n",
              "      <td>Valid</td>\n",
              "      <td>Eucrite</td>\n",
              "      <td>172.0</td>\n",
              "      <td>Found</td>\n",
              "      <td>01/01/1990 12:00:00 AM</td>\n",
              "      <td>29.0</td>\n",
              "      <td>17.0</td>\n",
              "      <td>(29.037, 17.0185)</td>\n",
              "      <td>1</td>\n",
              "    </tr>\n",
              "    <tr>\n",
              "      <th>45712</th>\n",
              "      <td>Zinder</td>\n",
              "      <td>30409</td>\n",
              "      <td>Valid</td>\n",
              "      <td>Pallasite, ungrouped</td>\n",
              "      <td>46.0</td>\n",
              "      <td>Found</td>\n",
              "      <td>01/01/1999 12:00:00 AM</td>\n",
              "      <td>13.8</td>\n",
              "      <td>9.0</td>\n",
              "      <td>(13.78333, 8.96667)</td>\n",
              "      <td>1</td>\n",
              "    </tr>\n",
              "    <tr>\n",
              "      <th>45713</th>\n",
              "      <td>Zlin</td>\n",
              "      <td>30410</td>\n",
              "      <td>Valid</td>\n",
              "      <td>H4</td>\n",
              "      <td>3.3</td>\n",
              "      <td>Found</td>\n",
              "      <td>01/01/1939 12:00:00 AM</td>\n",
              "      <td>49.2</td>\n",
              "      <td>17.7</td>\n",
              "      <td>(49.25, 17.66667)</td>\n",
              "      <td>1</td>\n",
              "    </tr>\n",
              "    <tr>\n",
              "      <th>45714</th>\n",
              "      <td>Zubkovsky</td>\n",
              "      <td>31357</td>\n",
              "      <td>Valid</td>\n",
              "      <td>L6</td>\n",
              "      <td>2,167.0</td>\n",
              "      <td>Found</td>\n",
              "      <td>01/01/2003 12:00:00 AM</td>\n",
              "      <td>49.8</td>\n",
              "      <td>41.5</td>\n",
              "      <td>(49.78917, 41.5046)</td>\n",
              "      <td>1</td>\n",
              "    </tr>\n",
              "    <tr>\n",
              "      <th>45715</th>\n",
              "      <td>Zulu Queen</td>\n",
              "      <td>30414</td>\n",
              "      <td>Valid</td>\n",
              "      <td>L3.7</td>\n",
              "      <td>200.0</td>\n",
              "      <td>Found</td>\n",
              "      <td>01/01/1976 12:00:00 AM</td>\n",
              "      <td>34.0</td>\n",
              "      <td>-115.7</td>\n",
              "      <td>(33.98333, -115.68333)</td>\n",
              "      <td>1</td>\n",
              "    </tr>\n",
              "  </tbody>\n",
              "</table>\n",
              "<p>45716 rows × 11 columns</p>\n",
              "</div>"
            ],
            "text/plain": [
              "             name     id nametype  ... reclong             GeoLocation ones\n",
              "0          Aachen      1    Valid  ...     6.1       (50.775, 6.08333)    1\n",
              "1          Aarhus      2    Valid  ...    10.2    (56.18333, 10.23333)    1\n",
              "2            Abee      6    Valid  ...  -113.0      (54.21667, -113.0)    1\n",
              "3        Acapulco     10    Valid  ...   -99.9       (16.88333, -99.9)    1\n",
              "4         Achiras    370    Valid  ...   -65.0     (-33.16667, -64.95)    1\n",
              "...           ...    ...      ...  ...     ...                     ...  ...\n",
              "45711  Zillah 002  31356    Valid  ...    17.0       (29.037, 17.0185)    1\n",
              "45712      Zinder  30409    Valid  ...     9.0     (13.78333, 8.96667)    1\n",
              "45713        Zlin  30410    Valid  ...    17.7       (49.25, 17.66667)    1\n",
              "45714   Zubkovsky  31357    Valid  ...    41.5     (49.78917, 41.5046)    1\n",
              "45715  Zulu Queen  30414    Valid  ...  -115.7  (33.98333, -115.68333)    1\n",
              "\n",
              "[45716 rows x 11 columns]"
            ]
          },
          "metadata": {},
          "execution_count": 31
        }
      ]
    },
    {
      "cell_type": "markdown",
      "metadata": {
        "id": "AjSnQse_Cmnv"
      },
      "source": [
        "**Combinando mi variable dummie con la creación de nuevas columnas puedo incorporar mi dummie a mi dataframe de la siguiente manera: **"
      ]
    },
    {
      "cell_type": "code",
      "metadata": {
        "id": "MAhMh2ZeCvA_"
      },
      "source": [
        "df_meteorites[[\"fell\",\"found\"]] = pd.get_dummies(df_meteorites[\"fall\"])\n"
      ],
      "execution_count": 32,
      "outputs": []
    },
    {
      "cell_type": "code",
      "metadata": {
        "colab": {
          "base_uri": "https://localhost:8080/",
          "height": 791
        },
        "id": "gG0tu9pjDGYs",
        "outputId": "bc1d3f66-f063-473c-e523-2d836d86b77d"
      },
      "source": [
        "df_meteorites"
      ],
      "execution_count": 33,
      "outputs": [
        {
          "output_type": "execute_result",
          "data": {
            "text/html": [
              "<div>\n",
              "<style scoped>\n",
              "    .dataframe tbody tr th:only-of-type {\n",
              "        vertical-align: middle;\n",
              "    }\n",
              "\n",
              "    .dataframe tbody tr th {\n",
              "        vertical-align: top;\n",
              "    }\n",
              "\n",
              "    .dataframe thead th {\n",
              "        text-align: right;\n",
              "    }\n",
              "</style>\n",
              "<table border=\"1\" class=\"dataframe\">\n",
              "  <thead>\n",
              "    <tr style=\"text-align: right;\">\n",
              "      <th></th>\n",
              "      <th>name</th>\n",
              "      <th>id</th>\n",
              "      <th>nametype</th>\n",
              "      <th>recclass</th>\n",
              "      <th>mass (g)</th>\n",
              "      <th>fall</th>\n",
              "      <th>year</th>\n",
              "      <th>reclat</th>\n",
              "      <th>reclong</th>\n",
              "      <th>GeoLocation</th>\n",
              "      <th>ones</th>\n",
              "      <th>fell</th>\n",
              "      <th>found</th>\n",
              "    </tr>\n",
              "  </thead>\n",
              "  <tbody>\n",
              "    <tr>\n",
              "      <th>0</th>\n",
              "      <td>Aachen</td>\n",
              "      <td>1</td>\n",
              "      <td>Valid</td>\n",
              "      <td>L5</td>\n",
              "      <td>21.0</td>\n",
              "      <td>Fell</td>\n",
              "      <td>01/01/1880 12:00:00 AM</td>\n",
              "      <td>50.8</td>\n",
              "      <td>6.1</td>\n",
              "      <td>(50.775, 6.08333)</td>\n",
              "      <td>1</td>\n",
              "      <td>1</td>\n",
              "      <td>0</td>\n",
              "    </tr>\n",
              "    <tr>\n",
              "      <th>1</th>\n",
              "      <td>Aarhus</td>\n",
              "      <td>2</td>\n",
              "      <td>Valid</td>\n",
              "      <td>H6</td>\n",
              "      <td>720.0</td>\n",
              "      <td>Fell</td>\n",
              "      <td>01/01/1951 12:00:00 AM</td>\n",
              "      <td>56.2</td>\n",
              "      <td>10.2</td>\n",
              "      <td>(56.18333, 10.23333)</td>\n",
              "      <td>1</td>\n",
              "      <td>1</td>\n",
              "      <td>0</td>\n",
              "    </tr>\n",
              "    <tr>\n",
              "      <th>2</th>\n",
              "      <td>Abee</td>\n",
              "      <td>6</td>\n",
              "      <td>Valid</td>\n",
              "      <td>EH4</td>\n",
              "      <td>107,000.0</td>\n",
              "      <td>Fell</td>\n",
              "      <td>01/01/1952 12:00:00 AM</td>\n",
              "      <td>54.2</td>\n",
              "      <td>-113.0</td>\n",
              "      <td>(54.21667, -113.0)</td>\n",
              "      <td>1</td>\n",
              "      <td>1</td>\n",
              "      <td>0</td>\n",
              "    </tr>\n",
              "    <tr>\n",
              "      <th>3</th>\n",
              "      <td>Acapulco</td>\n",
              "      <td>10</td>\n",
              "      <td>Valid</td>\n",
              "      <td>Acapulcoite</td>\n",
              "      <td>1,914.0</td>\n",
              "      <td>Fell</td>\n",
              "      <td>01/01/1976 12:00:00 AM</td>\n",
              "      <td>16.9</td>\n",
              "      <td>-99.9</td>\n",
              "      <td>(16.88333, -99.9)</td>\n",
              "      <td>1</td>\n",
              "      <td>1</td>\n",
              "      <td>0</td>\n",
              "    </tr>\n",
              "    <tr>\n",
              "      <th>4</th>\n",
              "      <td>Achiras</td>\n",
              "      <td>370</td>\n",
              "      <td>Valid</td>\n",
              "      <td>L6</td>\n",
              "      <td>780.0</td>\n",
              "      <td>Fell</td>\n",
              "      <td>01/01/1902 12:00:00 AM</td>\n",
              "      <td>-33.2</td>\n",
              "      <td>-65.0</td>\n",
              "      <td>(-33.16667, -64.95)</td>\n",
              "      <td>1</td>\n",
              "      <td>1</td>\n",
              "      <td>0</td>\n",
              "    </tr>\n",
              "    <tr>\n",
              "      <th>...</th>\n",
              "      <td>...</td>\n",
              "      <td>...</td>\n",
              "      <td>...</td>\n",
              "      <td>...</td>\n",
              "      <td>...</td>\n",
              "      <td>...</td>\n",
              "      <td>...</td>\n",
              "      <td>...</td>\n",
              "      <td>...</td>\n",
              "      <td>...</td>\n",
              "      <td>...</td>\n",
              "      <td>...</td>\n",
              "      <td>...</td>\n",
              "    </tr>\n",
              "    <tr>\n",
              "      <th>45711</th>\n",
              "      <td>Zillah 002</td>\n",
              "      <td>31356</td>\n",
              "      <td>Valid</td>\n",
              "      <td>Eucrite</td>\n",
              "      <td>172.0</td>\n",
              "      <td>Found</td>\n",
              "      <td>01/01/1990 12:00:00 AM</td>\n",
              "      <td>29.0</td>\n",
              "      <td>17.0</td>\n",
              "      <td>(29.037, 17.0185)</td>\n",
              "      <td>1</td>\n",
              "      <td>0</td>\n",
              "      <td>1</td>\n",
              "    </tr>\n",
              "    <tr>\n",
              "      <th>45712</th>\n",
              "      <td>Zinder</td>\n",
              "      <td>30409</td>\n",
              "      <td>Valid</td>\n",
              "      <td>Pallasite, ungrouped</td>\n",
              "      <td>46.0</td>\n",
              "      <td>Found</td>\n",
              "      <td>01/01/1999 12:00:00 AM</td>\n",
              "      <td>13.8</td>\n",
              "      <td>9.0</td>\n",
              "      <td>(13.78333, 8.96667)</td>\n",
              "      <td>1</td>\n",
              "      <td>0</td>\n",
              "      <td>1</td>\n",
              "    </tr>\n",
              "    <tr>\n",
              "      <th>45713</th>\n",
              "      <td>Zlin</td>\n",
              "      <td>30410</td>\n",
              "      <td>Valid</td>\n",
              "      <td>H4</td>\n",
              "      <td>3.3</td>\n",
              "      <td>Found</td>\n",
              "      <td>01/01/1939 12:00:00 AM</td>\n",
              "      <td>49.2</td>\n",
              "      <td>17.7</td>\n",
              "      <td>(49.25, 17.66667)</td>\n",
              "      <td>1</td>\n",
              "      <td>0</td>\n",
              "      <td>1</td>\n",
              "    </tr>\n",
              "    <tr>\n",
              "      <th>45714</th>\n",
              "      <td>Zubkovsky</td>\n",
              "      <td>31357</td>\n",
              "      <td>Valid</td>\n",
              "      <td>L6</td>\n",
              "      <td>2,167.0</td>\n",
              "      <td>Found</td>\n",
              "      <td>01/01/2003 12:00:00 AM</td>\n",
              "      <td>49.8</td>\n",
              "      <td>41.5</td>\n",
              "      <td>(49.78917, 41.5046)</td>\n",
              "      <td>1</td>\n",
              "      <td>0</td>\n",
              "      <td>1</td>\n",
              "    </tr>\n",
              "    <tr>\n",
              "      <th>45715</th>\n",
              "      <td>Zulu Queen</td>\n",
              "      <td>30414</td>\n",
              "      <td>Valid</td>\n",
              "      <td>L3.7</td>\n",
              "      <td>200.0</td>\n",
              "      <td>Found</td>\n",
              "      <td>01/01/1976 12:00:00 AM</td>\n",
              "      <td>34.0</td>\n",
              "      <td>-115.7</td>\n",
              "      <td>(33.98333, -115.68333)</td>\n",
              "      <td>1</td>\n",
              "      <td>0</td>\n",
              "      <td>1</td>\n",
              "    </tr>\n",
              "  </tbody>\n",
              "</table>\n",
              "<p>45716 rows × 13 columns</p>\n",
              "</div>"
            ],
            "text/plain": [
              "             name     id nametype  ... ones  fell found\n",
              "0          Aachen      1    Valid  ...    1     1     0\n",
              "1          Aarhus      2    Valid  ...    1     1     0\n",
              "2            Abee      6    Valid  ...    1     1     0\n",
              "3        Acapulco     10    Valid  ...    1     1     0\n",
              "4         Achiras    370    Valid  ...    1     1     0\n",
              "...           ...    ...      ...  ...  ...   ...   ...\n",
              "45711  Zillah 002  31356    Valid  ...    1     0     1\n",
              "45712      Zinder  30409    Valid  ...    1     0     1\n",
              "45713        Zlin  30410    Valid  ...    1     0     1\n",
              "45714   Zubkovsky  31357    Valid  ...    1     0     1\n",
              "45715  Zulu Queen  30414    Valid  ...    1     0     1\n",
              "\n",
              "[45716 rows x 13 columns]"
            ]
          },
          "metadata": {},
          "execution_count": 33
        }
      ]
    },
    {
      "cell_type": "markdown",
      "metadata": {
        "id": "S40ib9RuDRhz"
      },
      "source": [
        "**¿Como convertir una variable tipo string con datos de fechas a una variable tipo datetime?**"
      ]
    },
    {
      "cell_type": "code",
      "metadata": {
        "colab": {
          "base_uri": "https://localhost:8080/"
        },
        "id": "bi3GKTUsDXnt",
        "outputId": "2fe65bea-27fa-4173-e8dd-7f9999539461"
      },
      "source": [
        "df_meteorites[\"year\"]"
      ],
      "execution_count": 34,
      "outputs": [
        {
          "output_type": "execute_result",
          "data": {
            "text/plain": [
              "0        01/01/1880 12:00:00 AM\n",
              "1        01/01/1951 12:00:00 AM\n",
              "2        01/01/1952 12:00:00 AM\n",
              "3        01/01/1976 12:00:00 AM\n",
              "4        01/01/1902 12:00:00 AM\n",
              "                  ...          \n",
              "45711    01/01/1990 12:00:00 AM\n",
              "45712    01/01/1999 12:00:00 AM\n",
              "45713    01/01/1939 12:00:00 AM\n",
              "45714    01/01/2003 12:00:00 AM\n",
              "45715    01/01/1976 12:00:00 AM\n",
              "Name: year, Length: 45716, dtype: object"
            ]
          },
          "metadata": {},
          "execution_count": 34
        }
      ]
    },
    {
      "cell_type": "code",
      "metadata": {
        "colab": {
          "base_uri": "https://localhost:8080/"
        },
        "id": "5kDOcaeWDgaU",
        "outputId": "2490690b-5fd3-47bc-ce94-acb8c28004bb"
      },
      "source": [
        "pd.to_datetime(\n",
        "df_meteorites[\"year\"],\n",
        "errors = \"coerce\",\n",
        "format = \"%m/%d/%Y %H:%M:%S %p\" #defino el formato de la fecha primero, luego la hora y luego el tipo de hora: pm o am\n",
        ")"
      ],
      "execution_count": 35,
      "outputs": [
        {
          "output_type": "execute_result",
          "data": {
            "text/plain": [
              "0       1880-01-01 12:00:00\n",
              "1       1951-01-01 12:00:00\n",
              "2       1952-01-01 12:00:00\n",
              "3       1976-01-01 12:00:00\n",
              "4       1902-01-01 12:00:00\n",
              "                ...        \n",
              "45711   1990-01-01 12:00:00\n",
              "45712   1999-01-01 12:00:00\n",
              "45713   1939-01-01 12:00:00\n",
              "45714   2003-01-01 12:00:00\n",
              "45715   1976-01-01 12:00:00\n",
              "Name: year, Length: 45716, dtype: datetime64[ns]"
            ]
          },
          "metadata": {},
          "execution_count": 35
        }
      ]
    },
    {
      "cell_type": "code",
      "metadata": {
        "id": "A_wQjSnKEK23"
      },
      "source": [
        "df_meteorites[\"year\"] = pd.to_datetime(\n",
        "df_meteorites[\"year\"],\n",
        "errors = \"coerce\",\n",
        "format = \"%m/%d/%Y %H:%M:%S %p\" \n",
        ")"
      ],
      "execution_count": 36,
      "outputs": []
    },
    {
      "cell_type": "code",
      "metadata": {
        "colab": {
          "base_uri": "https://localhost:8080/"
        },
        "id": "o6iuaY85EUGc",
        "outputId": "1c22afcd-3f29-4685-c4ae-b13c614dddec"
      },
      "source": [
        "df_meteorites.dtypes"
      ],
      "execution_count": 37,
      "outputs": [
        {
          "output_type": "execute_result",
          "data": {
            "text/plain": [
              "name                   object\n",
              "id                      int64\n",
              "nametype             category\n",
              "recclass               object\n",
              "mass (g)              float64\n",
              "fall                 category\n",
              "year           datetime64[ns]\n",
              "reclat                float64\n",
              "reclong               float64\n",
              "GeoLocation            object\n",
              "ones                    int64\n",
              "fell                    uint8\n",
              "found                   uint8\n",
              "dtype: object"
            ]
          },
          "metadata": {},
          "execution_count": 37
        }
      ]
    },
    {
      "cell_type": "markdown",
      "metadata": {
        "id": "Wg-GXFRZEXej"
      },
      "source": [
        "**Listo!!! Year es un datetime64**"
      ]
    },
    {
      "cell_type": "markdown",
      "metadata": {
        "id": "utW04LK5EptN"
      },
      "source": [
        "**¿Como re escribir el nombre de una columna? **"
      ]
    },
    {
      "cell_type": "code",
      "metadata": {
        "id": "gU_OxsbAE1JG"
      },
      "source": [
        "df_meteorites.rename(columns={\"mass (g)\":\"mass\"},inplace=True) #El argumento inplace=True es para guardar los cambios directamente en mi file"
      ],
      "execution_count": 38,
      "outputs": []
    },
    {
      "cell_type": "code",
      "metadata": {
        "colab": {
          "base_uri": "https://localhost:8080/",
          "height": 791
        },
        "id": "wga88SRwFJpm",
        "outputId": "216af0dc-6a9d-4ad0-81f1-8698ab1a254c"
      },
      "source": [
        "df_meteorites"
      ],
      "execution_count": 39,
      "outputs": [
        {
          "output_type": "execute_result",
          "data": {
            "text/html": [
              "<div>\n",
              "<style scoped>\n",
              "    .dataframe tbody tr th:only-of-type {\n",
              "        vertical-align: middle;\n",
              "    }\n",
              "\n",
              "    .dataframe tbody tr th {\n",
              "        vertical-align: top;\n",
              "    }\n",
              "\n",
              "    .dataframe thead th {\n",
              "        text-align: right;\n",
              "    }\n",
              "</style>\n",
              "<table border=\"1\" class=\"dataframe\">\n",
              "  <thead>\n",
              "    <tr style=\"text-align: right;\">\n",
              "      <th></th>\n",
              "      <th>name</th>\n",
              "      <th>id</th>\n",
              "      <th>nametype</th>\n",
              "      <th>recclass</th>\n",
              "      <th>mass</th>\n",
              "      <th>fall</th>\n",
              "      <th>year</th>\n",
              "      <th>reclat</th>\n",
              "      <th>reclong</th>\n",
              "      <th>GeoLocation</th>\n",
              "      <th>ones</th>\n",
              "      <th>fell</th>\n",
              "      <th>found</th>\n",
              "    </tr>\n",
              "  </thead>\n",
              "  <tbody>\n",
              "    <tr>\n",
              "      <th>0</th>\n",
              "      <td>Aachen</td>\n",
              "      <td>1</td>\n",
              "      <td>Valid</td>\n",
              "      <td>L5</td>\n",
              "      <td>21.0</td>\n",
              "      <td>Fell</td>\n",
              "      <td>1880-01-01 12:00:00</td>\n",
              "      <td>50.8</td>\n",
              "      <td>6.1</td>\n",
              "      <td>(50.775, 6.08333)</td>\n",
              "      <td>1</td>\n",
              "      <td>1</td>\n",
              "      <td>0</td>\n",
              "    </tr>\n",
              "    <tr>\n",
              "      <th>1</th>\n",
              "      <td>Aarhus</td>\n",
              "      <td>2</td>\n",
              "      <td>Valid</td>\n",
              "      <td>H6</td>\n",
              "      <td>720.0</td>\n",
              "      <td>Fell</td>\n",
              "      <td>1951-01-01 12:00:00</td>\n",
              "      <td>56.2</td>\n",
              "      <td>10.2</td>\n",
              "      <td>(56.18333, 10.23333)</td>\n",
              "      <td>1</td>\n",
              "      <td>1</td>\n",
              "      <td>0</td>\n",
              "    </tr>\n",
              "    <tr>\n",
              "      <th>2</th>\n",
              "      <td>Abee</td>\n",
              "      <td>6</td>\n",
              "      <td>Valid</td>\n",
              "      <td>EH4</td>\n",
              "      <td>107,000.0</td>\n",
              "      <td>Fell</td>\n",
              "      <td>1952-01-01 12:00:00</td>\n",
              "      <td>54.2</td>\n",
              "      <td>-113.0</td>\n",
              "      <td>(54.21667, -113.0)</td>\n",
              "      <td>1</td>\n",
              "      <td>1</td>\n",
              "      <td>0</td>\n",
              "    </tr>\n",
              "    <tr>\n",
              "      <th>3</th>\n",
              "      <td>Acapulco</td>\n",
              "      <td>10</td>\n",
              "      <td>Valid</td>\n",
              "      <td>Acapulcoite</td>\n",
              "      <td>1,914.0</td>\n",
              "      <td>Fell</td>\n",
              "      <td>1976-01-01 12:00:00</td>\n",
              "      <td>16.9</td>\n",
              "      <td>-99.9</td>\n",
              "      <td>(16.88333, -99.9)</td>\n",
              "      <td>1</td>\n",
              "      <td>1</td>\n",
              "      <td>0</td>\n",
              "    </tr>\n",
              "    <tr>\n",
              "      <th>4</th>\n",
              "      <td>Achiras</td>\n",
              "      <td>370</td>\n",
              "      <td>Valid</td>\n",
              "      <td>L6</td>\n",
              "      <td>780.0</td>\n",
              "      <td>Fell</td>\n",
              "      <td>1902-01-01 12:00:00</td>\n",
              "      <td>-33.2</td>\n",
              "      <td>-65.0</td>\n",
              "      <td>(-33.16667, -64.95)</td>\n",
              "      <td>1</td>\n",
              "      <td>1</td>\n",
              "      <td>0</td>\n",
              "    </tr>\n",
              "    <tr>\n",
              "      <th>...</th>\n",
              "      <td>...</td>\n",
              "      <td>...</td>\n",
              "      <td>...</td>\n",
              "      <td>...</td>\n",
              "      <td>...</td>\n",
              "      <td>...</td>\n",
              "      <td>...</td>\n",
              "      <td>...</td>\n",
              "      <td>...</td>\n",
              "      <td>...</td>\n",
              "      <td>...</td>\n",
              "      <td>...</td>\n",
              "      <td>...</td>\n",
              "    </tr>\n",
              "    <tr>\n",
              "      <th>45711</th>\n",
              "      <td>Zillah 002</td>\n",
              "      <td>31356</td>\n",
              "      <td>Valid</td>\n",
              "      <td>Eucrite</td>\n",
              "      <td>172.0</td>\n",
              "      <td>Found</td>\n",
              "      <td>1990-01-01 12:00:00</td>\n",
              "      <td>29.0</td>\n",
              "      <td>17.0</td>\n",
              "      <td>(29.037, 17.0185)</td>\n",
              "      <td>1</td>\n",
              "      <td>0</td>\n",
              "      <td>1</td>\n",
              "    </tr>\n",
              "    <tr>\n",
              "      <th>45712</th>\n",
              "      <td>Zinder</td>\n",
              "      <td>30409</td>\n",
              "      <td>Valid</td>\n",
              "      <td>Pallasite, ungrouped</td>\n",
              "      <td>46.0</td>\n",
              "      <td>Found</td>\n",
              "      <td>1999-01-01 12:00:00</td>\n",
              "      <td>13.8</td>\n",
              "      <td>9.0</td>\n",
              "      <td>(13.78333, 8.96667)</td>\n",
              "      <td>1</td>\n",
              "      <td>0</td>\n",
              "      <td>1</td>\n",
              "    </tr>\n",
              "    <tr>\n",
              "      <th>45713</th>\n",
              "      <td>Zlin</td>\n",
              "      <td>30410</td>\n",
              "      <td>Valid</td>\n",
              "      <td>H4</td>\n",
              "      <td>3.3</td>\n",
              "      <td>Found</td>\n",
              "      <td>1939-01-01 12:00:00</td>\n",
              "      <td>49.2</td>\n",
              "      <td>17.7</td>\n",
              "      <td>(49.25, 17.66667)</td>\n",
              "      <td>1</td>\n",
              "      <td>0</td>\n",
              "      <td>1</td>\n",
              "    </tr>\n",
              "    <tr>\n",
              "      <th>45714</th>\n",
              "      <td>Zubkovsky</td>\n",
              "      <td>31357</td>\n",
              "      <td>Valid</td>\n",
              "      <td>L6</td>\n",
              "      <td>2,167.0</td>\n",
              "      <td>Found</td>\n",
              "      <td>2003-01-01 12:00:00</td>\n",
              "      <td>49.8</td>\n",
              "      <td>41.5</td>\n",
              "      <td>(49.78917, 41.5046)</td>\n",
              "      <td>1</td>\n",
              "      <td>0</td>\n",
              "      <td>1</td>\n",
              "    </tr>\n",
              "    <tr>\n",
              "      <th>45715</th>\n",
              "      <td>Zulu Queen</td>\n",
              "      <td>30414</td>\n",
              "      <td>Valid</td>\n",
              "      <td>L3.7</td>\n",
              "      <td>200.0</td>\n",
              "      <td>Found</td>\n",
              "      <td>1976-01-01 12:00:00</td>\n",
              "      <td>34.0</td>\n",
              "      <td>-115.7</td>\n",
              "      <td>(33.98333, -115.68333)</td>\n",
              "      <td>1</td>\n",
              "      <td>0</td>\n",
              "      <td>1</td>\n",
              "    </tr>\n",
              "  </tbody>\n",
              "</table>\n",
              "<p>45716 rows × 13 columns</p>\n",
              "</div>"
            ],
            "text/plain": [
              "             name     id nametype  ... ones  fell found\n",
              "0          Aachen      1    Valid  ...    1     1     0\n",
              "1          Aarhus      2    Valid  ...    1     1     0\n",
              "2            Abee      6    Valid  ...    1     1     0\n",
              "3        Acapulco     10    Valid  ...    1     1     0\n",
              "4         Achiras    370    Valid  ...    1     1     0\n",
              "...           ...    ...      ...  ...  ...   ...   ...\n",
              "45711  Zillah 002  31356    Valid  ...    1     0     1\n",
              "45712      Zinder  30409    Valid  ...    1     0     1\n",
              "45713        Zlin  30410    Valid  ...    1     0     1\n",
              "45714   Zubkovsky  31357    Valid  ...    1     0     1\n",
              "45715  Zulu Queen  30414    Valid  ...    1     0     1\n",
              "\n",
              "[45716 rows x 13 columns]"
            ]
          },
          "metadata": {},
          "execution_count": 39
        }
      ]
    },
    {
      "cell_type": "code",
      "metadata": {
        "colab": {
          "base_uri": "https://localhost:8080/"
        },
        "id": "M-dCeCXHFL2U",
        "outputId": "a531d014-b378-4dfd-ec2a-dfb55a2ccf3a"
      },
      "source": [
        "list(df_meteorites) # Forma rapida de ver el nombre de mis columnas"
      ],
      "execution_count": 40,
      "outputs": [
        {
          "output_type": "execute_result",
          "data": {
            "text/plain": [
              "['name',\n",
              " 'id',\n",
              " 'nametype',\n",
              " 'recclass',\n",
              " 'mass',\n",
              " 'fall',\n",
              " 'year',\n",
              " 'reclat',\n",
              " 'reclong',\n",
              " 'GeoLocation',\n",
              " 'ones',\n",
              " 'fell',\n",
              " 'found']"
            ]
          },
          "metadata": {},
          "execution_count": 40
        }
      ]
    },
    {
      "cell_type": "markdown",
      "metadata": {
        "id": "FztTq3Ceodxi"
      },
      "source": [
        "**Para eliminar columnas o filas (dos tipos de axis en un dataframe) se usa el metodo .drop(...) de la siguiente forma:**"
      ]
    },
    {
      "cell_type": "code",
      "metadata": {
        "id": "ZXtAJ8kgordD"
      },
      "source": [
        "df_meteorites.drop([\"ones\"],axis=1,inplace=True)"
      ],
      "execution_count": null,
      "outputs": []
    },
    {
      "cell_type": "markdown",
      "metadata": {
        "id": "l5y74T8ypaWy"
      },
      "source": [
        ""
      ]
    },
    {
      "cell_type": "code",
      "metadata": {
        "colab": {
          "base_uri": "https://localhost:8080/",
          "height": 400
        },
        "id": "iFTb2j7BpKSA",
        "outputId": "b24541d3-2352-4b93-85a7-e5b267679a11"
      },
      "source": [
        "df_meteorites.head()"
      ],
      "execution_count": 45,
      "outputs": [
        {
          "output_type": "execute_result",
          "data": {
            "text/html": [
              "<div>\n",
              "<style scoped>\n",
              "    .dataframe tbody tr th:only-of-type {\n",
              "        vertical-align: middle;\n",
              "    }\n",
              "\n",
              "    .dataframe tbody tr th {\n",
              "        vertical-align: top;\n",
              "    }\n",
              "\n",
              "    .dataframe thead th {\n",
              "        text-align: right;\n",
              "    }\n",
              "</style>\n",
              "<table border=\"1\" class=\"dataframe\">\n",
              "  <thead>\n",
              "    <tr style=\"text-align: right;\">\n",
              "      <th></th>\n",
              "      <th>name</th>\n",
              "      <th>id</th>\n",
              "      <th>nametype</th>\n",
              "      <th>recclass</th>\n",
              "      <th>mass</th>\n",
              "      <th>fall</th>\n",
              "      <th>year</th>\n",
              "      <th>reclat</th>\n",
              "      <th>reclong</th>\n",
              "      <th>GeoLocation</th>\n",
              "      <th>fell</th>\n",
              "      <th>found</th>\n",
              "    </tr>\n",
              "  </thead>\n",
              "  <tbody>\n",
              "    <tr>\n",
              "      <th>0</th>\n",
              "      <td>Aachen</td>\n",
              "      <td>1</td>\n",
              "      <td>Valid</td>\n",
              "      <td>L5</td>\n",
              "      <td>21.0</td>\n",
              "      <td>Fell</td>\n",
              "      <td>1880-01-01 12:00:00</td>\n",
              "      <td>50.8</td>\n",
              "      <td>6.1</td>\n",
              "      <td>(50.775, 6.08333)</td>\n",
              "      <td>1</td>\n",
              "      <td>0</td>\n",
              "    </tr>\n",
              "    <tr>\n",
              "      <th>1</th>\n",
              "      <td>Aarhus</td>\n",
              "      <td>2</td>\n",
              "      <td>Valid</td>\n",
              "      <td>H6</td>\n",
              "      <td>720.0</td>\n",
              "      <td>Fell</td>\n",
              "      <td>1951-01-01 12:00:00</td>\n",
              "      <td>56.2</td>\n",
              "      <td>10.2</td>\n",
              "      <td>(56.18333, 10.23333)</td>\n",
              "      <td>1</td>\n",
              "      <td>0</td>\n",
              "    </tr>\n",
              "    <tr>\n",
              "      <th>2</th>\n",
              "      <td>Abee</td>\n",
              "      <td>6</td>\n",
              "      <td>Valid</td>\n",
              "      <td>EH4</td>\n",
              "      <td>107,000.0</td>\n",
              "      <td>Fell</td>\n",
              "      <td>1952-01-01 12:00:00</td>\n",
              "      <td>54.2</td>\n",
              "      <td>-113.0</td>\n",
              "      <td>(54.21667, -113.0)</td>\n",
              "      <td>1</td>\n",
              "      <td>0</td>\n",
              "    </tr>\n",
              "    <tr>\n",
              "      <th>3</th>\n",
              "      <td>Acapulco</td>\n",
              "      <td>10</td>\n",
              "      <td>Valid</td>\n",
              "      <td>Acapulcoite</td>\n",
              "      <td>1,914.0</td>\n",
              "      <td>Fell</td>\n",
              "      <td>1976-01-01 12:00:00</td>\n",
              "      <td>16.9</td>\n",
              "      <td>-99.9</td>\n",
              "      <td>(16.88333, -99.9)</td>\n",
              "      <td>1</td>\n",
              "      <td>0</td>\n",
              "    </tr>\n",
              "    <tr>\n",
              "      <th>4</th>\n",
              "      <td>Achiras</td>\n",
              "      <td>370</td>\n",
              "      <td>Valid</td>\n",
              "      <td>L6</td>\n",
              "      <td>780.0</td>\n",
              "      <td>Fell</td>\n",
              "      <td>1902-01-01 12:00:00</td>\n",
              "      <td>-33.2</td>\n",
              "      <td>-65.0</td>\n",
              "      <td>(-33.16667, -64.95)</td>\n",
              "      <td>1</td>\n",
              "      <td>0</td>\n",
              "    </tr>\n",
              "  </tbody>\n",
              "</table>\n",
              "</div>"
            ],
            "text/plain": [
              "       name   id nametype  ...           GeoLocation  fell found\n",
              "0    Aachen    1    Valid  ...     (50.775, 6.08333)     1     0\n",
              "1    Aarhus    2    Valid  ...  (56.18333, 10.23333)     1     0\n",
              "2      Abee    6    Valid  ...    (54.21667, -113.0)     1     0\n",
              "3  Acapulco   10    Valid  ...     (16.88333, -99.9)     1     0\n",
              "4   Achiras  370    Valid  ...   (-33.16667, -64.95)     1     0\n",
              "\n",
              "[5 rows x 12 columns]"
            ]
          },
          "metadata": {},
          "execution_count": 45
        }
      ]
    },
    {
      "cell_type": "markdown",
      "metadata": {
        "id": "Zo7h0rTZpdK1"
      },
      "source": [
        "**Supongamos que quiero borrar algunas filas. Por ejemplo las pares:**"
      ]
    },
    {
      "cell_type": "code",
      "metadata": {
        "colab": {
          "base_uri": "https://localhost:8080/",
          "height": 729
        },
        "id": "HG8IhTmOpcSq",
        "outputId": "2a6b4263-e61b-4529-b0cf-95626c1e1e4e"
      },
      "source": [
        "df_meteorites.drop([0,2,4,6]).head(10) # Por defecto pandas reconoce que el axis son las filas"
      ],
      "execution_count": 46,
      "outputs": [
        {
          "output_type": "execute_result",
          "data": {
            "text/html": [
              "<div>\n",
              "<style scoped>\n",
              "    .dataframe tbody tr th:only-of-type {\n",
              "        vertical-align: middle;\n",
              "    }\n",
              "\n",
              "    .dataframe tbody tr th {\n",
              "        vertical-align: top;\n",
              "    }\n",
              "\n",
              "    .dataframe thead th {\n",
              "        text-align: right;\n",
              "    }\n",
              "</style>\n",
              "<table border=\"1\" class=\"dataframe\">\n",
              "  <thead>\n",
              "    <tr style=\"text-align: right;\">\n",
              "      <th></th>\n",
              "      <th>name</th>\n",
              "      <th>id</th>\n",
              "      <th>nametype</th>\n",
              "      <th>recclass</th>\n",
              "      <th>mass</th>\n",
              "      <th>fall</th>\n",
              "      <th>year</th>\n",
              "      <th>reclat</th>\n",
              "      <th>reclong</th>\n",
              "      <th>GeoLocation</th>\n",
              "      <th>fell</th>\n",
              "      <th>found</th>\n",
              "    </tr>\n",
              "  </thead>\n",
              "  <tbody>\n",
              "    <tr>\n",
              "      <th>1</th>\n",
              "      <td>Aarhus</td>\n",
              "      <td>2</td>\n",
              "      <td>Valid</td>\n",
              "      <td>H6</td>\n",
              "      <td>720.0</td>\n",
              "      <td>Fell</td>\n",
              "      <td>1951-01-01 12:00:00</td>\n",
              "      <td>56.2</td>\n",
              "      <td>10.2</td>\n",
              "      <td>(56.18333, 10.23333)</td>\n",
              "      <td>1</td>\n",
              "      <td>0</td>\n",
              "    </tr>\n",
              "    <tr>\n",
              "      <th>3</th>\n",
              "      <td>Acapulco</td>\n",
              "      <td>10</td>\n",
              "      <td>Valid</td>\n",
              "      <td>Acapulcoite</td>\n",
              "      <td>1,914.0</td>\n",
              "      <td>Fell</td>\n",
              "      <td>1976-01-01 12:00:00</td>\n",
              "      <td>16.9</td>\n",
              "      <td>-99.9</td>\n",
              "      <td>(16.88333, -99.9)</td>\n",
              "      <td>1</td>\n",
              "      <td>0</td>\n",
              "    </tr>\n",
              "    <tr>\n",
              "      <th>5</th>\n",
              "      <td>Adhi Kot</td>\n",
              "      <td>379</td>\n",
              "      <td>Valid</td>\n",
              "      <td>EH4</td>\n",
              "      <td>4,239.0</td>\n",
              "      <td>Fell</td>\n",
              "      <td>1919-01-01 12:00:00</td>\n",
              "      <td>32.1</td>\n",
              "      <td>71.8</td>\n",
              "      <td>(32.1, 71.8)</td>\n",
              "      <td>1</td>\n",
              "      <td>0</td>\n",
              "    </tr>\n",
              "    <tr>\n",
              "      <th>7</th>\n",
              "      <td>Agen</td>\n",
              "      <td>392</td>\n",
              "      <td>Valid</td>\n",
              "      <td>H5</td>\n",
              "      <td>30,000.0</td>\n",
              "      <td>Fell</td>\n",
              "      <td>1814-01-01 12:00:00</td>\n",
              "      <td>44.2</td>\n",
              "      <td>0.6</td>\n",
              "      <td>(44.21667, 0.61667)</td>\n",
              "      <td>1</td>\n",
              "      <td>0</td>\n",
              "    </tr>\n",
              "    <tr>\n",
              "      <th>8</th>\n",
              "      <td>Aguada</td>\n",
              "      <td>398</td>\n",
              "      <td>Valid</td>\n",
              "      <td>L6</td>\n",
              "      <td>1,620.0</td>\n",
              "      <td>Fell</td>\n",
              "      <td>1930-01-01 12:00:00</td>\n",
              "      <td>-31.6</td>\n",
              "      <td>-65.2</td>\n",
              "      <td>(-31.6, -65.23333)</td>\n",
              "      <td>1</td>\n",
              "      <td>0</td>\n",
              "    </tr>\n",
              "    <tr>\n",
              "      <th>9</th>\n",
              "      <td>Aguila Blanca</td>\n",
              "      <td>417</td>\n",
              "      <td>Valid</td>\n",
              "      <td>L</td>\n",
              "      <td>1,440.0</td>\n",
              "      <td>Fell</td>\n",
              "      <td>1920-01-01 12:00:00</td>\n",
              "      <td>-30.9</td>\n",
              "      <td>-64.5</td>\n",
              "      <td>(-30.86667, -64.55)</td>\n",
              "      <td>1</td>\n",
              "      <td>0</td>\n",
              "    </tr>\n",
              "    <tr>\n",
              "      <th>10</th>\n",
              "      <td>Aioun el Atrouss</td>\n",
              "      <td>423</td>\n",
              "      <td>Valid</td>\n",
              "      <td>Diogenite-pm</td>\n",
              "      <td>1,000.0</td>\n",
              "      <td>Fell</td>\n",
              "      <td>1974-01-01 12:00:00</td>\n",
              "      <td>16.4</td>\n",
              "      <td>-9.6</td>\n",
              "      <td>(16.39806, -9.57028)</td>\n",
              "      <td>1</td>\n",
              "      <td>0</td>\n",
              "    </tr>\n",
              "    <tr>\n",
              "      <th>11</th>\n",
              "      <td>Aïr</td>\n",
              "      <td>424</td>\n",
              "      <td>Valid</td>\n",
              "      <td>L6</td>\n",
              "      <td>24,000.0</td>\n",
              "      <td>Fell</td>\n",
              "      <td>1925-01-01 12:00:00</td>\n",
              "      <td>19.1</td>\n",
              "      <td>8.4</td>\n",
              "      <td>(19.08333, 8.38333)</td>\n",
              "      <td>1</td>\n",
              "      <td>0</td>\n",
              "    </tr>\n",
              "    <tr>\n",
              "      <th>12</th>\n",
              "      <td>Aire-sur-la-Lys</td>\n",
              "      <td>425</td>\n",
              "      <td>Valid</td>\n",
              "      <td>Unknown</td>\n",
              "      <td>nan</td>\n",
              "      <td>Fell</td>\n",
              "      <td>1769-01-01 12:00:00</td>\n",
              "      <td>50.7</td>\n",
              "      <td>2.3</td>\n",
              "      <td>(50.66667, 2.33333)</td>\n",
              "      <td>1</td>\n",
              "      <td>0</td>\n",
              "    </tr>\n",
              "    <tr>\n",
              "      <th>13</th>\n",
              "      <td>Akaba</td>\n",
              "      <td>426</td>\n",
              "      <td>Valid</td>\n",
              "      <td>L6</td>\n",
              "      <td>779.0</td>\n",
              "      <td>Fell</td>\n",
              "      <td>1949-01-01 12:00:00</td>\n",
              "      <td>29.5</td>\n",
              "      <td>35.0</td>\n",
              "      <td>(29.51667, 35.05)</td>\n",
              "      <td>1</td>\n",
              "      <td>0</td>\n",
              "    </tr>\n",
              "  </tbody>\n",
              "</table>\n",
              "</div>"
            ],
            "text/plain": [
              "                name   id nametype  ...           GeoLocation  fell found\n",
              "1             Aarhus    2    Valid  ...  (56.18333, 10.23333)     1     0\n",
              "3           Acapulco   10    Valid  ...     (16.88333, -99.9)     1     0\n",
              "5           Adhi Kot  379    Valid  ...          (32.1, 71.8)     1     0\n",
              "7               Agen  392    Valid  ...   (44.21667, 0.61667)     1     0\n",
              "8             Aguada  398    Valid  ...    (-31.6, -65.23333)     1     0\n",
              "9      Aguila Blanca  417    Valid  ...   (-30.86667, -64.55)     1     0\n",
              "10  Aioun el Atrouss  423    Valid  ...  (16.39806, -9.57028)     1     0\n",
              "11               Aïr  424    Valid  ...   (19.08333, 8.38333)     1     0\n",
              "12   Aire-sur-la-Lys  425    Valid  ...   (50.66667, 2.33333)     1     0\n",
              "13             Akaba  426    Valid  ...     (29.51667, 35.05)     1     0\n",
              "\n",
              "[10 rows x 12 columns]"
            ]
          },
          "metadata": {},
          "execution_count": 46
        }
      ]
    },
    {
      "cell_type": "markdown",
      "metadata": {
        "id": "EPmO57pRp1N0"
      },
      "source": [
        "**Puedo combinar en una misma linea de codigo el borrado de columnas y filas con la siguiente sintaxis:**"
      ]
    },
    {
      "cell_type": "code",
      "metadata": {
        "colab": {
          "base_uri": "https://localhost:8080/",
          "height": 292
        },
        "id": "w-Z0_GwMp7uJ",
        "outputId": "5211d4b8-81a6-454d-d7a6-84a5f960566b"
      },
      "source": [
        "df_meteorites.drop(columns=[\"id\",\"recclass\"],index=[0,2,4,6]).head()"
      ],
      "execution_count": 47,
      "outputs": [
        {
          "output_type": "execute_result",
          "data": {
            "text/html": [
              "<div>\n",
              "<style scoped>\n",
              "    .dataframe tbody tr th:only-of-type {\n",
              "        vertical-align: middle;\n",
              "    }\n",
              "\n",
              "    .dataframe tbody tr th {\n",
              "        vertical-align: top;\n",
              "    }\n",
              "\n",
              "    .dataframe thead th {\n",
              "        text-align: right;\n",
              "    }\n",
              "</style>\n",
              "<table border=\"1\" class=\"dataframe\">\n",
              "  <thead>\n",
              "    <tr style=\"text-align: right;\">\n",
              "      <th></th>\n",
              "      <th>name</th>\n",
              "      <th>nametype</th>\n",
              "      <th>mass</th>\n",
              "      <th>fall</th>\n",
              "      <th>year</th>\n",
              "      <th>reclat</th>\n",
              "      <th>reclong</th>\n",
              "      <th>GeoLocation</th>\n",
              "      <th>fell</th>\n",
              "      <th>found</th>\n",
              "    </tr>\n",
              "  </thead>\n",
              "  <tbody>\n",
              "    <tr>\n",
              "      <th>1</th>\n",
              "      <td>Aarhus</td>\n",
              "      <td>Valid</td>\n",
              "      <td>720.0</td>\n",
              "      <td>Fell</td>\n",
              "      <td>1951-01-01 12:00:00</td>\n",
              "      <td>56.2</td>\n",
              "      <td>10.2</td>\n",
              "      <td>(56.18333, 10.23333)</td>\n",
              "      <td>1</td>\n",
              "      <td>0</td>\n",
              "    </tr>\n",
              "    <tr>\n",
              "      <th>3</th>\n",
              "      <td>Acapulco</td>\n",
              "      <td>Valid</td>\n",
              "      <td>1,914.0</td>\n",
              "      <td>Fell</td>\n",
              "      <td>1976-01-01 12:00:00</td>\n",
              "      <td>16.9</td>\n",
              "      <td>-99.9</td>\n",
              "      <td>(16.88333, -99.9)</td>\n",
              "      <td>1</td>\n",
              "      <td>0</td>\n",
              "    </tr>\n",
              "    <tr>\n",
              "      <th>5</th>\n",
              "      <td>Adhi Kot</td>\n",
              "      <td>Valid</td>\n",
              "      <td>4,239.0</td>\n",
              "      <td>Fell</td>\n",
              "      <td>1919-01-01 12:00:00</td>\n",
              "      <td>32.1</td>\n",
              "      <td>71.8</td>\n",
              "      <td>(32.1, 71.8)</td>\n",
              "      <td>1</td>\n",
              "      <td>0</td>\n",
              "    </tr>\n",
              "    <tr>\n",
              "      <th>7</th>\n",
              "      <td>Agen</td>\n",
              "      <td>Valid</td>\n",
              "      <td>30,000.0</td>\n",
              "      <td>Fell</td>\n",
              "      <td>1814-01-01 12:00:00</td>\n",
              "      <td>44.2</td>\n",
              "      <td>0.6</td>\n",
              "      <td>(44.21667, 0.61667)</td>\n",
              "      <td>1</td>\n",
              "      <td>0</td>\n",
              "    </tr>\n",
              "    <tr>\n",
              "      <th>8</th>\n",
              "      <td>Aguada</td>\n",
              "      <td>Valid</td>\n",
              "      <td>1,620.0</td>\n",
              "      <td>Fell</td>\n",
              "      <td>1930-01-01 12:00:00</td>\n",
              "      <td>-31.6</td>\n",
              "      <td>-65.2</td>\n",
              "      <td>(-31.6, -65.23333)</td>\n",
              "      <td>1</td>\n",
              "      <td>0</td>\n",
              "    </tr>\n",
              "  </tbody>\n",
              "</table>\n",
              "</div>"
            ],
            "text/plain": [
              "       name nametype     mass  fall  ... reclong           GeoLocation  fell found\n",
              "1    Aarhus    Valid    720.0  Fell  ...    10.2  (56.18333, 10.23333)     1     0\n",
              "3  Acapulco    Valid  1,914.0  Fell  ...   -99.9     (16.88333, -99.9)     1     0\n",
              "5  Adhi Kot    Valid  4,239.0  Fell  ...    71.8          (32.1, 71.8)     1     0\n",
              "7      Agen    Valid 30,000.0  Fell  ...     0.6   (44.21667, 0.61667)     1     0\n",
              "8    Aguada    Valid  1,620.0  Fell  ...   -65.2    (-31.6, -65.23333)     1     0\n",
              "\n",
              "[5 rows x 10 columns]"
            ]
          },
          "metadata": {},
          "execution_count": 47
        }
      ]
    },
    {
      "cell_type": "markdown",
      "metadata": {
        "id": "-P1V5jf5qaVP"
      },
      "source": [
        "** Buena practica : Si yo quiero trabajar sobre una copia de mi dataframe para no alterar el original entonces debo guardar una \"copia profunda\" de mi dataframe en mi variable a trabajar con pandas **"
      ]
    },
    {
      "cell_type": "code",
      "metadata": {
        "id": "bI1EKW_sqk8h"
      },
      "source": [
        "df = df_meteorites.copy(deep=True)"
      ],
      "execution_count": 48,
      "outputs": []
    },
    {
      "cell_type": "code",
      "metadata": {
        "colab": {
          "base_uri": "https://localhost:8080/",
          "height": 400
        },
        "id": "nmGYNhMEqpj5",
        "outputId": "c100d49f-d3aa-4a34-fac3-984c3f028c9f"
      },
      "source": [
        "df.head()"
      ],
      "execution_count": 49,
      "outputs": [
        {
          "output_type": "execute_result",
          "data": {
            "text/html": [
              "<div>\n",
              "<style scoped>\n",
              "    .dataframe tbody tr th:only-of-type {\n",
              "        vertical-align: middle;\n",
              "    }\n",
              "\n",
              "    .dataframe tbody tr th {\n",
              "        vertical-align: top;\n",
              "    }\n",
              "\n",
              "    .dataframe thead th {\n",
              "        text-align: right;\n",
              "    }\n",
              "</style>\n",
              "<table border=\"1\" class=\"dataframe\">\n",
              "  <thead>\n",
              "    <tr style=\"text-align: right;\">\n",
              "      <th></th>\n",
              "      <th>name</th>\n",
              "      <th>id</th>\n",
              "      <th>nametype</th>\n",
              "      <th>recclass</th>\n",
              "      <th>mass</th>\n",
              "      <th>fall</th>\n",
              "      <th>year</th>\n",
              "      <th>reclat</th>\n",
              "      <th>reclong</th>\n",
              "      <th>GeoLocation</th>\n",
              "      <th>fell</th>\n",
              "      <th>found</th>\n",
              "    </tr>\n",
              "  </thead>\n",
              "  <tbody>\n",
              "    <tr>\n",
              "      <th>0</th>\n",
              "      <td>Aachen</td>\n",
              "      <td>1</td>\n",
              "      <td>Valid</td>\n",
              "      <td>L5</td>\n",
              "      <td>21.0</td>\n",
              "      <td>Fell</td>\n",
              "      <td>1880-01-01 12:00:00</td>\n",
              "      <td>50.8</td>\n",
              "      <td>6.1</td>\n",
              "      <td>(50.775, 6.08333)</td>\n",
              "      <td>1</td>\n",
              "      <td>0</td>\n",
              "    </tr>\n",
              "    <tr>\n",
              "      <th>1</th>\n",
              "      <td>Aarhus</td>\n",
              "      <td>2</td>\n",
              "      <td>Valid</td>\n",
              "      <td>H6</td>\n",
              "      <td>720.0</td>\n",
              "      <td>Fell</td>\n",
              "      <td>1951-01-01 12:00:00</td>\n",
              "      <td>56.2</td>\n",
              "      <td>10.2</td>\n",
              "      <td>(56.18333, 10.23333)</td>\n",
              "      <td>1</td>\n",
              "      <td>0</td>\n",
              "    </tr>\n",
              "    <tr>\n",
              "      <th>2</th>\n",
              "      <td>Abee</td>\n",
              "      <td>6</td>\n",
              "      <td>Valid</td>\n",
              "      <td>EH4</td>\n",
              "      <td>107,000.0</td>\n",
              "      <td>Fell</td>\n",
              "      <td>1952-01-01 12:00:00</td>\n",
              "      <td>54.2</td>\n",
              "      <td>-113.0</td>\n",
              "      <td>(54.21667, -113.0)</td>\n",
              "      <td>1</td>\n",
              "      <td>0</td>\n",
              "    </tr>\n",
              "    <tr>\n",
              "      <th>3</th>\n",
              "      <td>Acapulco</td>\n",
              "      <td>10</td>\n",
              "      <td>Valid</td>\n",
              "      <td>Acapulcoite</td>\n",
              "      <td>1,914.0</td>\n",
              "      <td>Fell</td>\n",
              "      <td>1976-01-01 12:00:00</td>\n",
              "      <td>16.9</td>\n",
              "      <td>-99.9</td>\n",
              "      <td>(16.88333, -99.9)</td>\n",
              "      <td>1</td>\n",
              "      <td>0</td>\n",
              "    </tr>\n",
              "    <tr>\n",
              "      <th>4</th>\n",
              "      <td>Achiras</td>\n",
              "      <td>370</td>\n",
              "      <td>Valid</td>\n",
              "      <td>L6</td>\n",
              "      <td>780.0</td>\n",
              "      <td>Fell</td>\n",
              "      <td>1902-01-01 12:00:00</td>\n",
              "      <td>-33.2</td>\n",
              "      <td>-65.0</td>\n",
              "      <td>(-33.16667, -64.95)</td>\n",
              "      <td>1</td>\n",
              "      <td>0</td>\n",
              "    </tr>\n",
              "  </tbody>\n",
              "</table>\n",
              "</div>"
            ],
            "text/plain": [
              "       name   id nametype  ...           GeoLocation  fell found\n",
              "0    Aachen    1    Valid  ...     (50.775, 6.08333)     1     0\n",
              "1    Aarhus    2    Valid  ...  (56.18333, 10.23333)     1     0\n",
              "2      Abee    6    Valid  ...    (54.21667, -113.0)     1     0\n",
              "3  Acapulco   10    Valid  ...     (16.88333, -99.9)     1     0\n",
              "4   Achiras  370    Valid  ...   (-33.16667, -64.95)     1     0\n",
              "\n",
              "[5 rows x 12 columns]"
            ]
          },
          "metadata": {},
          "execution_count": 49
        }
      ]
    },
    {
      "cell_type": "markdown",
      "metadata": {
        "id": "8Lol1S2uqxRd"
      },
      "source": [
        "**Con la copia hecha puedo realizar todas las ediciones que queramos sin miedo a perder la info original.**"
      ]
    },
    {
      "cell_type": "code",
      "metadata": {
        "id": "rlSbMC8Oq297"
      },
      "source": [
        ""
      ],
      "execution_count": null,
      "outputs": []
    }
  ]
}
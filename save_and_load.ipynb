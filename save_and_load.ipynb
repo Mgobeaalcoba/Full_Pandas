{
  "nbformat": 4,
  "nbformat_minor": 0,
  "metadata": {
    "colab": {
      "name": "save and load.ipynb",
      "provenance": [],
      "collapsed_sections": [],
      "authorship_tag": "ABX9TyP6U9SaabAEJRpBkIrZZvVc",
      "include_colab_link": true
    },
    "kernelspec": {
      "name": "python3",
      "display_name": "Python 3"
    },
    "language_info": {
      "name": "python"
    }
  },
  "cells": [
    {
      "cell_type": "markdown",
      "metadata": {
        "id": "view-in-github",
        "colab_type": "text"
      },
      "source": [
        "<a href=\"https://colab.research.google.com/github/Mgobeaalcoba/Full_Pandas/blob/main/save_and_load.ipynb\" target=\"_parent\"><img src=\"https://colab.research.google.com/assets/colab-badge.svg\" alt=\"Open In Colab\"/></a>"
      ]
    },
    {
      "cell_type": "code",
      "metadata": {
        "colab": {
          "base_uri": "https://localhost:8080/",
          "height": 418
        },
        "id": "T7rvcwW10Wq6",
        "outputId": "ebbd9293-d834-49e0-e604-c19b344170fc"
      },
      "source": [
        "!pip install --upgrade pandas"
      ],
      "execution_count": null,
      "outputs": [
        {
          "output_type": "stream",
          "name": "stdout",
          "text": [
            "Requirement already satisfied: pandas in /usr/local/lib/python3.7/dist-packages (1.1.5)\n",
            "Collecting pandas\n",
            "  Downloading pandas-1.3.4-cp37-cp37m-manylinux_2_17_x86_64.manylinux2014_x86_64.whl (11.3 MB)\n",
            "\u001b[K     |████████████████████████████████| 11.3 MB 21.3 MB/s \n",
            "\u001b[?25hRequirement already satisfied: numpy>=1.17.3 in /usr/local/lib/python3.7/dist-packages (from pandas) (1.19.5)\n",
            "Requirement already satisfied: pytz>=2017.3 in /usr/local/lib/python3.7/dist-packages (from pandas) (2018.9)\n",
            "Requirement already satisfied: python-dateutil>=2.7.3 in /usr/local/lib/python3.7/dist-packages (from pandas) (2.8.2)\n",
            "Requirement already satisfied: six>=1.5 in /usr/local/lib/python3.7/dist-packages (from python-dateutil>=2.7.3->pandas) (1.15.0)\n",
            "Installing collected packages: pandas\n",
            "  Attempting uninstall: pandas\n",
            "    Found existing installation: pandas 1.1.5\n",
            "    Uninstalling pandas-1.1.5:\n",
            "      Successfully uninstalled pandas-1.1.5\n",
            "\u001b[31mERROR: pip's dependency resolver does not currently take into account all the packages that are installed. This behaviour is the source of the following dependency conflicts.\n",
            "google-colab 1.0.0 requires pandas~=1.1.0; python_version >= \"3.0\", but you have pandas 1.3.4 which is incompatible.\u001b[0m\n",
            "Successfully installed pandas-1.3.4\n"
          ]
        },
        {
          "output_type": "display_data",
          "data": {
            "application/vnd.colab-display-data+json": {
              "pip_warning": {
                "packages": [
                  "pandas"
                ]
              }
            }
          },
          "metadata": {}
        }
      ]
    },
    {
      "cell_type": "code",
      "metadata": {
        "colab": {
          "base_uri": "https://localhost:8080/"
        },
        "id": "x0Qg5ylt01J-",
        "outputId": "98ad1c33-d3dd-4c68-ebb0-deddaf80a780"
      },
      "source": [
        "from google.colab import drive # Codigo para poder acceder al contenido de nuestro google drive\n",
        "drive.mount(\"/content/drive\")"
      ],
      "execution_count": 2,
      "outputs": [
        {
          "output_type": "stream",
          "name": "stdout",
          "text": [
            "Mounted at /content/drive\n"
          ]
        }
      ]
    },
    {
      "cell_type": "code",
      "metadata": {
        "colab": {
          "base_uri": "https://localhost:8080/"
        },
        "id": "FTw7cjf_1XUv",
        "outputId": "ee14870b-a8d3-4f5c-827e-872ed22612cd"
      },
      "source": [
        "# Ahora vamos a posicionarnos dentro de la carpeta de Colab Notebooks\n",
        "%cd '/content/drive/My Drive/Colab Notebooks' \n",
        "# %cd es similar a cd en terminal\n",
        "!ls # !ls es similar a ls en terminal"
      ],
      "execution_count": 3,
      "outputs": [
        {
          "output_type": "stream",
          "name": "stdout",
          "text": [
            "/content/drive/My Drive/Colab Notebooks\n",
            "'Curso de Alg Lineal'  'Curso Pandas'   db\n"
          ]
        }
      ]
    },
    {
      "cell_type": "markdown",
      "metadata": {
        "id": "AMyCKT5-36xF"
      },
      "source": [
        "**Como acabamos de ver: ¡¡¡ Se puede usar la terminal desde Google Colab. Para movernos de carpetas, para crear carpetas, para listar lo que tenemos en cada carpeta. etc.**"
      ]
    },
    {
      "cell_type": "markdown",
      "metadata": {
        "id": "C6OPkhRD3f9F"
      },
      "source": [
        "**¿Como trabajar con impresiones de variables de texto?** "
      ]
    },
    {
      "cell_type": "code",
      "metadata": {
        "id": "z1BGSTtW3fCY"
      },
      "source": [
        "texto = \"blablablablabla\""
      ],
      "execution_count": 4,
      "outputs": []
    },
    {
      "cell_type": "code",
      "metadata": {
        "colab": {
          "base_uri": "https://localhost:8080/",
          "height": 35
        },
        "id": "c2JKLmw13nUs",
        "outputId": "ce6af7a3-1b07-4dc1-b8d6-5af00699b911"
      },
      "source": [
        "\"Hola {}\".format(texto)"
      ],
      "execution_count": 5,
      "outputs": [
        {
          "output_type": "execute_result",
          "data": {
            "application/vnd.google.colaboratory.intrinsic+json": {
              "type": "string"
            },
            "text/plain": [
              "'Hola blablablablabla'"
            ]
          },
          "metadata": {},
          "execution_count": 5
        }
      ]
    },
    {
      "cell_type": "markdown",
      "metadata": {
        "id": "Zugm1DMI4IiE"
      },
      "source": [
        "**Creo una carpeta en mi google drive:**"
      ]
    },
    {
      "cell_type": "code",
      "metadata": {
        "colab": {
          "base_uri": "https://localhost:8080/"
        },
        "id": "kZ-Kmfp94PB2",
        "outputId": "2933d700-20f3-473f-83b3-8787448ef7f5"
      },
      "source": [
        "!mkdir /content/drive/My\\ Drive/Colab\\ Notebooks/db # Creo mi carpeta para databases. A los espacios se les agrega antes un back slash\n"
      ],
      "execution_count": 6,
      "outputs": [
        {
          "output_type": "stream",
          "name": "stdout",
          "text": [
            "mkdir: cannot create directory ‘/content/drive/My Drive/Colab Notebooks/db’: File exists\n"
          ]
        }
      ]
    },
    {
      "cell_type": "code",
      "metadata": {
        "colab": {
          "base_uri": "https://localhost:8080/"
        },
        "id": "pRo76F3o5w_2",
        "outputId": "89be3966-354f-49fb-bebb-909c7c8fdef6"
      },
      "source": [
        "!ls"
      ],
      "execution_count": 7,
      "outputs": [
        {
          "output_type": "stream",
          "name": "stdout",
          "text": [
            "'Curso de Alg Lineal'  'Curso Pandas'   db\n"
          ]
        }
      ]
    },
    {
      "cell_type": "markdown",
      "metadata": {
        "id": "616vhweP6Uct"
      },
      "source": [
        "**Voy a crear entones una variable donde voy a guardar la dirección para importar mis archivos con pandas y otra variable donde voy guardar el nombre de mi archivo en pandas**"
      ]
    },
    {
      "cell_type": "code",
      "metadata": {
        "id": "JtJYvXA66gGN"
      },
      "source": [
        "nombre_pandas = \"test.csv\""
      ],
      "execution_count": 8,
      "outputs": []
    },
    {
      "cell_type": "code",
      "metadata": {
        "id": "CLEgfkMb6kq9"
      },
      "source": [
        "dir_pandas = '/content/drive/My Drive/Colab Notebooks/db/{}'.format(nombre_pandas)"
      ],
      "execution_count": 9,
      "outputs": []
    },
    {
      "cell_type": "code",
      "metadata": {
        "colab": {
          "base_uri": "https://localhost:8080/",
          "height": 35
        },
        "id": "jnC0Ge8C62Iz",
        "outputId": "1198d8b7-52db-46f6-aa64-073d056c6c6c"
      },
      "source": [
        "dir_pandas"
      ],
      "execution_count": 10,
      "outputs": [
        {
          "output_type": "execute_result",
          "data": {
            "application/vnd.google.colaboratory.intrinsic+json": {
              "type": "string"
            },
            "text/plain": [
              "'/content/drive/My Drive/Colab Notebooks/db/test.csv'"
            ]
          },
          "metadata": {},
          "execution_count": 10
        }
      ]
    },
    {
      "cell_type": "markdown",
      "metadata": {
        "id": "WXPQCl0I7D6-"
      },
      "source": [
        "**Acá terminamos de armar todo el ambiente de trabajo. **"
      ]
    },
    {
      "cell_type": "code",
      "metadata": {
        "colab": {
          "base_uri": "https://localhost:8080/"
        },
        "id": "h2VKs2NP7IFN",
        "outputId": "61065ad2-60c1-4485-ab0a-f4f85e1316a0"
      },
      "source": [
        "import numpy as np\n",
        "import pandas as pd\n",
        "print(np.__version__)\n",
        "print(pd.__version__)"
      ],
      "execution_count": 11,
      "outputs": [
        {
          "output_type": "stream",
          "name": "stdout",
          "text": [
            "1.19.5\n",
            "1.1.5\n"
          ]
        }
      ]
    },
    {
      "cell_type": "code",
      "metadata": {
        "colab": {
          "base_uri": "https://localhost:8080/",
          "height": 400
        },
        "id": "_WNuAD127nKc",
        "outputId": "a30ec0e1-9d77-4c78-c4d5-5c63c97616aa"
      },
      "source": [
        "!pip install --upgrade numpy # Actualizo numpy a su versión mas reciente"
      ],
      "execution_count": null,
      "outputs": [
        {
          "output_type": "stream",
          "name": "stdout",
          "text": [
            "Requirement already satisfied: numpy in /usr/local/lib/python3.7/dist-packages (1.19.5)\n",
            "Collecting numpy\n",
            "  Downloading numpy-1.21.4-cp37-cp37m-manylinux_2_12_x86_64.manylinux2010_x86_64.whl (15.7 MB)\n",
            "\u001b[K     |████████████████████████████████| 15.7 MB 38.9 MB/s \n",
            "\u001b[?25hInstalling collected packages: numpy\n",
            "  Attempting uninstall: numpy\n",
            "    Found existing installation: numpy 1.19.5\n",
            "    Uninstalling numpy-1.19.5:\n",
            "      Successfully uninstalled numpy-1.19.5\n",
            "\u001b[31mERROR: pip's dependency resolver does not currently take into account all the packages that are installed. This behaviour is the source of the following dependency conflicts.\n",
            "yellowbrick 1.3.post1 requires numpy<1.20,>=1.16.0, but you have numpy 1.21.4 which is incompatible.\n",
            "google-colab 1.0.0 requires pandas~=1.1.0; python_version >= \"3.0\", but you have pandas 1.3.4 which is incompatible.\n",
            "datascience 0.10.6 requires folium==0.2.1, but you have folium 0.8.3 which is incompatible.\n",
            "albumentations 0.1.12 requires imgaug<0.2.7,>=0.2.5, but you have imgaug 0.2.9 which is incompatible.\u001b[0m\n",
            "Successfully installed numpy-1.21.4\n"
          ]
        },
        {
          "output_type": "display_data",
          "data": {
            "application/vnd.colab-display-data+json": {
              "pip_warning": {
                "packages": [
                  "numpy"
                ]
              }
            }
          },
          "metadata": {}
        }
      ]
    },
    {
      "cell_type": "code",
      "metadata": {
        "colab": {
          "base_uri": "https://localhost:8080/"
        },
        "id": "AuzwUlxr8Bln",
        "outputId": "10e3f52d-89eb-4b8e-e0da-cd1da2196fa9"
      },
      "source": [
        "dict_data = {\n",
        "    \"edad\" : [10,9,13,14,12,11,12],\n",
        "    \"cm\" : [115,110,130,155,125,120,125],\n",
        "    \"pais\" : [\"co\",\"mx\",\"co\",\"mx\",\"mx\",\"ch\",\"ch\"],\n",
        "    \"genero\" : [\"M\",\"F\",\"F\",\"M\",\"M\",\"M\",\"F\"],\n",
        "    \"01\" : [5,10,8,np.nan,7,8,3],\n",
        "    \"02\" : [7,9,9,8,8,8,9]\n",
        "}\n",
        "dict_data"
      ],
      "execution_count": 12,
      "outputs": [
        {
          "output_type": "execute_result",
          "data": {
            "text/plain": [
              "{'01': [5, 10, 8, nan, 7, 8, 3],\n",
              " '02': [7, 9, 9, 8, 8, 8, 9],\n",
              " 'cm': [115, 110, 130, 155, 125, 120, 125],\n",
              " 'edad': [10, 9, 13, 14, 12, 11, 12],\n",
              " 'genero': ['M', 'F', 'F', 'M', 'M', 'M', 'F'],\n",
              " 'pais': ['co', 'mx', 'co', 'mx', 'mx', 'ch', 'ch']}"
            ]
          },
          "metadata": {},
          "execution_count": 12
        }
      ]
    },
    {
      "cell_type": "code",
      "metadata": {
        "colab": {
          "base_uri": "https://localhost:8080/",
          "height": 266
        },
        "id": "BL8JgAK88Nxk",
        "outputId": "228fd9ea-3761-4e52-a87c-e0bfcea2649d"
      },
      "source": [
        "df = pd.DataFrame(dict_data)\n",
        "df"
      ],
      "execution_count": 13,
      "outputs": [
        {
          "output_type": "execute_result",
          "data": {
            "text/html": [
              "<div>\n",
              "<style scoped>\n",
              "    .dataframe tbody tr th:only-of-type {\n",
              "        vertical-align: middle;\n",
              "    }\n",
              "\n",
              "    .dataframe tbody tr th {\n",
              "        vertical-align: top;\n",
              "    }\n",
              "\n",
              "    .dataframe thead th {\n",
              "        text-align: right;\n",
              "    }\n",
              "</style>\n",
              "<table border=\"1\" class=\"dataframe\">\n",
              "  <thead>\n",
              "    <tr style=\"text-align: right;\">\n",
              "      <th></th>\n",
              "      <th>edad</th>\n",
              "      <th>cm</th>\n",
              "      <th>pais</th>\n",
              "      <th>genero</th>\n",
              "      <th>01</th>\n",
              "      <th>02</th>\n",
              "    </tr>\n",
              "  </thead>\n",
              "  <tbody>\n",
              "    <tr>\n",
              "      <th>0</th>\n",
              "      <td>10</td>\n",
              "      <td>115</td>\n",
              "      <td>co</td>\n",
              "      <td>M</td>\n",
              "      <td>5.0</td>\n",
              "      <td>7</td>\n",
              "    </tr>\n",
              "    <tr>\n",
              "      <th>1</th>\n",
              "      <td>9</td>\n",
              "      <td>110</td>\n",
              "      <td>mx</td>\n",
              "      <td>F</td>\n",
              "      <td>10.0</td>\n",
              "      <td>9</td>\n",
              "    </tr>\n",
              "    <tr>\n",
              "      <th>2</th>\n",
              "      <td>13</td>\n",
              "      <td>130</td>\n",
              "      <td>co</td>\n",
              "      <td>F</td>\n",
              "      <td>8.0</td>\n",
              "      <td>9</td>\n",
              "    </tr>\n",
              "    <tr>\n",
              "      <th>3</th>\n",
              "      <td>14</td>\n",
              "      <td>155</td>\n",
              "      <td>mx</td>\n",
              "      <td>M</td>\n",
              "      <td>NaN</td>\n",
              "      <td>8</td>\n",
              "    </tr>\n",
              "    <tr>\n",
              "      <th>4</th>\n",
              "      <td>12</td>\n",
              "      <td>125</td>\n",
              "      <td>mx</td>\n",
              "      <td>M</td>\n",
              "      <td>7.0</td>\n",
              "      <td>8</td>\n",
              "    </tr>\n",
              "    <tr>\n",
              "      <th>5</th>\n",
              "      <td>11</td>\n",
              "      <td>120</td>\n",
              "      <td>ch</td>\n",
              "      <td>M</td>\n",
              "      <td>8.0</td>\n",
              "      <td>8</td>\n",
              "    </tr>\n",
              "    <tr>\n",
              "      <th>6</th>\n",
              "      <td>12</td>\n",
              "      <td>125</td>\n",
              "      <td>ch</td>\n",
              "      <td>F</td>\n",
              "      <td>3.0</td>\n",
              "      <td>9</td>\n",
              "    </tr>\n",
              "  </tbody>\n",
              "</table>\n",
              "</div>"
            ],
            "text/plain": [
              "   edad   cm pais genero    01  02\n",
              "0    10  115   co      M   5.0   7\n",
              "1     9  110   mx      F  10.0   9\n",
              "2    13  130   co      F   8.0   9\n",
              "3    14  155   mx      M   NaN   8\n",
              "4    12  125   mx      M   7.0   8\n",
              "5    11  120   ch      M   8.0   8\n",
              "6    12  125   ch      F   3.0   9"
            ]
          },
          "metadata": {},
          "execution_count": 13
        }
      ]
    },
    {
      "cell_type": "markdown",
      "metadata": {
        "id": "pqmHAbGq8pqG"
      },
      "source": [
        "**Ahora vamos a exportar nuestro dataframe armado desde un diccionario a un archivo CSV que vamos a guardar en nuestra carpeta de dataframes creada**"
      ]
    },
    {
      "cell_type": "code",
      "metadata": {
        "id": "k65FtAYz8xv7"
      },
      "source": [
        "df.to_csv(dir_pandas,index=False) # Con index=False se guarda sin el indice"
      ],
      "execution_count": 14,
      "outputs": []
    },
    {
      "cell_type": "code",
      "metadata": {
        "colab": {
          "base_uri": "https://localhost:8080/"
        },
        "id": "4F4-2sOC9CS0",
        "outputId": "f309e3c4-0582-4517-dfea-c08952f96dae"
      },
      "source": [
        "!ls /content/drive/My\\ Drive/Colab\\ Notebooks/db # Valido que se creo mi archivo por terminal"
      ],
      "execution_count": 15,
      "outputs": [
        {
          "output_type": "stream",
          "name": "stdout",
          "text": [
            "test2.csv  test.csv\n"
          ]
        }
      ]
    },
    {
      "cell_type": "markdown",
      "metadata": {
        "id": "fsjK-vUX9lPW"
      },
      "source": [
        "**Ya vimos como exportar un dataframe de pandas a un archivo (en este caso CSV). Ahora veamos como podemos leer un archivo**"
      ]
    },
    {
      "cell_type": "code",
      "metadata": {
        "colab": {
          "base_uri": "https://localhost:8080/",
          "height": 266
        },
        "id": "RyMTnU4m9wK1",
        "outputId": "b7ef40e7-3083-4a81-a99f-2529cee13381"
      },
      "source": [
        "pd.read_csv(dir_pandas)"
      ],
      "execution_count": 16,
      "outputs": [
        {
          "output_type": "execute_result",
          "data": {
            "text/html": [
              "<div>\n",
              "<style scoped>\n",
              "    .dataframe tbody tr th:only-of-type {\n",
              "        vertical-align: middle;\n",
              "    }\n",
              "\n",
              "    .dataframe tbody tr th {\n",
              "        vertical-align: top;\n",
              "    }\n",
              "\n",
              "    .dataframe thead th {\n",
              "        text-align: right;\n",
              "    }\n",
              "</style>\n",
              "<table border=\"1\" class=\"dataframe\">\n",
              "  <thead>\n",
              "    <tr style=\"text-align: right;\">\n",
              "      <th></th>\n",
              "      <th>edad</th>\n",
              "      <th>cm</th>\n",
              "      <th>pais</th>\n",
              "      <th>genero</th>\n",
              "      <th>01</th>\n",
              "      <th>02</th>\n",
              "    </tr>\n",
              "  </thead>\n",
              "  <tbody>\n",
              "    <tr>\n",
              "      <th>0</th>\n",
              "      <td>10</td>\n",
              "      <td>115</td>\n",
              "      <td>co</td>\n",
              "      <td>M</td>\n",
              "      <td>5.0</td>\n",
              "      <td>7</td>\n",
              "    </tr>\n",
              "    <tr>\n",
              "      <th>1</th>\n",
              "      <td>9</td>\n",
              "      <td>110</td>\n",
              "      <td>mx</td>\n",
              "      <td>F</td>\n",
              "      <td>10.0</td>\n",
              "      <td>9</td>\n",
              "    </tr>\n",
              "    <tr>\n",
              "      <th>2</th>\n",
              "      <td>13</td>\n",
              "      <td>130</td>\n",
              "      <td>co</td>\n",
              "      <td>F</td>\n",
              "      <td>8.0</td>\n",
              "      <td>9</td>\n",
              "    </tr>\n",
              "    <tr>\n",
              "      <th>3</th>\n",
              "      <td>14</td>\n",
              "      <td>155</td>\n",
              "      <td>mx</td>\n",
              "      <td>M</td>\n",
              "      <td>NaN</td>\n",
              "      <td>8</td>\n",
              "    </tr>\n",
              "    <tr>\n",
              "      <th>4</th>\n",
              "      <td>12</td>\n",
              "      <td>125</td>\n",
              "      <td>mx</td>\n",
              "      <td>M</td>\n",
              "      <td>7.0</td>\n",
              "      <td>8</td>\n",
              "    </tr>\n",
              "    <tr>\n",
              "      <th>5</th>\n",
              "      <td>11</td>\n",
              "      <td>120</td>\n",
              "      <td>ch</td>\n",
              "      <td>M</td>\n",
              "      <td>8.0</td>\n",
              "      <td>8</td>\n",
              "    </tr>\n",
              "    <tr>\n",
              "      <th>6</th>\n",
              "      <td>12</td>\n",
              "      <td>125</td>\n",
              "      <td>ch</td>\n",
              "      <td>F</td>\n",
              "      <td>3.0</td>\n",
              "      <td>9</td>\n",
              "    </tr>\n",
              "  </tbody>\n",
              "</table>\n",
              "</div>"
            ],
            "text/plain": [
              "   edad   cm pais genero    01  02\n",
              "0    10  115   co      M   5.0   7\n",
              "1     9  110   mx      F  10.0   9\n",
              "2    13  130   co      F   8.0   9\n",
              "3    14  155   mx      M   NaN   8\n",
              "4    12  125   mx      M   7.0   8\n",
              "5    11  120   ch      M   8.0   8\n",
              "6    12  125   ch      F   3.0   9"
            ]
          },
          "metadata": {},
          "execution_count": 16
        }
      ]
    },
    {
      "cell_type": "markdown",
      "metadata": {
        "id": "mior2P5vGnCX"
      },
      "source": [
        "**O lo que es igual:**"
      ]
    },
    {
      "cell_type": "code",
      "metadata": {
        "colab": {
          "base_uri": "https://localhost:8080/",
          "height": 35
        },
        "id": "KZqm2oB2GqDW",
        "outputId": "fdce0942-0e2b-400b-8d80-c2c777a20454"
      },
      "source": [
        "dir_pandas"
      ],
      "execution_count": 17,
      "outputs": [
        {
          "output_type": "execute_result",
          "data": {
            "application/vnd.google.colaboratory.intrinsic+json": {
              "type": "string"
            },
            "text/plain": [
              "'/content/drive/My Drive/Colab Notebooks/db/test.csv'"
            ]
          },
          "metadata": {},
          "execution_count": 17
        }
      ]
    },
    {
      "cell_type": "code",
      "metadata": {
        "colab": {
          "base_uri": "https://localhost:8080/",
          "height": 266
        },
        "id": "W9Y0kfogGtoF",
        "outputId": "fef7b318-565a-4286-93af-7d406d3c1572"
      },
      "source": [
        "pd.read_csv(\"/content/drive/My Drive/Colab Notebooks/db/test.csv\")"
      ],
      "execution_count": 18,
      "outputs": [
        {
          "output_type": "execute_result",
          "data": {
            "text/html": [
              "<div>\n",
              "<style scoped>\n",
              "    .dataframe tbody tr th:only-of-type {\n",
              "        vertical-align: middle;\n",
              "    }\n",
              "\n",
              "    .dataframe tbody tr th {\n",
              "        vertical-align: top;\n",
              "    }\n",
              "\n",
              "    .dataframe thead th {\n",
              "        text-align: right;\n",
              "    }\n",
              "</style>\n",
              "<table border=\"1\" class=\"dataframe\">\n",
              "  <thead>\n",
              "    <tr style=\"text-align: right;\">\n",
              "      <th></th>\n",
              "      <th>edad</th>\n",
              "      <th>cm</th>\n",
              "      <th>pais</th>\n",
              "      <th>genero</th>\n",
              "      <th>01</th>\n",
              "      <th>02</th>\n",
              "    </tr>\n",
              "  </thead>\n",
              "  <tbody>\n",
              "    <tr>\n",
              "      <th>0</th>\n",
              "      <td>10</td>\n",
              "      <td>115</td>\n",
              "      <td>co</td>\n",
              "      <td>M</td>\n",
              "      <td>5.0</td>\n",
              "      <td>7</td>\n",
              "    </tr>\n",
              "    <tr>\n",
              "      <th>1</th>\n",
              "      <td>9</td>\n",
              "      <td>110</td>\n",
              "      <td>mx</td>\n",
              "      <td>F</td>\n",
              "      <td>10.0</td>\n",
              "      <td>9</td>\n",
              "    </tr>\n",
              "    <tr>\n",
              "      <th>2</th>\n",
              "      <td>13</td>\n",
              "      <td>130</td>\n",
              "      <td>co</td>\n",
              "      <td>F</td>\n",
              "      <td>8.0</td>\n",
              "      <td>9</td>\n",
              "    </tr>\n",
              "    <tr>\n",
              "      <th>3</th>\n",
              "      <td>14</td>\n",
              "      <td>155</td>\n",
              "      <td>mx</td>\n",
              "      <td>M</td>\n",
              "      <td>NaN</td>\n",
              "      <td>8</td>\n",
              "    </tr>\n",
              "    <tr>\n",
              "      <th>4</th>\n",
              "      <td>12</td>\n",
              "      <td>125</td>\n",
              "      <td>mx</td>\n",
              "      <td>M</td>\n",
              "      <td>7.0</td>\n",
              "      <td>8</td>\n",
              "    </tr>\n",
              "    <tr>\n",
              "      <th>5</th>\n",
              "      <td>11</td>\n",
              "      <td>120</td>\n",
              "      <td>ch</td>\n",
              "      <td>M</td>\n",
              "      <td>8.0</td>\n",
              "      <td>8</td>\n",
              "    </tr>\n",
              "    <tr>\n",
              "      <th>6</th>\n",
              "      <td>12</td>\n",
              "      <td>125</td>\n",
              "      <td>ch</td>\n",
              "      <td>F</td>\n",
              "      <td>3.0</td>\n",
              "      <td>9</td>\n",
              "    </tr>\n",
              "  </tbody>\n",
              "</table>\n",
              "</div>"
            ],
            "text/plain": [
              "   edad   cm pais genero    01  02\n",
              "0    10  115   co      M   5.0   7\n",
              "1     9  110   mx      F  10.0   9\n",
              "2    13  130   co      F   8.0   9\n",
              "3    14  155   mx      M   NaN   8\n",
              "4    12  125   mx      M   7.0   8\n",
              "5    11  120   ch      M   8.0   8\n",
              "6    12  125   ch      F   3.0   9"
            ]
          },
          "metadata": {},
          "execution_count": 18
        }
      ]
    },
    {
      "cell_type": "code",
      "metadata": {
        "id": "OpfMpbdAG3nU"
      },
      "source": [
        "df_read = pd.read_csv(\"/content/drive/My Drive/Colab Notebooks/db/test.csv\") # Guardo mi lectura en una variable."
      ],
      "execution_count": 19,
      "outputs": []
    },
    {
      "cell_type": "code",
      "metadata": {
        "colab": {
          "base_uri": "https://localhost:8080/",
          "height": 266
        },
        "id": "GhpvQEWtG6Px",
        "outputId": "b76f66a4-6725-418d-fef6-cebde97b1cb1"
      },
      "source": [
        "df_read"
      ],
      "execution_count": 20,
      "outputs": [
        {
          "output_type": "execute_result",
          "data": {
            "text/html": [
              "<div>\n",
              "<style scoped>\n",
              "    .dataframe tbody tr th:only-of-type {\n",
              "        vertical-align: middle;\n",
              "    }\n",
              "\n",
              "    .dataframe tbody tr th {\n",
              "        vertical-align: top;\n",
              "    }\n",
              "\n",
              "    .dataframe thead th {\n",
              "        text-align: right;\n",
              "    }\n",
              "</style>\n",
              "<table border=\"1\" class=\"dataframe\">\n",
              "  <thead>\n",
              "    <tr style=\"text-align: right;\">\n",
              "      <th></th>\n",
              "      <th>edad</th>\n",
              "      <th>cm</th>\n",
              "      <th>pais</th>\n",
              "      <th>genero</th>\n",
              "      <th>01</th>\n",
              "      <th>02</th>\n",
              "    </tr>\n",
              "  </thead>\n",
              "  <tbody>\n",
              "    <tr>\n",
              "      <th>0</th>\n",
              "      <td>10</td>\n",
              "      <td>115</td>\n",
              "      <td>co</td>\n",
              "      <td>M</td>\n",
              "      <td>5.0</td>\n",
              "      <td>7</td>\n",
              "    </tr>\n",
              "    <tr>\n",
              "      <th>1</th>\n",
              "      <td>9</td>\n",
              "      <td>110</td>\n",
              "      <td>mx</td>\n",
              "      <td>F</td>\n",
              "      <td>10.0</td>\n",
              "      <td>9</td>\n",
              "    </tr>\n",
              "    <tr>\n",
              "      <th>2</th>\n",
              "      <td>13</td>\n",
              "      <td>130</td>\n",
              "      <td>co</td>\n",
              "      <td>F</td>\n",
              "      <td>8.0</td>\n",
              "      <td>9</td>\n",
              "    </tr>\n",
              "    <tr>\n",
              "      <th>3</th>\n",
              "      <td>14</td>\n",
              "      <td>155</td>\n",
              "      <td>mx</td>\n",
              "      <td>M</td>\n",
              "      <td>NaN</td>\n",
              "      <td>8</td>\n",
              "    </tr>\n",
              "    <tr>\n",
              "      <th>4</th>\n",
              "      <td>12</td>\n",
              "      <td>125</td>\n",
              "      <td>mx</td>\n",
              "      <td>M</td>\n",
              "      <td>7.0</td>\n",
              "      <td>8</td>\n",
              "    </tr>\n",
              "    <tr>\n",
              "      <th>5</th>\n",
              "      <td>11</td>\n",
              "      <td>120</td>\n",
              "      <td>ch</td>\n",
              "      <td>M</td>\n",
              "      <td>8.0</td>\n",
              "      <td>8</td>\n",
              "    </tr>\n",
              "    <tr>\n",
              "      <th>6</th>\n",
              "      <td>12</td>\n",
              "      <td>125</td>\n",
              "      <td>ch</td>\n",
              "      <td>F</td>\n",
              "      <td>3.0</td>\n",
              "      <td>9</td>\n",
              "    </tr>\n",
              "  </tbody>\n",
              "</table>\n",
              "</div>"
            ],
            "text/plain": [
              "   edad   cm pais genero    01  02\n",
              "0    10  115   co      M   5.0   7\n",
              "1     9  110   mx      F  10.0   9\n",
              "2    13  130   co      F   8.0   9\n",
              "3    14  155   mx      M   NaN   8\n",
              "4    12  125   mx      M   7.0   8\n",
              "5    11  120   ch      M   8.0   8\n",
              "6    12  125   ch      F   3.0   9"
            ]
          },
          "metadata": {},
          "execution_count": 20
        }
      ]
    },
    {
      "cell_type": "code",
      "metadata": {
        "id": "m770kIriHKmG"
      },
      "source": [
        "\n",
        "df.to_csv(\"/content/drive/My Drive/Colab Notebooks/db/test2.csv\",sep=\"|\",index=False) #El separador por defecto en un CSV es una coma, pero puedo setearlo con el parametro sep="
      ],
      "execution_count": 21,
      "outputs": []
    },
    {
      "cell_type": "code",
      "metadata": {
        "colab": {
          "base_uri": "https://localhost:8080/"
        },
        "id": "xAFBD_o7Hlq8",
        "outputId": "344290d2-0a54-4b43-ba0b-b25605d26cb1"
      },
      "source": [
        "!ls /content/drive/My\\ Drive/Colab\\ Notebooks/db"
      ],
      "execution_count": 22,
      "outputs": [
        {
          "output_type": "stream",
          "name": "stdout",
          "text": [
            "test2.csv  test.csv\n"
          ]
        }
      ]
    },
    {
      "cell_type": "code",
      "metadata": {
        "colab": {
          "base_uri": "https://localhost:8080/",
          "height": 266
        },
        "id": "x_pUAXMuH719",
        "outputId": "6de31448-c22e-412c-ed43-ed11ecd33d15"
      },
      "source": [
        "pd.read_csv(\"/content/drive/My Drive/Colab Notebooks/db/test2.csv\")"
      ],
      "execution_count": 23,
      "outputs": [
        {
          "output_type": "execute_result",
          "data": {
            "text/html": [
              "<div>\n",
              "<style scoped>\n",
              "    .dataframe tbody tr th:only-of-type {\n",
              "        vertical-align: middle;\n",
              "    }\n",
              "\n",
              "    .dataframe tbody tr th {\n",
              "        vertical-align: top;\n",
              "    }\n",
              "\n",
              "    .dataframe thead th {\n",
              "        text-align: right;\n",
              "    }\n",
              "</style>\n",
              "<table border=\"1\" class=\"dataframe\">\n",
              "  <thead>\n",
              "    <tr style=\"text-align: right;\">\n",
              "      <th></th>\n",
              "      <th>edad|cm|pais|genero|01|02</th>\n",
              "    </tr>\n",
              "  </thead>\n",
              "  <tbody>\n",
              "    <tr>\n",
              "      <th>0</th>\n",
              "      <td>10|115|co|M|5.0|7</td>\n",
              "    </tr>\n",
              "    <tr>\n",
              "      <th>1</th>\n",
              "      <td>9|110|mx|F|10.0|9</td>\n",
              "    </tr>\n",
              "    <tr>\n",
              "      <th>2</th>\n",
              "      <td>13|130|co|F|8.0|9</td>\n",
              "    </tr>\n",
              "    <tr>\n",
              "      <th>3</th>\n",
              "      <td>14|155|mx|M||8</td>\n",
              "    </tr>\n",
              "    <tr>\n",
              "      <th>4</th>\n",
              "      <td>12|125|mx|M|7.0|8</td>\n",
              "    </tr>\n",
              "    <tr>\n",
              "      <th>5</th>\n",
              "      <td>11|120|ch|M|8.0|8</td>\n",
              "    </tr>\n",
              "    <tr>\n",
              "      <th>6</th>\n",
              "      <td>12|125|ch|F|3.0|9</td>\n",
              "    </tr>\n",
              "  </tbody>\n",
              "</table>\n",
              "</div>"
            ],
            "text/plain": [
              "  edad|cm|pais|genero|01|02\n",
              "0         10|115|co|M|5.0|7\n",
              "1         9|110|mx|F|10.0|9\n",
              "2         13|130|co|F|8.0|9\n",
              "3            14|155|mx|M||8\n",
              "4         12|125|mx|M|7.0|8\n",
              "5         11|120|ch|M|8.0|8\n",
              "6         12|125|ch|F|3.0|9"
            ]
          },
          "metadata": {},
          "execution_count": 23
        }
      ]
    },
    {
      "cell_type": "code",
      "metadata": {
        "colab": {
          "base_uri": "https://localhost:8080/",
          "height": 266
        },
        "id": "Mp8YaRUFH9vQ",
        "outputId": "c3dfe1d8-23ec-4586-f5d7-f04e6fd70ebd"
      },
      "source": [
        "pd.read_csv(\"/content/drive/My Drive/Colab Notebooks/db/test2.csv\",sep=\"|\") # Los leo avisando que el separador es distinto"
      ],
      "execution_count": 24,
      "outputs": [
        {
          "output_type": "execute_result",
          "data": {
            "text/html": [
              "<div>\n",
              "<style scoped>\n",
              "    .dataframe tbody tr th:only-of-type {\n",
              "        vertical-align: middle;\n",
              "    }\n",
              "\n",
              "    .dataframe tbody tr th {\n",
              "        vertical-align: top;\n",
              "    }\n",
              "\n",
              "    .dataframe thead th {\n",
              "        text-align: right;\n",
              "    }\n",
              "</style>\n",
              "<table border=\"1\" class=\"dataframe\">\n",
              "  <thead>\n",
              "    <tr style=\"text-align: right;\">\n",
              "      <th></th>\n",
              "      <th>edad</th>\n",
              "      <th>cm</th>\n",
              "      <th>pais</th>\n",
              "      <th>genero</th>\n",
              "      <th>01</th>\n",
              "      <th>02</th>\n",
              "    </tr>\n",
              "  </thead>\n",
              "  <tbody>\n",
              "    <tr>\n",
              "      <th>0</th>\n",
              "      <td>10</td>\n",
              "      <td>115</td>\n",
              "      <td>co</td>\n",
              "      <td>M</td>\n",
              "      <td>5.0</td>\n",
              "      <td>7</td>\n",
              "    </tr>\n",
              "    <tr>\n",
              "      <th>1</th>\n",
              "      <td>9</td>\n",
              "      <td>110</td>\n",
              "      <td>mx</td>\n",
              "      <td>F</td>\n",
              "      <td>10.0</td>\n",
              "      <td>9</td>\n",
              "    </tr>\n",
              "    <tr>\n",
              "      <th>2</th>\n",
              "      <td>13</td>\n",
              "      <td>130</td>\n",
              "      <td>co</td>\n",
              "      <td>F</td>\n",
              "      <td>8.0</td>\n",
              "      <td>9</td>\n",
              "    </tr>\n",
              "    <tr>\n",
              "      <th>3</th>\n",
              "      <td>14</td>\n",
              "      <td>155</td>\n",
              "      <td>mx</td>\n",
              "      <td>M</td>\n",
              "      <td>NaN</td>\n",
              "      <td>8</td>\n",
              "    </tr>\n",
              "    <tr>\n",
              "      <th>4</th>\n",
              "      <td>12</td>\n",
              "      <td>125</td>\n",
              "      <td>mx</td>\n",
              "      <td>M</td>\n",
              "      <td>7.0</td>\n",
              "      <td>8</td>\n",
              "    </tr>\n",
              "    <tr>\n",
              "      <th>5</th>\n",
              "      <td>11</td>\n",
              "      <td>120</td>\n",
              "      <td>ch</td>\n",
              "      <td>M</td>\n",
              "      <td>8.0</td>\n",
              "      <td>8</td>\n",
              "    </tr>\n",
              "    <tr>\n",
              "      <th>6</th>\n",
              "      <td>12</td>\n",
              "      <td>125</td>\n",
              "      <td>ch</td>\n",
              "      <td>F</td>\n",
              "      <td>3.0</td>\n",
              "      <td>9</td>\n",
              "    </tr>\n",
              "  </tbody>\n",
              "</table>\n",
              "</div>"
            ],
            "text/plain": [
              "   edad   cm pais genero    01  02\n",
              "0    10  115   co      M   5.0   7\n",
              "1     9  110   mx      F  10.0   9\n",
              "2    13  130   co      F   8.0   9\n",
              "3    14  155   mx      M   NaN   8\n",
              "4    12  125   mx      M   7.0   8\n",
              "5    11  120   ch      M   8.0   8\n",
              "6    12  125   ch      F   3.0   9"
            ]
          },
          "metadata": {},
          "execution_count": 24
        }
      ]
    },
    {
      "cell_type": "code",
      "metadata": {
        "colab": {
          "base_uri": "https://localhost:8080/",
          "height": 35
        },
        "id": "ZOUGW-UhwB2-",
        "outputId": "9800322e-8bb9-4851-bef9-9bdcada1a9fd"
      },
      "source": [
        "dir_pandas = '/content/drive/My Drive/Colab Notebooks/db/{}'\n",
        "dir_pandas"
      ],
      "execution_count": 26,
      "outputs": [
        {
          "output_type": "execute_result",
          "data": {
            "application/vnd.google.colaboratory.intrinsic+json": {
              "type": "string"
            },
            "text/plain": [
              "'/content/drive/My Drive/Colab Notebooks/db/{}'"
            ]
          },
          "metadata": {},
          "execution_count": 26
        }
      ]
    },
    {
      "cell_type": "code",
      "metadata": {
        "colab": {
          "base_uri": "https://localhost:8080/"
        },
        "id": "59353V2KwJ9E",
        "outputId": "8187fdf6-5c9d-429f-ef57-0e863e1a5f10"
      },
      "source": [
        "df.to_excel(dir_pandas.format(\"test_excel.xlsx\"),index=False)\n",
        "!ls /content/drive/My\\ Drive/Colab\\ Notebooks/db"
      ],
      "execution_count": 32,
      "outputs": [
        {
          "output_type": "stream",
          "name": "stdout",
          "text": [
            "test2.csv  test.csv  test_excel.xlsx\n"
          ]
        }
      ]
    },
    {
      "cell_type": "code",
      "metadata": {
        "colab": {
          "base_uri": "https://localhost:8080/"
        },
        "id": "1u514Rg8wcvH",
        "outputId": "1b1addfe-0467-4133-dd45-220070c4498c"
      },
      "source": [
        "ver_databases = !ls /content/drive/My\\ Drive/Colab\\ Notebooks/db\n",
        "ver_databases"
      ],
      "execution_count": 33,
      "outputs": [
        {
          "output_type": "execute_result",
          "data": {
            "text/plain": [
              "['test2.csv  test.csv  test_excel.xlsx']"
            ]
          },
          "metadata": {},
          "execution_count": 33
        }
      ]
    },
    {
      "cell_type": "code",
      "metadata": {
        "colab": {
          "base_uri": "https://localhost:8080/",
          "height": 266
        },
        "id": "pZWjeysHw4p0",
        "outputId": "8ad3c21d-b6ee-49f3-95b7-078c32d7109e"
      },
      "source": [
        "pd.read_excel(dir_pandas.format(\"test_excel.xlsx\"))"
      ],
      "execution_count": 34,
      "outputs": [
        {
          "output_type": "execute_result",
          "data": {
            "text/html": [
              "<div>\n",
              "<style scoped>\n",
              "    .dataframe tbody tr th:only-of-type {\n",
              "        vertical-align: middle;\n",
              "    }\n",
              "\n",
              "    .dataframe tbody tr th {\n",
              "        vertical-align: top;\n",
              "    }\n",
              "\n",
              "    .dataframe thead th {\n",
              "        text-align: right;\n",
              "    }\n",
              "</style>\n",
              "<table border=\"1\" class=\"dataframe\">\n",
              "  <thead>\n",
              "    <tr style=\"text-align: right;\">\n",
              "      <th></th>\n",
              "      <th>edad</th>\n",
              "      <th>cm</th>\n",
              "      <th>pais</th>\n",
              "      <th>genero</th>\n",
              "      <th>01</th>\n",
              "      <th>02</th>\n",
              "    </tr>\n",
              "  </thead>\n",
              "  <tbody>\n",
              "    <tr>\n",
              "      <th>0</th>\n",
              "      <td>10</td>\n",
              "      <td>115</td>\n",
              "      <td>co</td>\n",
              "      <td>M</td>\n",
              "      <td>5.0</td>\n",
              "      <td>7</td>\n",
              "    </tr>\n",
              "    <tr>\n",
              "      <th>1</th>\n",
              "      <td>9</td>\n",
              "      <td>110</td>\n",
              "      <td>mx</td>\n",
              "      <td>F</td>\n",
              "      <td>10.0</td>\n",
              "      <td>9</td>\n",
              "    </tr>\n",
              "    <tr>\n",
              "      <th>2</th>\n",
              "      <td>13</td>\n",
              "      <td>130</td>\n",
              "      <td>co</td>\n",
              "      <td>F</td>\n",
              "      <td>8.0</td>\n",
              "      <td>9</td>\n",
              "    </tr>\n",
              "    <tr>\n",
              "      <th>3</th>\n",
              "      <td>14</td>\n",
              "      <td>155</td>\n",
              "      <td>mx</td>\n",
              "      <td>M</td>\n",
              "      <td>NaN</td>\n",
              "      <td>8</td>\n",
              "    </tr>\n",
              "    <tr>\n",
              "      <th>4</th>\n",
              "      <td>12</td>\n",
              "      <td>125</td>\n",
              "      <td>mx</td>\n",
              "      <td>M</td>\n",
              "      <td>7.0</td>\n",
              "      <td>8</td>\n",
              "    </tr>\n",
              "    <tr>\n",
              "      <th>5</th>\n",
              "      <td>11</td>\n",
              "      <td>120</td>\n",
              "      <td>ch</td>\n",
              "      <td>M</td>\n",
              "      <td>8.0</td>\n",
              "      <td>8</td>\n",
              "    </tr>\n",
              "    <tr>\n",
              "      <th>6</th>\n",
              "      <td>12</td>\n",
              "      <td>125</td>\n",
              "      <td>ch</td>\n",
              "      <td>F</td>\n",
              "      <td>3.0</td>\n",
              "      <td>9</td>\n",
              "    </tr>\n",
              "  </tbody>\n",
              "</table>\n",
              "</div>"
            ],
            "text/plain": [
              "   edad   cm pais genero    01  02\n",
              "0    10  115   co      M   5.0   7\n",
              "1     9  110   mx      F  10.0   9\n",
              "2    13  130   co      F   8.0   9\n",
              "3    14  155   mx      M   NaN   8\n",
              "4    12  125   mx      M   7.0   8\n",
              "5    11  120   ch      M   8.0   8\n",
              "6    12  125   ch      F   3.0   9"
            ]
          },
          "metadata": {},
          "execution_count": 34
        }
      ]
    },
    {
      "cell_type": "markdown",
      "metadata": {
        "id": "a5JpqV3fxkfn"
      },
      "source": [
        "**Otro formato muy comun para exportar bases de datos es el formato json. Es muy común cuando las mismas van a ser utilizados por una API. los archivos json son muy similares a un diccionario en python. **"
      ]
    },
    {
      "cell_type": "code",
      "metadata": {
        "id": "YOSPma7dxw9U"
      },
      "source": [
        "df.to_json(dir_pandas.format(\"test_json.json\"))"
      ],
      "execution_count": 35,
      "outputs": []
    },
    {
      "cell_type": "code",
      "metadata": {
        "colab": {
          "base_uri": "https://localhost:8080/",
          "height": 266
        },
        "id": "9UNjDcT0yHDO",
        "outputId": "bf42f726-2b71-43b2-c3d6-1f1809304652"
      },
      "source": [
        "pd.read_json(dir_pandas.format(\"test_json.json\"))"
      ],
      "execution_count": 36,
      "outputs": [
        {
          "output_type": "execute_result",
          "data": {
            "text/html": [
              "<div>\n",
              "<style scoped>\n",
              "    .dataframe tbody tr th:only-of-type {\n",
              "        vertical-align: middle;\n",
              "    }\n",
              "\n",
              "    .dataframe tbody tr th {\n",
              "        vertical-align: top;\n",
              "    }\n",
              "\n",
              "    .dataframe thead th {\n",
              "        text-align: right;\n",
              "    }\n",
              "</style>\n",
              "<table border=\"1\" class=\"dataframe\">\n",
              "  <thead>\n",
              "    <tr style=\"text-align: right;\">\n",
              "      <th></th>\n",
              "      <th>edad</th>\n",
              "      <th>cm</th>\n",
              "      <th>pais</th>\n",
              "      <th>genero</th>\n",
              "      <th>01</th>\n",
              "      <th>02</th>\n",
              "    </tr>\n",
              "  </thead>\n",
              "  <tbody>\n",
              "    <tr>\n",
              "      <th>0</th>\n",
              "      <td>10</td>\n",
              "      <td>115</td>\n",
              "      <td>co</td>\n",
              "      <td>M</td>\n",
              "      <td>5.0</td>\n",
              "      <td>7</td>\n",
              "    </tr>\n",
              "    <tr>\n",
              "      <th>1</th>\n",
              "      <td>9</td>\n",
              "      <td>110</td>\n",
              "      <td>mx</td>\n",
              "      <td>F</td>\n",
              "      <td>10.0</td>\n",
              "      <td>9</td>\n",
              "    </tr>\n",
              "    <tr>\n",
              "      <th>2</th>\n",
              "      <td>13</td>\n",
              "      <td>130</td>\n",
              "      <td>co</td>\n",
              "      <td>F</td>\n",
              "      <td>8.0</td>\n",
              "      <td>9</td>\n",
              "    </tr>\n",
              "    <tr>\n",
              "      <th>3</th>\n",
              "      <td>14</td>\n",
              "      <td>155</td>\n",
              "      <td>mx</td>\n",
              "      <td>M</td>\n",
              "      <td>NaN</td>\n",
              "      <td>8</td>\n",
              "    </tr>\n",
              "    <tr>\n",
              "      <th>4</th>\n",
              "      <td>12</td>\n",
              "      <td>125</td>\n",
              "      <td>mx</td>\n",
              "      <td>M</td>\n",
              "      <td>7.0</td>\n",
              "      <td>8</td>\n",
              "    </tr>\n",
              "    <tr>\n",
              "      <th>5</th>\n",
              "      <td>11</td>\n",
              "      <td>120</td>\n",
              "      <td>ch</td>\n",
              "      <td>M</td>\n",
              "      <td>8.0</td>\n",
              "      <td>8</td>\n",
              "    </tr>\n",
              "    <tr>\n",
              "      <th>6</th>\n",
              "      <td>12</td>\n",
              "      <td>125</td>\n",
              "      <td>ch</td>\n",
              "      <td>F</td>\n",
              "      <td>3.0</td>\n",
              "      <td>9</td>\n",
              "    </tr>\n",
              "  </tbody>\n",
              "</table>\n",
              "</div>"
            ],
            "text/plain": [
              "   edad   cm pais genero    01  02\n",
              "0    10  115   co      M   5.0   7\n",
              "1     9  110   mx      F  10.0   9\n",
              "2    13  130   co      F   8.0   9\n",
              "3    14  155   mx      M   NaN   8\n",
              "4    12  125   mx      M   7.0   8\n",
              "5    11  120   ch      M   8.0   8\n",
              "6    12  125   ch      F   3.0   9"
            ]
          },
          "metadata": {},
          "execution_count": 36
        }
      ]
    },
    {
      "cell_type": "markdown",
      "metadata": {
        "id": "OOHmByScyzdy"
      },
      "source": [
        "**Otro formato muy usado para bases de datos medianas es el .pickle**"
      ]
    },
    {
      "cell_type": "code",
      "metadata": {
        "id": "tTaaF-G_y9_0"
      },
      "source": [
        "df.to_pickle(dir_pandas.format(\"test.pkl\"))"
      ],
      "execution_count": 37,
      "outputs": []
    },
    {
      "cell_type": "code",
      "metadata": {
        "colab": {
          "base_uri": "https://localhost:8080/",
          "height": 266
        },
        "id": "hjn0uNzwzEfx",
        "outputId": "bae53954-6349-47a8-ba81-afca0487c955"
      },
      "source": [
        "pd.read_pickle(dir_pandas.format(\"test.pkl\"))"
      ],
      "execution_count": 38,
      "outputs": [
        {
          "output_type": "execute_result",
          "data": {
            "text/html": [
              "<div>\n",
              "<style scoped>\n",
              "    .dataframe tbody tr th:only-of-type {\n",
              "        vertical-align: middle;\n",
              "    }\n",
              "\n",
              "    .dataframe tbody tr th {\n",
              "        vertical-align: top;\n",
              "    }\n",
              "\n",
              "    .dataframe thead th {\n",
              "        text-align: right;\n",
              "    }\n",
              "</style>\n",
              "<table border=\"1\" class=\"dataframe\">\n",
              "  <thead>\n",
              "    <tr style=\"text-align: right;\">\n",
              "      <th></th>\n",
              "      <th>edad</th>\n",
              "      <th>cm</th>\n",
              "      <th>pais</th>\n",
              "      <th>genero</th>\n",
              "      <th>01</th>\n",
              "      <th>02</th>\n",
              "    </tr>\n",
              "  </thead>\n",
              "  <tbody>\n",
              "    <tr>\n",
              "      <th>0</th>\n",
              "      <td>10</td>\n",
              "      <td>115</td>\n",
              "      <td>co</td>\n",
              "      <td>M</td>\n",
              "      <td>5.0</td>\n",
              "      <td>7</td>\n",
              "    </tr>\n",
              "    <tr>\n",
              "      <th>1</th>\n",
              "      <td>9</td>\n",
              "      <td>110</td>\n",
              "      <td>mx</td>\n",
              "      <td>F</td>\n",
              "      <td>10.0</td>\n",
              "      <td>9</td>\n",
              "    </tr>\n",
              "    <tr>\n",
              "      <th>2</th>\n",
              "      <td>13</td>\n",
              "      <td>130</td>\n",
              "      <td>co</td>\n",
              "      <td>F</td>\n",
              "      <td>8.0</td>\n",
              "      <td>9</td>\n",
              "    </tr>\n",
              "    <tr>\n",
              "      <th>3</th>\n",
              "      <td>14</td>\n",
              "      <td>155</td>\n",
              "      <td>mx</td>\n",
              "      <td>M</td>\n",
              "      <td>NaN</td>\n",
              "      <td>8</td>\n",
              "    </tr>\n",
              "    <tr>\n",
              "      <th>4</th>\n",
              "      <td>12</td>\n",
              "      <td>125</td>\n",
              "      <td>mx</td>\n",
              "      <td>M</td>\n",
              "      <td>7.0</td>\n",
              "      <td>8</td>\n",
              "    </tr>\n",
              "    <tr>\n",
              "      <th>5</th>\n",
              "      <td>11</td>\n",
              "      <td>120</td>\n",
              "      <td>ch</td>\n",
              "      <td>M</td>\n",
              "      <td>8.0</td>\n",
              "      <td>8</td>\n",
              "    </tr>\n",
              "    <tr>\n",
              "      <th>6</th>\n",
              "      <td>12</td>\n",
              "      <td>125</td>\n",
              "      <td>ch</td>\n",
              "      <td>F</td>\n",
              "      <td>3.0</td>\n",
              "      <td>9</td>\n",
              "    </tr>\n",
              "  </tbody>\n",
              "</table>\n",
              "</div>"
            ],
            "text/plain": [
              "   edad   cm pais genero    01  02\n",
              "0    10  115   co      M   5.0   7\n",
              "1     9  110   mx      F  10.0   9\n",
              "2    13  130   co      F   8.0   9\n",
              "3    14  155   mx      M   NaN   8\n",
              "4    12  125   mx      M   7.0   8\n",
              "5    11  120   ch      M   8.0   8\n",
              "6    12  125   ch      F   3.0   9"
            ]
          },
          "metadata": {},
          "execution_count": 38
        }
      ]
    },
    {
      "cell_type": "markdown",
      "metadata": {
        "id": "N3wqGRb5zeU9"
      },
      "source": [
        "**Otro formato muy usado en big data es .parquet**"
      ]
    },
    {
      "cell_type": "code",
      "metadata": {
        "id": "UsdJuCdBzkGW"
      },
      "source": [
        "df.to_parquet(dir_pandas.format(\"test.parquet\"))"
      ],
      "execution_count": 39,
      "outputs": []
    },
    {
      "cell_type": "code",
      "metadata": {
        "colab": {
          "base_uri": "https://localhost:8080/",
          "height": 266
        },
        "id": "31xEDLr4zsOC",
        "outputId": "df31435b-5bbd-41d0-e3ab-13d3de169063"
      },
      "source": [
        "pd.read_parquet(dir_pandas.format(\"test.parquet\"))"
      ],
      "execution_count": 40,
      "outputs": [
        {
          "output_type": "execute_result",
          "data": {
            "text/html": [
              "<div>\n",
              "<style scoped>\n",
              "    .dataframe tbody tr th:only-of-type {\n",
              "        vertical-align: middle;\n",
              "    }\n",
              "\n",
              "    .dataframe tbody tr th {\n",
              "        vertical-align: top;\n",
              "    }\n",
              "\n",
              "    .dataframe thead th {\n",
              "        text-align: right;\n",
              "    }\n",
              "</style>\n",
              "<table border=\"1\" class=\"dataframe\">\n",
              "  <thead>\n",
              "    <tr style=\"text-align: right;\">\n",
              "      <th></th>\n",
              "      <th>edad</th>\n",
              "      <th>cm</th>\n",
              "      <th>pais</th>\n",
              "      <th>genero</th>\n",
              "      <th>01</th>\n",
              "      <th>02</th>\n",
              "    </tr>\n",
              "  </thead>\n",
              "  <tbody>\n",
              "    <tr>\n",
              "      <th>0</th>\n",
              "      <td>10</td>\n",
              "      <td>115</td>\n",
              "      <td>co</td>\n",
              "      <td>M</td>\n",
              "      <td>5.0</td>\n",
              "      <td>7</td>\n",
              "    </tr>\n",
              "    <tr>\n",
              "      <th>1</th>\n",
              "      <td>9</td>\n",
              "      <td>110</td>\n",
              "      <td>mx</td>\n",
              "      <td>F</td>\n",
              "      <td>10.0</td>\n",
              "      <td>9</td>\n",
              "    </tr>\n",
              "    <tr>\n",
              "      <th>2</th>\n",
              "      <td>13</td>\n",
              "      <td>130</td>\n",
              "      <td>co</td>\n",
              "      <td>F</td>\n",
              "      <td>8.0</td>\n",
              "      <td>9</td>\n",
              "    </tr>\n",
              "    <tr>\n",
              "      <th>3</th>\n",
              "      <td>14</td>\n",
              "      <td>155</td>\n",
              "      <td>mx</td>\n",
              "      <td>M</td>\n",
              "      <td>NaN</td>\n",
              "      <td>8</td>\n",
              "    </tr>\n",
              "    <tr>\n",
              "      <th>4</th>\n",
              "      <td>12</td>\n",
              "      <td>125</td>\n",
              "      <td>mx</td>\n",
              "      <td>M</td>\n",
              "      <td>7.0</td>\n",
              "      <td>8</td>\n",
              "    </tr>\n",
              "    <tr>\n",
              "      <th>5</th>\n",
              "      <td>11</td>\n",
              "      <td>120</td>\n",
              "      <td>ch</td>\n",
              "      <td>M</td>\n",
              "      <td>8.0</td>\n",
              "      <td>8</td>\n",
              "    </tr>\n",
              "    <tr>\n",
              "      <th>6</th>\n",
              "      <td>12</td>\n",
              "      <td>125</td>\n",
              "      <td>ch</td>\n",
              "      <td>F</td>\n",
              "      <td>3.0</td>\n",
              "      <td>9</td>\n",
              "    </tr>\n",
              "  </tbody>\n",
              "</table>\n",
              "</div>"
            ],
            "text/plain": [
              "   edad   cm pais genero    01  02\n",
              "0    10  115   co      M   5.0   7\n",
              "1     9  110   mx      F  10.0   9\n",
              "2    13  130   co      F   8.0   9\n",
              "3    14  155   mx      M   NaN   8\n",
              "4    12  125   mx      M   7.0   8\n",
              "5    11  120   ch      M   8.0   8\n",
              "6    12  125   ch      F   3.0   9"
            ]
          },
          "metadata": {},
          "execution_count": 40
        }
      ]
    },
    {
      "cell_type": "markdown",
      "metadata": {
        "id": "U2GhdMsgz26p"
      },
      "source": [
        "Otro usado en big data es .hdf"
      ]
    },
    {
      "cell_type": "code",
      "metadata": {
        "id": "VLsOLbrW0Psc"
      },
      "source": [
        "df.to_hdf(dir_pandas.format(\"test.hdf\"),key=\"data\",format=\"table\")"
      ],
      "execution_count": 43,
      "outputs": []
    },
    {
      "cell_type": "code",
      "metadata": {
        "colab": {
          "base_uri": "https://localhost:8080/",
          "height": 266
        },
        "id": "OaeOORcZ0iXT",
        "outputId": "165aff54-d271-4cfc-cf9e-453fb4cceaf0"
      },
      "source": [
        "pd.read_hdf(dir_pandas.format(\"test.hdf\"))"
      ],
      "execution_count": 44,
      "outputs": [
        {
          "output_type": "execute_result",
          "data": {
            "text/html": [
              "<div>\n",
              "<style scoped>\n",
              "    .dataframe tbody tr th:only-of-type {\n",
              "        vertical-align: middle;\n",
              "    }\n",
              "\n",
              "    .dataframe tbody tr th {\n",
              "        vertical-align: top;\n",
              "    }\n",
              "\n",
              "    .dataframe thead th {\n",
              "        text-align: right;\n",
              "    }\n",
              "</style>\n",
              "<table border=\"1\" class=\"dataframe\">\n",
              "  <thead>\n",
              "    <tr style=\"text-align: right;\">\n",
              "      <th></th>\n",
              "      <th>edad</th>\n",
              "      <th>cm</th>\n",
              "      <th>pais</th>\n",
              "      <th>genero</th>\n",
              "      <th>01</th>\n",
              "      <th>02</th>\n",
              "    </tr>\n",
              "  </thead>\n",
              "  <tbody>\n",
              "    <tr>\n",
              "      <th>0</th>\n",
              "      <td>10</td>\n",
              "      <td>115</td>\n",
              "      <td>co</td>\n",
              "      <td>M</td>\n",
              "      <td>5.0</td>\n",
              "      <td>7</td>\n",
              "    </tr>\n",
              "    <tr>\n",
              "      <th>1</th>\n",
              "      <td>9</td>\n",
              "      <td>110</td>\n",
              "      <td>mx</td>\n",
              "      <td>F</td>\n",
              "      <td>10.0</td>\n",
              "      <td>9</td>\n",
              "    </tr>\n",
              "    <tr>\n",
              "      <th>2</th>\n",
              "      <td>13</td>\n",
              "      <td>130</td>\n",
              "      <td>co</td>\n",
              "      <td>F</td>\n",
              "      <td>8.0</td>\n",
              "      <td>9</td>\n",
              "    </tr>\n",
              "    <tr>\n",
              "      <th>3</th>\n",
              "      <td>14</td>\n",
              "      <td>155</td>\n",
              "      <td>mx</td>\n",
              "      <td>M</td>\n",
              "      <td>NaN</td>\n",
              "      <td>8</td>\n",
              "    </tr>\n",
              "    <tr>\n",
              "      <th>4</th>\n",
              "      <td>12</td>\n",
              "      <td>125</td>\n",
              "      <td>mx</td>\n",
              "      <td>M</td>\n",
              "      <td>7.0</td>\n",
              "      <td>8</td>\n",
              "    </tr>\n",
              "    <tr>\n",
              "      <th>5</th>\n",
              "      <td>11</td>\n",
              "      <td>120</td>\n",
              "      <td>ch</td>\n",
              "      <td>M</td>\n",
              "      <td>8.0</td>\n",
              "      <td>8</td>\n",
              "    </tr>\n",
              "    <tr>\n",
              "      <th>6</th>\n",
              "      <td>12</td>\n",
              "      <td>125</td>\n",
              "      <td>ch</td>\n",
              "      <td>F</td>\n",
              "      <td>3.0</td>\n",
              "      <td>9</td>\n",
              "    </tr>\n",
              "  </tbody>\n",
              "</table>\n",
              "</div>"
            ],
            "text/plain": [
              "   edad   cm pais genero    01  02\n",
              "0    10  115   co      M   5.0   7\n",
              "1     9  110   mx      F  10.0   9\n",
              "2    13  130   co      F   8.0   9\n",
              "3    14  155   mx      M   NaN   8\n",
              "4    12  125   mx      M   7.0   8\n",
              "5    11  120   ch      M   8.0   8\n",
              "6    12  125   ch      F   3.0   9"
            ]
          },
          "metadata": {},
          "execution_count": 44
        }
      ]
    }
  ]
}
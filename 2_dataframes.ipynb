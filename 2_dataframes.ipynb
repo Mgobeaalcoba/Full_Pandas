{
  "nbformat": 4,
  "nbformat_minor": 0,
  "metadata": {
    "colab": {
      "name": "2 dataframes.ipynb",
      "provenance": [],
      "collapsed_sections": [],
      "authorship_tag": "ABX9TyP0l2LKLAi6ZyBGi/ORiHBI",
      "include_colab_link": true
    },
    "kernelspec": {
      "name": "python3",
      "display_name": "Python 3"
    },
    "language_info": {
      "name": "python"
    }
  },
  "cells": [
    {
      "cell_type": "markdown",
      "metadata": {
        "id": "view-in-github",
        "colab_type": "text"
      },
      "source": [
        "<a href=\"https://colab.research.google.com/github/Mgobeaalcoba/Full_Pandas/blob/main/2_dataframes.ipynb\" target=\"_parent\"><img src=\"https://colab.research.google.com/assets/colab-badge.svg\" alt=\"Open In Colab\"/></a>"
      ]
    },
    {
      "cell_type": "code",
      "metadata": {
        "id": "97VfTfkKfKq2"
      },
      "source": [
        "import numpy as np\n",
        "import pandas as pd"
      ],
      "execution_count": null,
      "outputs": []
    },
    {
      "cell_type": "code",
      "metadata": {
        "colab": {
          "base_uri": "https://localhost:8080/",
          "height": 36
        },
        "id": "tDHs-FODfX_m",
        "outputId": "5b5fdbef-2381-4306-dfab-2032543e6850"
      },
      "source": [
        "pd.__version__"
      ],
      "execution_count": null,
      "outputs": [
        {
          "output_type": "execute_result",
          "data": {
            "application/vnd.google.colaboratory.intrinsic+json": {
              "type": "string"
            },
            "text/plain": [
              "'1.3.4'"
            ]
          },
          "metadata": {},
          "execution_count": 3
        }
      ]
    },
    {
      "cell_type": "code",
      "metadata": {
        "colab": {
          "base_uri": "https://localhost:8080/",
          "height": 418
        },
        "id": "knj7lwqsfgpE",
        "outputId": "1bf22963-b229-4158-cbb7-45954e634169"
      },
      "source": [
        "!pip install --upgrade pandas # Actualizo pandas a su ultima version"
      ],
      "execution_count": null,
      "outputs": [
        {
          "output_type": "stream",
          "name": "stdout",
          "text": [
            "Requirement already satisfied: pandas in /usr/local/lib/python3.7/dist-packages (1.1.5)\n",
            "Collecting pandas\n",
            "  Downloading pandas-1.3.4-cp37-cp37m-manylinux_2_17_x86_64.manylinux2014_x86_64.whl (11.3 MB)\n",
            "\u001b[K     |████████████████████████████████| 11.3 MB 5.3 MB/s \n",
            "\u001b[?25hRequirement already satisfied: pytz>=2017.3 in /usr/local/lib/python3.7/dist-packages (from pandas) (2018.9)\n",
            "Requirement already satisfied: python-dateutil>=2.7.3 in /usr/local/lib/python3.7/dist-packages (from pandas) (2.8.2)\n",
            "Requirement already satisfied: numpy>=1.17.3 in /usr/local/lib/python3.7/dist-packages (from pandas) (1.19.5)\n",
            "Requirement already satisfied: six>=1.5 in /usr/local/lib/python3.7/dist-packages (from python-dateutil>=2.7.3->pandas) (1.15.0)\n",
            "Installing collected packages: pandas\n",
            "  Attempting uninstall: pandas\n",
            "    Found existing installation: pandas 1.1.5\n",
            "    Uninstalling pandas-1.1.5:\n",
            "      Successfully uninstalled pandas-1.1.5\n",
            "\u001b[31mERROR: pip's dependency resolver does not currently take into account all the packages that are installed. This behaviour is the source of the following dependency conflicts.\n",
            "google-colab 1.0.0 requires pandas~=1.1.0; python_version >= \"3.0\", but you have pandas 1.3.4 which is incompatible.\u001b[0m\n",
            "Successfully installed pandas-1.3.4\n"
          ]
        },
        {
          "output_type": "display_data",
          "data": {
            "application/vnd.colab-display-data+json": {
              "pip_warning": {
                "packages": [
                  "pandas"
                ]
              }
            }
          },
          "metadata": {}
        }
      ]
    },
    {
      "cell_type": "code",
      "metadata": {
        "colab": {
          "base_uri": "https://localhost:8080/"
        },
        "id": "txuZn4kxf1fb",
        "outputId": "501a166e-b7c6-4c30-f29d-72de8b7edea3"
      },
      "source": [
        "dict_data = {\"CO\":300,\"MX\":400,\"CM\":200}\n",
        "dict_data"
      ],
      "execution_count": null,
      "outputs": [
        {
          "output_type": "execute_result",
          "data": {
            "text/plain": [
              "{'CM': 200, 'CO': 300, 'MX': 400}"
            ]
          },
          "metadata": {},
          "execution_count": 4
        }
      ]
    },
    {
      "cell_type": "code",
      "metadata": {
        "colab": {
          "base_uri": "https://localhost:8080/"
        },
        "id": "vI09FtV_gLxF",
        "outputId": "47b568cc-3225-4449-f7fe-5cd1b42a88b3"
      },
      "source": [
        "pd.Series(dict_data)"
      ],
      "execution_count": null,
      "outputs": [
        {
          "output_type": "execute_result",
          "data": {
            "text/plain": [
              "CO    300\n",
              "MX    400\n",
              "CM    200\n",
              "dtype: int64"
            ]
          },
          "metadata": {},
          "execution_count": 5
        }
      ]
    },
    {
      "cell_type": "code",
      "metadata": {
        "colab": {
          "base_uri": "https://localhost:8080/"
        },
        "id": "P7zk-rxygPcV",
        "outputId": "05e5efbb-4ca0-4099-be0a-3e193a3a871b"
      },
      "source": [
        "dict_data = {\"CH\": [100,800,200],\"CO\": [100,200,300],\"MX\": [300,500,400]}\n",
        "dict_data"
      ],
      "execution_count": null,
      "outputs": [
        {
          "output_type": "execute_result",
          "data": {
            "text/plain": [
              "{'CH': [100, 800, 200], 'CO': [100, 200, 300], 'MX': [300, 500, 400]}"
            ]
          },
          "metadata": {},
          "execution_count": 6
        }
      ]
    },
    {
      "cell_type": "code",
      "metadata": {
        "colab": {
          "base_uri": "https://localhost:8080/",
          "height": 143
        },
        "id": "AUGH1Es2gupk",
        "outputId": "c4af0538-fb8d-4adf-f2cf-811c7a455b2f"
      },
      "source": [
        "pd.DataFrame(dict_data) # Las llaves de mi diccionario serán las columnas del dataframe"
      ],
      "execution_count": null,
      "outputs": [
        {
          "output_type": "execute_result",
          "data": {
            "text/html": [
              "<div>\n",
              "<style scoped>\n",
              "    .dataframe tbody tr th:only-of-type {\n",
              "        vertical-align: middle;\n",
              "    }\n",
              "\n",
              "    .dataframe tbody tr th {\n",
              "        vertical-align: top;\n",
              "    }\n",
              "\n",
              "    .dataframe thead th {\n",
              "        text-align: right;\n",
              "    }\n",
              "</style>\n",
              "<table border=\"1\" class=\"dataframe\">\n",
              "  <thead>\n",
              "    <tr style=\"text-align: right;\">\n",
              "      <th></th>\n",
              "      <th>CH</th>\n",
              "      <th>CO</th>\n",
              "      <th>MX</th>\n",
              "    </tr>\n",
              "  </thead>\n",
              "  <tbody>\n",
              "    <tr>\n",
              "      <th>0</th>\n",
              "      <td>100</td>\n",
              "      <td>100</td>\n",
              "      <td>300</td>\n",
              "    </tr>\n",
              "    <tr>\n",
              "      <th>1</th>\n",
              "      <td>800</td>\n",
              "      <td>200</td>\n",
              "      <td>500</td>\n",
              "    </tr>\n",
              "    <tr>\n",
              "      <th>2</th>\n",
              "      <td>200</td>\n",
              "      <td>300</td>\n",
              "      <td>400</td>\n",
              "    </tr>\n",
              "  </tbody>\n",
              "</table>\n",
              "</div>"
            ],
            "text/plain": [
              "    CH   CO   MX\n",
              "0  100  100  300\n",
              "1  800  200  500\n",
              "2  200  300  400"
            ]
          },
          "metadata": {},
          "execution_count": 9
        }
      ]
    },
    {
      "cell_type": "code",
      "metadata": {
        "colab": {
          "base_uri": "https://localhost:8080/"
        },
        "id": "Pa5uUEvUg63f",
        "outputId": "9bfc54df-0aff-42ad-f6d7-8b39f539bc24"
      },
      "source": [
        "pd.Series(dict_data) # En la seríe las llaves son los indices de cada fila"
      ],
      "execution_count": null,
      "outputs": [
        {
          "output_type": "execute_result",
          "data": {
            "text/plain": [
              "CH    [100, 800, 200]\n",
              "CO    [100, 200, 300]\n",
              "MX    [300, 500, 400]\n",
              "dtype: object"
            ]
          },
          "metadata": {},
          "execution_count": 10
        }
      ]
    },
    {
      "cell_type": "code",
      "metadata": {
        "colab": {
          "base_uri": "https://localhost:8080/"
        },
        "id": "bMgdIm3VhL3e",
        "outputId": "e267a546-7dda-43f2-86a4-6042d4c5e891"
      },
      "source": [
        "dict_data = {\n",
        "    \"edad\" : [10,9,13,14,12,11,12],\n",
        "    \"cm\" : [115,110,130,155,125,120,125],\n",
        "    \"pais\" : [\"co\",\"mx\",\"co\",\"mx\",\"mx\",\"ch\",\"ch\"],\n",
        "    \"genero\" : [\"M\",\"F\",\"F\",\"M\",\"M\",\"M\",\"F\"],\n",
        "    \"01\" : [5,10,8,np.nan,7,8,3],\n",
        "    \"02\" : [7,9,9,8,8,8,9]\n",
        "}\n",
        "dict_data"
      ],
      "execution_count": null,
      "outputs": [
        {
          "output_type": "execute_result",
          "data": {
            "text/plain": [
              "{'01': [5, 10, 8, nan, 7, 8, 3],\n",
              " '02': [7, 9, 9, 8, 8, 8, 9],\n",
              " 'cm': [115, 110, 130, 155, 125, 120, 125],\n",
              " 'edad': [10, 9, 13, 14, 12, 11, 12],\n",
              " 'genero': ['M', 'F', 'F', 'M', 'M', 'M', 'F'],\n",
              " 'pais': ['co', 'mx', 'co', 'mx', 'mx', 'ch', 'ch']}"
            ]
          },
          "metadata": {},
          "execution_count": 12
        }
      ]
    },
    {
      "cell_type": "code",
      "metadata": {
        "colab": {
          "base_uri": "https://localhost:8080/"
        },
        "id": "EwuR-h1jiFul",
        "outputId": "8485bfbf-da18-411c-f723-d6175c16541e"
      },
      "source": [
        "pd.Series(dict_data)"
      ],
      "execution_count": null,
      "outputs": [
        {
          "output_type": "execute_result",
          "data": {
            "text/plain": [
              "edad              [10, 9, 13, 14, 12, 11, 12]\n",
              "cm        [115, 110, 130, 155, 125, 120, 125]\n",
              "pais             [co, mx, co, mx, mx, ch, ch]\n",
              "genero                  [M, F, F, M, M, M, F]\n",
              "01                   [5, 10, 8, nan, 7, 8, 3]\n",
              "02                      [7, 9, 9, 8, 8, 8, 9]\n",
              "dtype: object"
            ]
          },
          "metadata": {},
          "execution_count": 13
        }
      ]
    },
    {
      "cell_type": "code",
      "metadata": {
        "colab": {
          "base_uri": "https://localhost:8080/",
          "height": 268
        },
        "id": "HG-gZfFqiKQt",
        "outputId": "13c080c0-2a3c-4863-82c6-abc210314bbc"
      },
      "source": [
        "df = pd.DataFrame(dict_data,index=[\"Ana\",\"Benito\",\"Camilo\",\"Daniel\",\"Erika\",\"Fabian\",\"Daniel\"]) # Puedo no detallar el index y va de 0 a el ultimo\n",
        "df"
      ],
      "execution_count": null,
      "outputs": [
        {
          "output_type": "execute_result",
          "data": {
            "text/html": [
              "<div>\n",
              "<style scoped>\n",
              "    .dataframe tbody tr th:only-of-type {\n",
              "        vertical-align: middle;\n",
              "    }\n",
              "\n",
              "    .dataframe tbody tr th {\n",
              "        vertical-align: top;\n",
              "    }\n",
              "\n",
              "    .dataframe thead th {\n",
              "        text-align: right;\n",
              "    }\n",
              "</style>\n",
              "<table border=\"1\" class=\"dataframe\">\n",
              "  <thead>\n",
              "    <tr style=\"text-align: right;\">\n",
              "      <th></th>\n",
              "      <th>edad</th>\n",
              "      <th>cm</th>\n",
              "      <th>pais</th>\n",
              "      <th>genero</th>\n",
              "      <th>01</th>\n",
              "      <th>02</th>\n",
              "    </tr>\n",
              "  </thead>\n",
              "  <tbody>\n",
              "    <tr>\n",
              "      <th>Ana</th>\n",
              "      <td>10</td>\n",
              "      <td>115</td>\n",
              "      <td>co</td>\n",
              "      <td>M</td>\n",
              "      <td>5.0</td>\n",
              "      <td>7</td>\n",
              "    </tr>\n",
              "    <tr>\n",
              "      <th>Benito</th>\n",
              "      <td>9</td>\n",
              "      <td>110</td>\n",
              "      <td>mx</td>\n",
              "      <td>F</td>\n",
              "      <td>10.0</td>\n",
              "      <td>9</td>\n",
              "    </tr>\n",
              "    <tr>\n",
              "      <th>Camilo</th>\n",
              "      <td>13</td>\n",
              "      <td>130</td>\n",
              "      <td>co</td>\n",
              "      <td>F</td>\n",
              "      <td>8.0</td>\n",
              "      <td>9</td>\n",
              "    </tr>\n",
              "    <tr>\n",
              "      <th>Daniel</th>\n",
              "      <td>14</td>\n",
              "      <td>155</td>\n",
              "      <td>mx</td>\n",
              "      <td>M</td>\n",
              "      <td>NaN</td>\n",
              "      <td>8</td>\n",
              "    </tr>\n",
              "    <tr>\n",
              "      <th>Erika</th>\n",
              "      <td>12</td>\n",
              "      <td>125</td>\n",
              "      <td>mx</td>\n",
              "      <td>M</td>\n",
              "      <td>7.0</td>\n",
              "      <td>8</td>\n",
              "    </tr>\n",
              "    <tr>\n",
              "      <th>Fabian</th>\n",
              "      <td>11</td>\n",
              "      <td>120</td>\n",
              "      <td>ch</td>\n",
              "      <td>M</td>\n",
              "      <td>8.0</td>\n",
              "      <td>8</td>\n",
              "    </tr>\n",
              "    <tr>\n",
              "      <th>Daniel</th>\n",
              "      <td>12</td>\n",
              "      <td>125</td>\n",
              "      <td>ch</td>\n",
              "      <td>F</td>\n",
              "      <td>3.0</td>\n",
              "      <td>9</td>\n",
              "    </tr>\n",
              "  </tbody>\n",
              "</table>\n",
              "</div>"
            ],
            "text/plain": [
              "        edad   cm pais genero    01  02\n",
              "Ana       10  115   co      M   5.0   7\n",
              "Benito     9  110   mx      F  10.0   9\n",
              "Camilo    13  130   co      F   8.0   9\n",
              "Daniel    14  155   mx      M   NaN   8\n",
              "Erika     12  125   mx      M   7.0   8\n",
              "Fabian    11  120   ch      M   8.0   8\n",
              "Daniel    12  125   ch      F   3.0   9"
            ]
          },
          "metadata": {},
          "execution_count": 25
        }
      ]
    },
    {
      "cell_type": "code",
      "metadata": {
        "colab": {
          "base_uri": "https://localhost:8080/"
        },
        "id": "zZKNUcuKjYiK",
        "outputId": "7eafbe33-beb4-48de-db81-0c76cf8d3076"
      },
      "source": [
        "df.index # Me muestra los nombres de cada Fila"
      ],
      "execution_count": null,
      "outputs": [
        {
          "output_type": "execute_result",
          "data": {
            "text/plain": [
              "Index(['Ana', 'Benito', 'Camilo', 'Daniel', 'Erika', 'Fabian', 'Daniel'], dtype='object')"
            ]
          },
          "metadata": {},
          "execution_count": 26
        }
      ]
    },
    {
      "cell_type": "code",
      "metadata": {
        "colab": {
          "base_uri": "https://localhost:8080/"
        },
        "id": "jbEO1DtTjdWm",
        "outputId": "6a78037d-cff5-43f0-d200-bb1516939f86"
      },
      "source": [
        "df.columns # Me muestra los nombres de cada columna"
      ],
      "execution_count": null,
      "outputs": [
        {
          "output_type": "execute_result",
          "data": {
            "text/plain": [
              "Index(['edad', 'cm', 'pais', 'genero', '01', '02'], dtype='object')"
            ]
          },
          "metadata": {},
          "execution_count": 27
        }
      ]
    },
    {
      "cell_type": "code",
      "metadata": {
        "colab": {
          "base_uri": "https://localhost:8080/"
        },
        "id": "AWhzwiVrjhvG",
        "outputId": "4e1ae90c-5e1d-4a03-81dd-b2fc200ad448"
      },
      "source": [
        "df.values # Me muestra EN FORMATO ARRAYS los valores contenidos en cada fila"
      ],
      "execution_count": null,
      "outputs": [
        {
          "output_type": "execute_result",
          "data": {
            "text/plain": [
              "array([[10, 115, 'co', 'M', 5.0, 7],\n",
              "       [9, 110, 'mx', 'F', 10.0, 9],\n",
              "       [13, 130, 'co', 'F', 8.0, 9],\n",
              "       [14, 155, 'mx', 'M', nan, 8],\n",
              "       [12, 125, 'mx', 'M', 7.0, 8],\n",
              "       [11, 120, 'ch', 'M', 8.0, 8],\n",
              "       [12, 125, 'ch', 'F', 3.0, 9]], dtype=object)"
            ]
          },
          "metadata": {},
          "execution_count": 28
        }
      ]
    },
    {
      "cell_type": "code",
      "metadata": {
        "colab": {
          "base_uri": "https://localhost:8080/"
        },
        "id": "Tm8cN8vvjyM0",
        "outputId": "73bab689-fee6-4994-b298-a025a3c1bc7e"
      },
      "source": [
        "df[\"edad\"] # Veo una serie de pandas con los datos de la edad exclusivamente"
      ],
      "execution_count": null,
      "outputs": [
        {
          "output_type": "execute_result",
          "data": {
            "text/plain": [
              "Ana       10\n",
              "Benito     9\n",
              "Camilo    13\n",
              "Daniel    14\n",
              "Erika     12\n",
              "Fabian    11\n",
              "Daniel    12\n",
              "Name: edad, dtype: int64"
            ]
          },
          "metadata": {},
          "execution_count": 30
        }
      ]
    },
    {
      "cell_type": "code",
      "metadata": {
        "colab": {
          "base_uri": "https://localhost:8080/",
          "height": 268
        },
        "id": "CoGEoayuj7Gm",
        "outputId": "13e13f5d-7e17-4202-a1ce-08354c8ecc7f"
      },
      "source": [
        "df[[\"edad\",\"pais\"]] # Veo un dataframe mas pequeño con las columnas escogidas"
      ],
      "execution_count": null,
      "outputs": [
        {
          "output_type": "execute_result",
          "data": {
            "text/html": [
              "<div>\n",
              "<style scoped>\n",
              "    .dataframe tbody tr th:only-of-type {\n",
              "        vertical-align: middle;\n",
              "    }\n",
              "\n",
              "    .dataframe tbody tr th {\n",
              "        vertical-align: top;\n",
              "    }\n",
              "\n",
              "    .dataframe thead th {\n",
              "        text-align: right;\n",
              "    }\n",
              "</style>\n",
              "<table border=\"1\" class=\"dataframe\">\n",
              "  <thead>\n",
              "    <tr style=\"text-align: right;\">\n",
              "      <th></th>\n",
              "      <th>edad</th>\n",
              "      <th>pais</th>\n",
              "    </tr>\n",
              "  </thead>\n",
              "  <tbody>\n",
              "    <tr>\n",
              "      <th>Ana</th>\n",
              "      <td>10</td>\n",
              "      <td>co</td>\n",
              "    </tr>\n",
              "    <tr>\n",
              "      <th>Benito</th>\n",
              "      <td>9</td>\n",
              "      <td>mx</td>\n",
              "    </tr>\n",
              "    <tr>\n",
              "      <th>Camilo</th>\n",
              "      <td>13</td>\n",
              "      <td>co</td>\n",
              "    </tr>\n",
              "    <tr>\n",
              "      <th>Daniel</th>\n",
              "      <td>14</td>\n",
              "      <td>mx</td>\n",
              "    </tr>\n",
              "    <tr>\n",
              "      <th>Erika</th>\n",
              "      <td>12</td>\n",
              "      <td>mx</td>\n",
              "    </tr>\n",
              "    <tr>\n",
              "      <th>Fabian</th>\n",
              "      <td>11</td>\n",
              "      <td>ch</td>\n",
              "    </tr>\n",
              "    <tr>\n",
              "      <th>Daniel</th>\n",
              "      <td>12</td>\n",
              "      <td>ch</td>\n",
              "    </tr>\n",
              "  </tbody>\n",
              "</table>\n",
              "</div>"
            ],
            "text/plain": [
              "        edad pais\n",
              "Ana       10   co\n",
              "Benito     9   mx\n",
              "Camilo    13   co\n",
              "Daniel    14   mx\n",
              "Erika     12   mx\n",
              "Fabian    11   ch\n",
              "Daniel    12   ch"
            ]
          },
          "metadata": {},
          "execution_count": 31
        }
      ]
    },
    {
      "cell_type": "code",
      "metadata": {
        "colab": {
          "base_uri": "https://localhost:8080/",
          "height": 112
        },
        "id": "ZUwALWmikR3Q",
        "outputId": "c4184a46-27d1-4a93-e23c-65c95907d3a7"
      },
      "source": [
        "df.loc[[\"Ana\",\"Benito\"],[\"edad\",\"pais\"]] # El metodo .loc es para buscar una fila o varias especificas y luego las columnas que deseo. Nos arroja una serie si buscamos solo una fila y un dataframe si buscamos dos o mas"
      ],
      "execution_count": null,
      "outputs": [
        {
          "output_type": "execute_result",
          "data": {
            "text/html": [
              "<div>\n",
              "<style scoped>\n",
              "    .dataframe tbody tr th:only-of-type {\n",
              "        vertical-align: middle;\n",
              "    }\n",
              "\n",
              "    .dataframe tbody tr th {\n",
              "        vertical-align: top;\n",
              "    }\n",
              "\n",
              "    .dataframe thead th {\n",
              "        text-align: right;\n",
              "    }\n",
              "</style>\n",
              "<table border=\"1\" class=\"dataframe\">\n",
              "  <thead>\n",
              "    <tr style=\"text-align: right;\">\n",
              "      <th></th>\n",
              "      <th>edad</th>\n",
              "      <th>pais</th>\n",
              "    </tr>\n",
              "  </thead>\n",
              "  <tbody>\n",
              "    <tr>\n",
              "      <th>Ana</th>\n",
              "      <td>10</td>\n",
              "      <td>co</td>\n",
              "    </tr>\n",
              "    <tr>\n",
              "      <th>Benito</th>\n",
              "      <td>9</td>\n",
              "      <td>mx</td>\n",
              "    </tr>\n",
              "  </tbody>\n",
              "</table>\n",
              "</div>"
            ],
            "text/plain": [
              "        edad pais\n",
              "Ana       10   co\n",
              "Benito     9   mx"
            ]
          },
          "metadata": {},
          "execution_count": 35
        }
      ]
    },
    {
      "cell_type": "code",
      "metadata": {
        "colab": {
          "base_uri": "https://localhost:8080/"
        },
        "id": "rbXtOyeBlJHt",
        "outputId": "d633c44c-723d-405d-8241-f17848487302"
      },
      "source": [
        "df.iloc[2,1] # Nos permite identificar elementos por su posición en la matriz. Primero filas y luego columnas"
      ],
      "execution_count": null,
      "outputs": [
        {
          "output_type": "execute_result",
          "data": {
            "text/plain": [
              "130"
            ]
          },
          "metadata": {},
          "execution_count": 36
        }
      ]
    },
    {
      "cell_type": "code",
      "metadata": {
        "colab": {
          "base_uri": "https://localhost:8080/",
          "height": 112
        },
        "id": "ceStxgMKlYVD",
        "outputId": "98768eba-cb22-4ce0-992a-39c280bbdedd"
      },
      "source": [
        "df.iloc[[2,4],[1,3]]"
      ],
      "execution_count": null,
      "outputs": [
        {
          "output_type": "execute_result",
          "data": {
            "text/html": [
              "<div>\n",
              "<style scoped>\n",
              "    .dataframe tbody tr th:only-of-type {\n",
              "        vertical-align: middle;\n",
              "    }\n",
              "\n",
              "    .dataframe tbody tr th {\n",
              "        vertical-align: top;\n",
              "    }\n",
              "\n",
              "    .dataframe thead th {\n",
              "        text-align: right;\n",
              "    }\n",
              "</style>\n",
              "<table border=\"1\" class=\"dataframe\">\n",
              "  <thead>\n",
              "    <tr style=\"text-align: right;\">\n",
              "      <th></th>\n",
              "      <th>cm</th>\n",
              "      <th>genero</th>\n",
              "    </tr>\n",
              "  </thead>\n",
              "  <tbody>\n",
              "    <tr>\n",
              "      <th>Camilo</th>\n",
              "      <td>130</td>\n",
              "      <td>F</td>\n",
              "    </tr>\n",
              "    <tr>\n",
              "      <th>Erika</th>\n",
              "      <td>125</td>\n",
              "      <td>M</td>\n",
              "    </tr>\n",
              "  </tbody>\n",
              "</table>\n",
              "</div>"
            ],
            "text/plain": [
              "         cm genero\n",
              "Camilo  130      F\n",
              "Erika   125      M"
            ]
          },
          "metadata": {},
          "execution_count": 38
        }
      ]
    },
    {
      "cell_type": "code",
      "metadata": {
        "colab": {
          "base_uri": "https://localhost:8080/",
          "height": 268
        },
        "id": "unk2hJjolvAP",
        "outputId": "ba623dbd-b1cf-4412-8ea2-7f6156325be5"
      },
      "source": [
        "df.iloc[:,[1,3]] # Con los dos puntos le indico que quiero todos. En este caso las filas. Pero podría ser tmb columnas"
      ],
      "execution_count": null,
      "outputs": [
        {
          "output_type": "execute_result",
          "data": {
            "text/html": [
              "<div>\n",
              "<style scoped>\n",
              "    .dataframe tbody tr th:only-of-type {\n",
              "        vertical-align: middle;\n",
              "    }\n",
              "\n",
              "    .dataframe tbody tr th {\n",
              "        vertical-align: top;\n",
              "    }\n",
              "\n",
              "    .dataframe thead th {\n",
              "        text-align: right;\n",
              "    }\n",
              "</style>\n",
              "<table border=\"1\" class=\"dataframe\">\n",
              "  <thead>\n",
              "    <tr style=\"text-align: right;\">\n",
              "      <th></th>\n",
              "      <th>cm</th>\n",
              "      <th>genero</th>\n",
              "    </tr>\n",
              "  </thead>\n",
              "  <tbody>\n",
              "    <tr>\n",
              "      <th>Ana</th>\n",
              "      <td>115</td>\n",
              "      <td>M</td>\n",
              "    </tr>\n",
              "    <tr>\n",
              "      <th>Benito</th>\n",
              "      <td>110</td>\n",
              "      <td>F</td>\n",
              "    </tr>\n",
              "    <tr>\n",
              "      <th>Camilo</th>\n",
              "      <td>130</td>\n",
              "      <td>F</td>\n",
              "    </tr>\n",
              "    <tr>\n",
              "      <th>Daniel</th>\n",
              "      <td>155</td>\n",
              "      <td>M</td>\n",
              "    </tr>\n",
              "    <tr>\n",
              "      <th>Erika</th>\n",
              "      <td>125</td>\n",
              "      <td>M</td>\n",
              "    </tr>\n",
              "    <tr>\n",
              "      <th>Fabian</th>\n",
              "      <td>120</td>\n",
              "      <td>M</td>\n",
              "    </tr>\n",
              "    <tr>\n",
              "      <th>Daniel</th>\n",
              "      <td>125</td>\n",
              "      <td>F</td>\n",
              "    </tr>\n",
              "  </tbody>\n",
              "</table>\n",
              "</div>"
            ],
            "text/plain": [
              "         cm genero\n",
              "Ana     115      M\n",
              "Benito  110      F\n",
              "Camilo  130      F\n",
              "Daniel  155      M\n",
              "Erika   125      M\n",
              "Fabian  120      M\n",
              "Daniel  125      F"
            ]
          },
          "metadata": {},
          "execution_count": 39
        }
      ]
    },
    {
      "cell_type": "code",
      "metadata": {
        "colab": {
          "base_uri": "https://localhost:8080/"
        },
        "id": "8K62eTOIl-Q-",
        "outputId": "f7233559-3223-482e-f1b8-ef19edb0b4f0"
      },
      "source": [
        "df[\"edad\"] >= 12 # Me indica cuales cumplen un requisito si quiero traer esa info coloco este condicional de pandas dentro de mi corchete"
      ],
      "execution_count": null,
      "outputs": [
        {
          "output_type": "execute_result",
          "data": {
            "text/plain": [
              "Ana       False\n",
              "Benito    False\n",
              "Camilo     True\n",
              "Daniel     True\n",
              "Erika      True\n",
              "Fabian    False\n",
              "Daniel     True\n",
              "Name: edad, dtype: bool"
            ]
          },
          "metadata": {},
          "execution_count": 41
        }
      ]
    },
    {
      "cell_type": "code",
      "metadata": {
        "colab": {
          "base_uri": "https://localhost:8080/",
          "height": 175
        },
        "id": "jBa87Jl-mNYO",
        "outputId": "257545ea-e23e-46c4-9bda-880f21ca8db9"
      },
      "source": [
        "df[df[\"edad\"] >= 12]"
      ],
      "execution_count": null,
      "outputs": [
        {
          "output_type": "execute_result",
          "data": {
            "text/html": [
              "<div>\n",
              "<style scoped>\n",
              "    .dataframe tbody tr th:only-of-type {\n",
              "        vertical-align: middle;\n",
              "    }\n",
              "\n",
              "    .dataframe tbody tr th {\n",
              "        vertical-align: top;\n",
              "    }\n",
              "\n",
              "    .dataframe thead th {\n",
              "        text-align: right;\n",
              "    }\n",
              "</style>\n",
              "<table border=\"1\" class=\"dataframe\">\n",
              "  <thead>\n",
              "    <tr style=\"text-align: right;\">\n",
              "      <th></th>\n",
              "      <th>edad</th>\n",
              "      <th>cm</th>\n",
              "      <th>pais</th>\n",
              "      <th>genero</th>\n",
              "      <th>01</th>\n",
              "      <th>02</th>\n",
              "    </tr>\n",
              "  </thead>\n",
              "  <tbody>\n",
              "    <tr>\n",
              "      <th>Camilo</th>\n",
              "      <td>13</td>\n",
              "      <td>130</td>\n",
              "      <td>co</td>\n",
              "      <td>F</td>\n",
              "      <td>8.0</td>\n",
              "      <td>9</td>\n",
              "    </tr>\n",
              "    <tr>\n",
              "      <th>Daniel</th>\n",
              "      <td>14</td>\n",
              "      <td>155</td>\n",
              "      <td>mx</td>\n",
              "      <td>M</td>\n",
              "      <td>NaN</td>\n",
              "      <td>8</td>\n",
              "    </tr>\n",
              "    <tr>\n",
              "      <th>Erika</th>\n",
              "      <td>12</td>\n",
              "      <td>125</td>\n",
              "      <td>mx</td>\n",
              "      <td>M</td>\n",
              "      <td>7.0</td>\n",
              "      <td>8</td>\n",
              "    </tr>\n",
              "    <tr>\n",
              "      <th>Daniel</th>\n",
              "      <td>12</td>\n",
              "      <td>125</td>\n",
              "      <td>ch</td>\n",
              "      <td>F</td>\n",
              "      <td>3.0</td>\n",
              "      <td>9</td>\n",
              "    </tr>\n",
              "  </tbody>\n",
              "</table>\n",
              "</div>"
            ],
            "text/plain": [
              "        edad   cm pais genero   01  02\n",
              "Camilo    13  130   co      F  8.0   9\n",
              "Daniel    14  155   mx      M  NaN   8\n",
              "Erika     12  125   mx      M  7.0   8\n",
              "Daniel    12  125   ch      F  3.0   9"
            ]
          },
          "metadata": {},
          "execution_count": 44
        }
      ]
    },
    {
      "cell_type": "markdown",
      "metadata": {
        "id": "9qcArfVtmTth"
      },
      "source": [
        "**Si quiero filtrar mas de una condición entonces las debo poner entre parentesis a cada una. **"
      ]
    },
    {
      "cell_type": "code",
      "metadata": {
        "colab": {
          "base_uri": "https://localhost:8080/",
          "height": 112
        },
        "id": "jgey6_bXmeU0",
        "outputId": "976478c7-9ba2-4df1-d5a5-f985d3029424"
      },
      "source": [
        "df[(df[\"edad\"] >= 12) & (df[\"pais\"] == \"mx\")] # Con el operador & puedo sumar argumentos al filtro"
      ],
      "execution_count": null,
      "outputs": [
        {
          "output_type": "execute_result",
          "data": {
            "text/html": [
              "<div>\n",
              "<style scoped>\n",
              "    .dataframe tbody tr th:only-of-type {\n",
              "        vertical-align: middle;\n",
              "    }\n",
              "\n",
              "    .dataframe tbody tr th {\n",
              "        vertical-align: top;\n",
              "    }\n",
              "\n",
              "    .dataframe thead th {\n",
              "        text-align: right;\n",
              "    }\n",
              "</style>\n",
              "<table border=\"1\" class=\"dataframe\">\n",
              "  <thead>\n",
              "    <tr style=\"text-align: right;\">\n",
              "      <th></th>\n",
              "      <th>edad</th>\n",
              "      <th>cm</th>\n",
              "      <th>pais</th>\n",
              "      <th>genero</th>\n",
              "      <th>01</th>\n",
              "      <th>02</th>\n",
              "    </tr>\n",
              "  </thead>\n",
              "  <tbody>\n",
              "    <tr>\n",
              "      <th>Daniel</th>\n",
              "      <td>14</td>\n",
              "      <td>155</td>\n",
              "      <td>mx</td>\n",
              "      <td>M</td>\n",
              "      <td>NaN</td>\n",
              "      <td>8</td>\n",
              "    </tr>\n",
              "    <tr>\n",
              "      <th>Erika</th>\n",
              "      <td>12</td>\n",
              "      <td>125</td>\n",
              "      <td>mx</td>\n",
              "      <td>M</td>\n",
              "      <td>7.0</td>\n",
              "      <td>8</td>\n",
              "    </tr>\n",
              "  </tbody>\n",
              "</table>\n",
              "</div>"
            ],
            "text/plain": [
              "        edad   cm pais genero   01  02\n",
              "Daniel    14  155   mx      M  NaN   8\n",
              "Erika     12  125   mx      M  7.0   8"
            ]
          },
          "metadata": {},
          "execution_count": 52
        }
      ]
    },
    {
      "cell_type": "markdown",
      "metadata": {
        "id": "Hql0tKYandQd"
      },
      "source": [
        "**Tmb se puede obtener el mismo resultado con la función query**"
      ]
    },
    {
      "cell_type": "code",
      "metadata": {
        "colab": {
          "base_uri": "https://localhost:8080/",
          "height": 175
        },
        "id": "6rh7Tvr2nilu",
        "outputId": "a6918883-3047-4591-cf92-ea2073fb2f3b"
      },
      "source": [
        "df.query(\"edad >= 12\")"
      ],
      "execution_count": null,
      "outputs": [
        {
          "output_type": "execute_result",
          "data": {
            "text/html": [
              "<div>\n",
              "<style scoped>\n",
              "    .dataframe tbody tr th:only-of-type {\n",
              "        vertical-align: middle;\n",
              "    }\n",
              "\n",
              "    .dataframe tbody tr th {\n",
              "        vertical-align: top;\n",
              "    }\n",
              "\n",
              "    .dataframe thead th {\n",
              "        text-align: right;\n",
              "    }\n",
              "</style>\n",
              "<table border=\"1\" class=\"dataframe\">\n",
              "  <thead>\n",
              "    <tr style=\"text-align: right;\">\n",
              "      <th></th>\n",
              "      <th>edad</th>\n",
              "      <th>cm</th>\n",
              "      <th>pais</th>\n",
              "      <th>genero</th>\n",
              "      <th>01</th>\n",
              "      <th>02</th>\n",
              "    </tr>\n",
              "  </thead>\n",
              "  <tbody>\n",
              "    <tr>\n",
              "      <th>Camilo</th>\n",
              "      <td>13</td>\n",
              "      <td>130</td>\n",
              "      <td>co</td>\n",
              "      <td>F</td>\n",
              "      <td>8.0</td>\n",
              "      <td>9</td>\n",
              "    </tr>\n",
              "    <tr>\n",
              "      <th>Daniel</th>\n",
              "      <td>14</td>\n",
              "      <td>155</td>\n",
              "      <td>mx</td>\n",
              "      <td>M</td>\n",
              "      <td>NaN</td>\n",
              "      <td>8</td>\n",
              "    </tr>\n",
              "    <tr>\n",
              "      <th>Erika</th>\n",
              "      <td>12</td>\n",
              "      <td>125</td>\n",
              "      <td>mx</td>\n",
              "      <td>M</td>\n",
              "      <td>7.0</td>\n",
              "      <td>8</td>\n",
              "    </tr>\n",
              "    <tr>\n",
              "      <th>Daniel</th>\n",
              "      <td>12</td>\n",
              "      <td>125</td>\n",
              "      <td>ch</td>\n",
              "      <td>F</td>\n",
              "      <td>3.0</td>\n",
              "      <td>9</td>\n",
              "    </tr>\n",
              "  </tbody>\n",
              "</table>\n",
              "</div>"
            ],
            "text/plain": [
              "        edad   cm pais genero   01  02\n",
              "Camilo    13  130   co      F  8.0   9\n",
              "Daniel    14  155   mx      M  NaN   8\n",
              "Erika     12  125   mx      M  7.0   8\n",
              "Daniel    12  125   ch      F  3.0   9"
            ]
          },
          "metadata": {},
          "execution_count": 73
        }
      ]
    },
    {
      "cell_type": "code",
      "metadata": {
        "colab": {
          "base_uri": "https://localhost:8080/"
        },
        "id": "8jfgvUGqoD8g",
        "outputId": "df2c12e0-0af9-41ea-fad9-60112609dae8"
      },
      "source": [
        "df[\"02\"] >= df[\"01\"]"
      ],
      "execution_count": null,
      "outputs": [
        {
          "output_type": "execute_result",
          "data": {
            "text/plain": [
              "Ana        True\n",
              "Benito    False\n",
              "Camilo     True\n",
              "Daniel    False\n",
              "Erika      True\n",
              "Fabian     True\n",
              "Daniel     True\n",
              "dtype: bool"
            ]
          },
          "metadata": {},
          "execution_count": 62
        }
      ]
    },
    {
      "cell_type": "code",
      "metadata": {
        "colab": {
          "base_uri": "https://localhost:8080/",
          "height": 206
        },
        "id": "k6uGcxQUoS-c",
        "outputId": "aa1fdd5c-60f8-4b9e-80d5-7ccdbc052d7f"
      },
      "source": [
        "df[df[\"02\"] >= df[\"01\"]]"
      ],
      "execution_count": null,
      "outputs": [
        {
          "output_type": "execute_result",
          "data": {
            "text/html": [
              "<div>\n",
              "<style scoped>\n",
              "    .dataframe tbody tr th:only-of-type {\n",
              "        vertical-align: middle;\n",
              "    }\n",
              "\n",
              "    .dataframe tbody tr th {\n",
              "        vertical-align: top;\n",
              "    }\n",
              "\n",
              "    .dataframe thead th {\n",
              "        text-align: right;\n",
              "    }\n",
              "</style>\n",
              "<table border=\"1\" class=\"dataframe\">\n",
              "  <thead>\n",
              "    <tr style=\"text-align: right;\">\n",
              "      <th></th>\n",
              "      <th>edad</th>\n",
              "      <th>cm</th>\n",
              "      <th>pais</th>\n",
              "      <th>genero</th>\n",
              "      <th>01</th>\n",
              "      <th>02</th>\n",
              "    </tr>\n",
              "  </thead>\n",
              "  <tbody>\n",
              "    <tr>\n",
              "      <th>Ana</th>\n",
              "      <td>10</td>\n",
              "      <td>115</td>\n",
              "      <td>co</td>\n",
              "      <td>M</td>\n",
              "      <td>5.0</td>\n",
              "      <td>7</td>\n",
              "    </tr>\n",
              "    <tr>\n",
              "      <th>Camilo</th>\n",
              "      <td>13</td>\n",
              "      <td>130</td>\n",
              "      <td>co</td>\n",
              "      <td>F</td>\n",
              "      <td>8.0</td>\n",
              "      <td>9</td>\n",
              "    </tr>\n",
              "    <tr>\n",
              "      <th>Erika</th>\n",
              "      <td>12</td>\n",
              "      <td>125</td>\n",
              "      <td>mx</td>\n",
              "      <td>M</td>\n",
              "      <td>7.0</td>\n",
              "      <td>8</td>\n",
              "    </tr>\n",
              "    <tr>\n",
              "      <th>Fabian</th>\n",
              "      <td>11</td>\n",
              "      <td>120</td>\n",
              "      <td>ch</td>\n",
              "      <td>M</td>\n",
              "      <td>8.0</td>\n",
              "      <td>8</td>\n",
              "    </tr>\n",
              "    <tr>\n",
              "      <th>Daniel</th>\n",
              "      <td>12</td>\n",
              "      <td>125</td>\n",
              "      <td>ch</td>\n",
              "      <td>F</td>\n",
              "      <td>3.0</td>\n",
              "      <td>9</td>\n",
              "    </tr>\n",
              "  </tbody>\n",
              "</table>\n",
              "</div>"
            ],
            "text/plain": [
              "        edad   cm pais genero   01  02\n",
              "Ana       10  115   co      M  5.0   7\n",
              "Camilo    13  130   co      F  8.0   9\n",
              "Erika     12  125   mx      M  7.0   8\n",
              "Fabian    11  120   ch      M  8.0   8\n",
              "Daniel    12  125   ch      F  3.0   9"
            ]
          },
          "metadata": {},
          "execution_count": 63
        }
      ]
    }
  ]
}
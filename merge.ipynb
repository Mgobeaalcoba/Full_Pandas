{
  "nbformat": 4,
  "nbformat_minor": 0,
  "metadata": {
    "colab": {
      "name": "merge.ipynb",
      "provenance": [],
      "collapsed_sections": [],
      "include_colab_link": true
    },
    "kernelspec": {
      "name": "python3",
      "display_name": "Python 3"
    }
  },
  "cells": [
    {
      "cell_type": "markdown",
      "metadata": {
        "id": "view-in-github",
        "colab_type": "text"
      },
      "source": [
        "<a href=\"https://colab.research.google.com/github/Mgobeaalcoba/Full_Pandas/blob/main/merge.ipynb\" target=\"_parent\"><img src=\"https://colab.research.google.com/assets/colab-badge.svg\" alt=\"Open In Colab\"/></a>"
      ]
    },
    {
      "cell_type": "code",
      "metadata": {
        "id": "S_nl9C1foTpA",
        "outputId": "c51c44f6-bb12-4e3a-e0cb-043889d2f856",
        "colab": {
          "base_uri": "https://localhost:8080/",
          "height": 35
        }
      },
      "source": [
        "import pandas as pd\n",
        "pd.__version__"
      ],
      "execution_count": 1,
      "outputs": [
        {
          "output_type": "execute_result",
          "data": {
            "application/vnd.google.colaboratory.intrinsic+json": {
              "type": "string"
            },
            "text/plain": [
              "'1.1.5'"
            ]
          },
          "metadata": {},
          "execution_count": 1
        }
      ]
    },
    {
      "cell_type": "code",
      "metadata": {
        "id": "qqWFBdiooUAG",
        "outputId": "0ee20094-6f0d-4d2d-a25f-5751a2680951",
        "colab": {
          "base_uri": "https://localhost:8080/",
          "height": 173
        }
      },
      "source": [
        "df_left = pd.DataFrame(\n",
        "                      {'X': ['x0', 'x1', 'x2', 'x3'],\n",
        "                       'W': ['w0', 'w1', 'w2', 'w3'], \n",
        "                       'Y': ['y0', 'y1', 'y2', 'y3'],\n",
        "                       },\n",
        "                       index=[0,1,2,3])\n",
        "df_left"
      ],
      "execution_count": 15,
      "outputs": [
        {
          "output_type": "execute_result",
          "data": {
            "text/html": [
              "<div>\n",
              "<style scoped>\n",
              "    .dataframe tbody tr th:only-of-type {\n",
              "        vertical-align: middle;\n",
              "    }\n",
              "\n",
              "    .dataframe tbody tr th {\n",
              "        vertical-align: top;\n",
              "    }\n",
              "\n",
              "    .dataframe thead th {\n",
              "        text-align: right;\n",
              "    }\n",
              "</style>\n",
              "<table border=\"1\" class=\"dataframe\">\n",
              "  <thead>\n",
              "    <tr style=\"text-align: right;\">\n",
              "      <th></th>\n",
              "      <th>X</th>\n",
              "      <th>W</th>\n",
              "      <th>Y</th>\n",
              "    </tr>\n",
              "  </thead>\n",
              "  <tbody>\n",
              "    <tr>\n",
              "      <th>0</th>\n",
              "      <td>x0</td>\n",
              "      <td>w0</td>\n",
              "      <td>y0</td>\n",
              "    </tr>\n",
              "    <tr>\n",
              "      <th>1</th>\n",
              "      <td>x1</td>\n",
              "      <td>w1</td>\n",
              "      <td>y1</td>\n",
              "    </tr>\n",
              "    <tr>\n",
              "      <th>2</th>\n",
              "      <td>x2</td>\n",
              "      <td>w2</td>\n",
              "      <td>y2</td>\n",
              "    </tr>\n",
              "    <tr>\n",
              "      <th>3</th>\n",
              "      <td>x3</td>\n",
              "      <td>w3</td>\n",
              "      <td>y3</td>\n",
              "    </tr>\n",
              "  </tbody>\n",
              "</table>\n",
              "</div>"
            ],
            "text/plain": [
              "    X   W   Y\n",
              "0  x0  w0  y0\n",
              "1  x1  w1  y1\n",
              "2  x2  w2  y2\n",
              "3  x3  w3  y3"
            ]
          },
          "metadata": {},
          "execution_count": 15
        }
      ]
    },
    {
      "cell_type": "code",
      "metadata": {
        "id": "B_JNCsHooWdZ",
        "outputId": "683d7630-ec42-46bc-ce25-679ef29ae0b8",
        "colab": {
          "base_uri": "https://localhost:8080/",
          "height": 173
        }
      },
      "source": [
        "df_right = pd.DataFrame(\n",
        "                       {'Z': ['z2', 'z3', 'z4', 'z5'],\n",
        "                         'A': ['a2', 'a3', 'a4', 'a5'], \n",
        "                         'Y': ['y2', 'y3', 'y4', 'y5']},\n",
        "                        index=[2,3,4,5])\n",
        "df_right"
      ],
      "execution_count": 9,
      "outputs": [
        {
          "output_type": "execute_result",
          "data": {
            "text/html": [
              "<div>\n",
              "<style scoped>\n",
              "    .dataframe tbody tr th:only-of-type {\n",
              "        vertical-align: middle;\n",
              "    }\n",
              "\n",
              "    .dataframe tbody tr th {\n",
              "        vertical-align: top;\n",
              "    }\n",
              "\n",
              "    .dataframe thead th {\n",
              "        text-align: right;\n",
              "    }\n",
              "</style>\n",
              "<table border=\"1\" class=\"dataframe\">\n",
              "  <thead>\n",
              "    <tr style=\"text-align: right;\">\n",
              "      <th></th>\n",
              "      <th>Z</th>\n",
              "      <th>A</th>\n",
              "      <th>Y</th>\n",
              "    </tr>\n",
              "  </thead>\n",
              "  <tbody>\n",
              "    <tr>\n",
              "      <th>2</th>\n",
              "      <td>z2</td>\n",
              "      <td>a2</td>\n",
              "      <td>y2</td>\n",
              "    </tr>\n",
              "    <tr>\n",
              "      <th>3</th>\n",
              "      <td>z3</td>\n",
              "      <td>a3</td>\n",
              "      <td>y3</td>\n",
              "    </tr>\n",
              "    <tr>\n",
              "      <th>4</th>\n",
              "      <td>z4</td>\n",
              "      <td>a4</td>\n",
              "      <td>y4</td>\n",
              "    </tr>\n",
              "    <tr>\n",
              "      <th>5</th>\n",
              "      <td>z5</td>\n",
              "      <td>a5</td>\n",
              "      <td>y5</td>\n",
              "    </tr>\n",
              "  </tbody>\n",
              "</table>\n",
              "</div>"
            ],
            "text/plain": [
              "    Z   A   Y\n",
              "2  z2  a2  y2\n",
              "3  z3  a3  y3\n",
              "4  z4  a4  y4\n",
              "5  z5  a5  y5"
            ]
          },
          "metadata": {},
          "execution_count": 9
        }
      ]
    },
    {
      "cell_type": "code",
      "metadata": {
        "id": "djfE1R5Vo_yF",
        "outputId": "bae67d5d-576c-4fe6-f599-530cea5f8df4",
        "colab": {
          "base_uri": "https://localhost:8080/",
          "height": 111
        }
      },
      "source": [
        "pd.merge(df_left, df_right) # Uno mis dos dataframes a traves de la columna Y que es la compartida y solo tomo\n",
        "# las filas donde comparten datos. "
      ],
      "execution_count": 10,
      "outputs": [
        {
          "output_type": "execute_result",
          "data": {
            "text/html": [
              "<div>\n",
              "<style scoped>\n",
              "    .dataframe tbody tr th:only-of-type {\n",
              "        vertical-align: middle;\n",
              "    }\n",
              "\n",
              "    .dataframe tbody tr th {\n",
              "        vertical-align: top;\n",
              "    }\n",
              "\n",
              "    .dataframe thead th {\n",
              "        text-align: right;\n",
              "    }\n",
              "</style>\n",
              "<table border=\"1\" class=\"dataframe\">\n",
              "  <thead>\n",
              "    <tr style=\"text-align: right;\">\n",
              "      <th></th>\n",
              "      <th>X</th>\n",
              "      <th>W</th>\n",
              "      <th>Y</th>\n",
              "      <th>Mix</th>\n",
              "      <th>Z</th>\n",
              "      <th>A</th>\n",
              "    </tr>\n",
              "  </thead>\n",
              "  <tbody>\n",
              "    <tr>\n",
              "      <th>0</th>\n",
              "      <td>x2</td>\n",
              "      <td>w2</td>\n",
              "      <td>y2</td>\n",
              "      <td>a2</td>\n",
              "      <td>z2</td>\n",
              "      <td>a2</td>\n",
              "    </tr>\n",
              "    <tr>\n",
              "      <th>1</th>\n",
              "      <td>x3</td>\n",
              "      <td>w3</td>\n",
              "      <td>y3</td>\n",
              "      <td>a3</td>\n",
              "      <td>z3</td>\n",
              "      <td>a3</td>\n",
              "    </tr>\n",
              "  </tbody>\n",
              "</table>\n",
              "</div>"
            ],
            "text/plain": [
              "    X   W   Y Mix   Z   A\n",
              "0  x2  w2  y2  a2  z2  a2\n",
              "1  x3  w3  y3  a3  z3  a3"
            ]
          },
          "metadata": {},
          "execution_count": 10
        }
      ]
    },
    {
      "cell_type": "code",
      "metadata": {
        "id": "_3z7s5aTpMAz",
        "outputId": "d264b829-e7b3-4708-a19e-b3cd1b6b3993",
        "colab": {
          "base_uri": "https://localhost:8080/",
          "height": 111
        }
      },
      "source": [
        "pd.merge(df_left, df_right, how = 'inner', on = 'Y') # Puedo aclararle que tipo de union quiero con el parametro \n",
        "# how y luego el parametro on para definir con cual columna hago la union"
      ],
      "execution_count": 11,
      "outputs": [
        {
          "output_type": "execute_result",
          "data": {
            "text/html": [
              "<div>\n",
              "<style scoped>\n",
              "    .dataframe tbody tr th:only-of-type {\n",
              "        vertical-align: middle;\n",
              "    }\n",
              "\n",
              "    .dataframe tbody tr th {\n",
              "        vertical-align: top;\n",
              "    }\n",
              "\n",
              "    .dataframe thead th {\n",
              "        text-align: right;\n",
              "    }\n",
              "</style>\n",
              "<table border=\"1\" class=\"dataframe\">\n",
              "  <thead>\n",
              "    <tr style=\"text-align: right;\">\n",
              "      <th></th>\n",
              "      <th>X</th>\n",
              "      <th>W</th>\n",
              "      <th>Y</th>\n",
              "      <th>Mix</th>\n",
              "      <th>Z</th>\n",
              "      <th>A</th>\n",
              "    </tr>\n",
              "  </thead>\n",
              "  <tbody>\n",
              "    <tr>\n",
              "      <th>0</th>\n",
              "      <td>x2</td>\n",
              "      <td>w2</td>\n",
              "      <td>y2</td>\n",
              "      <td>a2</td>\n",
              "      <td>z2</td>\n",
              "      <td>a2</td>\n",
              "    </tr>\n",
              "    <tr>\n",
              "      <th>1</th>\n",
              "      <td>x3</td>\n",
              "      <td>w3</td>\n",
              "      <td>y3</td>\n",
              "      <td>a3</td>\n",
              "      <td>z3</td>\n",
              "      <td>a3</td>\n",
              "    </tr>\n",
              "  </tbody>\n",
              "</table>\n",
              "</div>"
            ],
            "text/plain": [
              "    X   W   Y Mix   Z   A\n",
              "0  x2  w2  y2  a2  z2  a2\n",
              "1  x3  w3  y3  a3  z3  a3"
            ]
          },
          "metadata": {},
          "execution_count": 11
        }
      ]
    },
    {
      "cell_type": "code",
      "metadata": {
        "id": "mTeLpLNCpYCI",
        "outputId": "d36677f3-3efb-49fb-e2e3-a734d9bcbca6",
        "colab": {
          "base_uri": "https://localhost:8080/",
          "height": 111
        }
      },
      "source": [
        "pd.merge(df_left, df_right, how = 'inner', left_on = 'Mix', right_on = 'Y')\n"
      ],
      "execution_count": 13,
      "outputs": [
        {
          "output_type": "execute_result",
          "data": {
            "text/html": [
              "<div>\n",
              "<style scoped>\n",
              "    .dataframe tbody tr th:only-of-type {\n",
              "        vertical-align: middle;\n",
              "    }\n",
              "\n",
              "    .dataframe tbody tr th {\n",
              "        vertical-align: top;\n",
              "    }\n",
              "\n",
              "    .dataframe thead th {\n",
              "        text-align: right;\n",
              "    }\n",
              "</style>\n",
              "<table border=\"1\" class=\"dataframe\">\n",
              "  <thead>\n",
              "    <tr style=\"text-align: right;\">\n",
              "      <th></th>\n",
              "      <th>X</th>\n",
              "      <th>W</th>\n",
              "      <th>Y_x</th>\n",
              "      <th>Mix</th>\n",
              "      <th>Z</th>\n",
              "      <th>A</th>\n",
              "      <th>Y_y</th>\n",
              "    </tr>\n",
              "  </thead>\n",
              "  <tbody>\n",
              "    <tr>\n",
              "      <th>0</th>\n",
              "      <td>x0</td>\n",
              "      <td>w0</td>\n",
              "      <td>y0</td>\n",
              "      <td>y2</td>\n",
              "      <td>z2</td>\n",
              "      <td>a2</td>\n",
              "      <td>y2</td>\n",
              "    </tr>\n",
              "    <tr>\n",
              "      <th>1</th>\n",
              "      <td>x1</td>\n",
              "      <td>w1</td>\n",
              "      <td>y1</td>\n",
              "      <td>y3</td>\n",
              "      <td>z3</td>\n",
              "      <td>a3</td>\n",
              "      <td>y3</td>\n",
              "    </tr>\n",
              "  </tbody>\n",
              "</table>\n",
              "</div>"
            ],
            "text/plain": [
              "    X   W Y_x Mix   Z   A Y_y\n",
              "0  x0  w0  y0  y2  z2  a2  y2\n",
              "1  x1  w1  y1  y3  z3  a3  y3"
            ]
          },
          "metadata": {},
          "execution_count": 13
        }
      ]
    },
    {
      "cell_type": "code",
      "metadata": {
        "id": "gq-gO2eBpgtG",
        "outputId": "bcfabf02-a4bb-4638-b73d-f210a574d263",
        "colab": {
          "base_uri": "https://localhost:8080/",
          "height": 111
        }
      },
      "source": [
        "pd.merge(df_left, df_right, how = 'inner', left_on = 'Mix', right_on = 'A')"
      ],
      "execution_count": 14,
      "outputs": [
        {
          "output_type": "execute_result",
          "data": {
            "text/html": [
              "<div>\n",
              "<style scoped>\n",
              "    .dataframe tbody tr th:only-of-type {\n",
              "        vertical-align: middle;\n",
              "    }\n",
              "\n",
              "    .dataframe tbody tr th {\n",
              "        vertical-align: top;\n",
              "    }\n",
              "\n",
              "    .dataframe thead th {\n",
              "        text-align: right;\n",
              "    }\n",
              "</style>\n",
              "<table border=\"1\" class=\"dataframe\">\n",
              "  <thead>\n",
              "    <tr style=\"text-align: right;\">\n",
              "      <th></th>\n",
              "      <th>X</th>\n",
              "      <th>W</th>\n",
              "      <th>Y_x</th>\n",
              "      <th>Mix</th>\n",
              "      <th>Z</th>\n",
              "      <th>A</th>\n",
              "      <th>Y_y</th>\n",
              "    </tr>\n",
              "  </thead>\n",
              "  <tbody>\n",
              "    <tr>\n",
              "      <th>0</th>\n",
              "      <td>x2</td>\n",
              "      <td>w2</td>\n",
              "      <td>y2</td>\n",
              "      <td>a2</td>\n",
              "      <td>z2</td>\n",
              "      <td>a2</td>\n",
              "      <td>y2</td>\n",
              "    </tr>\n",
              "    <tr>\n",
              "      <th>1</th>\n",
              "      <td>x3</td>\n",
              "      <td>w3</td>\n",
              "      <td>y3</td>\n",
              "      <td>a3</td>\n",
              "      <td>z3</td>\n",
              "      <td>a3</td>\n",
              "      <td>y3</td>\n",
              "    </tr>\n",
              "  </tbody>\n",
              "</table>\n",
              "</div>"
            ],
            "text/plain": [
              "    X   W Y_x Mix   Z   A Y_y\n",
              "0  x2  w2  y2  a2  z2  a2  y2\n",
              "1  x3  w3  y3  a3  z3  a3  y3"
            ]
          },
          "metadata": {},
          "execution_count": 14
        }
      ]
    },
    {
      "cell_type": "markdown",
      "metadata": {
        "id": "dcb9mIWup4OR"
      },
      "source": [
        "![](http://www.datasciencemadesimple.com/wp-content/uploads/2017/09/join-or-merge-in-python-pandas-1.png)"
      ]
    },
    {
      "cell_type": "code",
      "metadata": {
        "id": "Fv5tqYcppyW7",
        "outputId": "c1c30a6b-ecc5-4986-bb01-f543e7b3b324",
        "colab": {
          "base_uri": "https://localhost:8080/",
          "height": 111
        }
      },
      "source": [
        "pd.merge(df_left, df_right, how = 'inner', on = 'Y')"
      ],
      "execution_count": 16,
      "outputs": [
        {
          "output_type": "execute_result",
          "data": {
            "text/html": [
              "<div>\n",
              "<style scoped>\n",
              "    .dataframe tbody tr th:only-of-type {\n",
              "        vertical-align: middle;\n",
              "    }\n",
              "\n",
              "    .dataframe tbody tr th {\n",
              "        vertical-align: top;\n",
              "    }\n",
              "\n",
              "    .dataframe thead th {\n",
              "        text-align: right;\n",
              "    }\n",
              "</style>\n",
              "<table border=\"1\" class=\"dataframe\">\n",
              "  <thead>\n",
              "    <tr style=\"text-align: right;\">\n",
              "      <th></th>\n",
              "      <th>X</th>\n",
              "      <th>W</th>\n",
              "      <th>Y</th>\n",
              "      <th>Z</th>\n",
              "      <th>A</th>\n",
              "    </tr>\n",
              "  </thead>\n",
              "  <tbody>\n",
              "    <tr>\n",
              "      <th>0</th>\n",
              "      <td>x2</td>\n",
              "      <td>w2</td>\n",
              "      <td>y2</td>\n",
              "      <td>z2</td>\n",
              "      <td>a2</td>\n",
              "    </tr>\n",
              "    <tr>\n",
              "      <th>1</th>\n",
              "      <td>x3</td>\n",
              "      <td>w3</td>\n",
              "      <td>y3</td>\n",
              "      <td>z3</td>\n",
              "      <td>a3</td>\n",
              "    </tr>\n",
              "  </tbody>\n",
              "</table>\n",
              "</div>"
            ],
            "text/plain": [
              "    X   W   Y   Z   A\n",
              "0  x2  w2  y2  z2  a2\n",
              "1  x3  w3  y3  z3  a3"
            ]
          },
          "metadata": {},
          "execution_count": 16
        }
      ]
    },
    {
      "cell_type": "code",
      "metadata": {
        "id": "rNYnW2BfqGCG",
        "outputId": "d9602427-1146-4722-9c65-9335b857da1b",
        "colab": {
          "base_uri": "https://localhost:8080/",
          "height": 173
        }
      },
      "source": [
        "pd.merge(df_left, df_right, how = 'left', on = 'Y')"
      ],
      "execution_count": 17,
      "outputs": [
        {
          "output_type": "execute_result",
          "data": {
            "text/html": [
              "<div>\n",
              "<style scoped>\n",
              "    .dataframe tbody tr th:only-of-type {\n",
              "        vertical-align: middle;\n",
              "    }\n",
              "\n",
              "    .dataframe tbody tr th {\n",
              "        vertical-align: top;\n",
              "    }\n",
              "\n",
              "    .dataframe thead th {\n",
              "        text-align: right;\n",
              "    }\n",
              "</style>\n",
              "<table border=\"1\" class=\"dataframe\">\n",
              "  <thead>\n",
              "    <tr style=\"text-align: right;\">\n",
              "      <th></th>\n",
              "      <th>X</th>\n",
              "      <th>W</th>\n",
              "      <th>Y</th>\n",
              "      <th>Z</th>\n",
              "      <th>A</th>\n",
              "    </tr>\n",
              "  </thead>\n",
              "  <tbody>\n",
              "    <tr>\n",
              "      <th>0</th>\n",
              "      <td>x0</td>\n",
              "      <td>w0</td>\n",
              "      <td>y0</td>\n",
              "      <td>NaN</td>\n",
              "      <td>NaN</td>\n",
              "    </tr>\n",
              "    <tr>\n",
              "      <th>1</th>\n",
              "      <td>x1</td>\n",
              "      <td>w1</td>\n",
              "      <td>y1</td>\n",
              "      <td>NaN</td>\n",
              "      <td>NaN</td>\n",
              "    </tr>\n",
              "    <tr>\n",
              "      <th>2</th>\n",
              "      <td>x2</td>\n",
              "      <td>w2</td>\n",
              "      <td>y2</td>\n",
              "      <td>z2</td>\n",
              "      <td>a2</td>\n",
              "    </tr>\n",
              "    <tr>\n",
              "      <th>3</th>\n",
              "      <td>x3</td>\n",
              "      <td>w3</td>\n",
              "      <td>y3</td>\n",
              "      <td>z3</td>\n",
              "      <td>a3</td>\n",
              "    </tr>\n",
              "  </tbody>\n",
              "</table>\n",
              "</div>"
            ],
            "text/plain": [
              "    X   W   Y    Z    A\n",
              "0  x0  w0  y0  NaN  NaN\n",
              "1  x1  w1  y1  NaN  NaN\n",
              "2  x2  w2  y2   z2   a2\n",
              "3  x3  w3  y3   z3   a3"
            ]
          },
          "metadata": {},
          "execution_count": 17
        }
      ]
    },
    {
      "cell_type": "code",
      "metadata": {
        "id": "uHdQqeszqI5x",
        "outputId": "fb8d1a20-ea82-491f-f0dd-f2f4b1accbd0",
        "colab": {
          "base_uri": "https://localhost:8080/",
          "height": 173
        }
      },
      "source": [
        "pd.merge(df_left, df_right, how = 'right', on = 'Y')"
      ],
      "execution_count": 18,
      "outputs": [
        {
          "output_type": "execute_result",
          "data": {
            "text/html": [
              "<div>\n",
              "<style scoped>\n",
              "    .dataframe tbody tr th:only-of-type {\n",
              "        vertical-align: middle;\n",
              "    }\n",
              "\n",
              "    .dataframe tbody tr th {\n",
              "        vertical-align: top;\n",
              "    }\n",
              "\n",
              "    .dataframe thead th {\n",
              "        text-align: right;\n",
              "    }\n",
              "</style>\n",
              "<table border=\"1\" class=\"dataframe\">\n",
              "  <thead>\n",
              "    <tr style=\"text-align: right;\">\n",
              "      <th></th>\n",
              "      <th>X</th>\n",
              "      <th>W</th>\n",
              "      <th>Y</th>\n",
              "      <th>Z</th>\n",
              "      <th>A</th>\n",
              "    </tr>\n",
              "  </thead>\n",
              "  <tbody>\n",
              "    <tr>\n",
              "      <th>0</th>\n",
              "      <td>x2</td>\n",
              "      <td>w2</td>\n",
              "      <td>y2</td>\n",
              "      <td>z2</td>\n",
              "      <td>a2</td>\n",
              "    </tr>\n",
              "    <tr>\n",
              "      <th>1</th>\n",
              "      <td>x3</td>\n",
              "      <td>w3</td>\n",
              "      <td>y3</td>\n",
              "      <td>z3</td>\n",
              "      <td>a3</td>\n",
              "    </tr>\n",
              "    <tr>\n",
              "      <th>2</th>\n",
              "      <td>NaN</td>\n",
              "      <td>NaN</td>\n",
              "      <td>y4</td>\n",
              "      <td>z4</td>\n",
              "      <td>a4</td>\n",
              "    </tr>\n",
              "    <tr>\n",
              "      <th>3</th>\n",
              "      <td>NaN</td>\n",
              "      <td>NaN</td>\n",
              "      <td>y5</td>\n",
              "      <td>z5</td>\n",
              "      <td>a5</td>\n",
              "    </tr>\n",
              "  </tbody>\n",
              "</table>\n",
              "</div>"
            ],
            "text/plain": [
              "     X    W   Y   Z   A\n",
              "0   x2   w2  y2  z2  a2\n",
              "1   x3   w3  y3  z3  a3\n",
              "2  NaN  NaN  y4  z4  a4\n",
              "3  NaN  NaN  y5  z5  a5"
            ]
          },
          "metadata": {},
          "execution_count": 18
        }
      ]
    },
    {
      "cell_type": "code",
      "metadata": {
        "id": "zNssee28qMs8",
        "outputId": "57189a32-9918-4a8f-8d6a-eb7df75e952d",
        "colab": {
          "base_uri": "https://localhost:8080/",
          "height": 235
        }
      },
      "source": [
        "pd.merge(df_left, df_right, how = 'outer', on = 'Y')"
      ],
      "execution_count": 19,
      "outputs": [
        {
          "output_type": "execute_result",
          "data": {
            "text/html": [
              "<div>\n",
              "<style scoped>\n",
              "    .dataframe tbody tr th:only-of-type {\n",
              "        vertical-align: middle;\n",
              "    }\n",
              "\n",
              "    .dataframe tbody tr th {\n",
              "        vertical-align: top;\n",
              "    }\n",
              "\n",
              "    .dataframe thead th {\n",
              "        text-align: right;\n",
              "    }\n",
              "</style>\n",
              "<table border=\"1\" class=\"dataframe\">\n",
              "  <thead>\n",
              "    <tr style=\"text-align: right;\">\n",
              "      <th></th>\n",
              "      <th>X</th>\n",
              "      <th>W</th>\n",
              "      <th>Y</th>\n",
              "      <th>Z</th>\n",
              "      <th>A</th>\n",
              "    </tr>\n",
              "  </thead>\n",
              "  <tbody>\n",
              "    <tr>\n",
              "      <th>0</th>\n",
              "      <td>x0</td>\n",
              "      <td>w0</td>\n",
              "      <td>y0</td>\n",
              "      <td>NaN</td>\n",
              "      <td>NaN</td>\n",
              "    </tr>\n",
              "    <tr>\n",
              "      <th>1</th>\n",
              "      <td>x1</td>\n",
              "      <td>w1</td>\n",
              "      <td>y1</td>\n",
              "      <td>NaN</td>\n",
              "      <td>NaN</td>\n",
              "    </tr>\n",
              "    <tr>\n",
              "      <th>2</th>\n",
              "      <td>x2</td>\n",
              "      <td>w2</td>\n",
              "      <td>y2</td>\n",
              "      <td>z2</td>\n",
              "      <td>a2</td>\n",
              "    </tr>\n",
              "    <tr>\n",
              "      <th>3</th>\n",
              "      <td>x3</td>\n",
              "      <td>w3</td>\n",
              "      <td>y3</td>\n",
              "      <td>z3</td>\n",
              "      <td>a3</td>\n",
              "    </tr>\n",
              "    <tr>\n",
              "      <th>4</th>\n",
              "      <td>NaN</td>\n",
              "      <td>NaN</td>\n",
              "      <td>y4</td>\n",
              "      <td>z4</td>\n",
              "      <td>a4</td>\n",
              "    </tr>\n",
              "    <tr>\n",
              "      <th>5</th>\n",
              "      <td>NaN</td>\n",
              "      <td>NaN</td>\n",
              "      <td>y5</td>\n",
              "      <td>z5</td>\n",
              "      <td>a5</td>\n",
              "    </tr>\n",
              "  </tbody>\n",
              "</table>\n",
              "</div>"
            ],
            "text/plain": [
              "     X    W   Y    Z    A\n",
              "0   x0   w0  y0  NaN  NaN\n",
              "1   x1   w1  y1  NaN  NaN\n",
              "2   x2   w2  y2   z2   a2\n",
              "3   x3   w3  y3   z3   a3\n",
              "4  NaN  NaN  y4   z4   a4\n",
              "5  NaN  NaN  y5   z5   a5"
            ]
          },
          "metadata": {},
          "execution_count": 19
        }
      ]
    },
    {
      "cell_type": "code",
      "metadata": {
        "id": "jFY47nqSqdqg",
        "outputId": "75810c90-56ec-4e99-eb65-a1a15d1bb838",
        "colab": {
          "base_uri": "https://localhost:8080/",
          "height": 173
        }
      },
      "source": [
        "df_left = pd.DataFrame(\n",
        "                      {'X': ['x0', 'x1', 'x2', 'x3'],\n",
        "                        'W': ['w0', 'w1', 'w2', 'w3'], \n",
        "                        'Y': ['y0', 'y1', 'y2', 'y3'],\n",
        "                        'A': ['a0', 'a1', 'a2', 'a3'],})\n",
        "df_left"
      ],
      "execution_count": 20,
      "outputs": [
        {
          "output_type": "execute_result",
          "data": {
            "text/html": [
              "<div>\n",
              "<style scoped>\n",
              "    .dataframe tbody tr th:only-of-type {\n",
              "        vertical-align: middle;\n",
              "    }\n",
              "\n",
              "    .dataframe tbody tr th {\n",
              "        vertical-align: top;\n",
              "    }\n",
              "\n",
              "    .dataframe thead th {\n",
              "        text-align: right;\n",
              "    }\n",
              "</style>\n",
              "<table border=\"1\" class=\"dataframe\">\n",
              "  <thead>\n",
              "    <tr style=\"text-align: right;\">\n",
              "      <th></th>\n",
              "      <th>X</th>\n",
              "      <th>W</th>\n",
              "      <th>Y</th>\n",
              "      <th>A</th>\n",
              "    </tr>\n",
              "  </thead>\n",
              "  <tbody>\n",
              "    <tr>\n",
              "      <th>0</th>\n",
              "      <td>x0</td>\n",
              "      <td>w0</td>\n",
              "      <td>y0</td>\n",
              "      <td>a0</td>\n",
              "    </tr>\n",
              "    <tr>\n",
              "      <th>1</th>\n",
              "      <td>x1</td>\n",
              "      <td>w1</td>\n",
              "      <td>y1</td>\n",
              "      <td>a1</td>\n",
              "    </tr>\n",
              "    <tr>\n",
              "      <th>2</th>\n",
              "      <td>x2</td>\n",
              "      <td>w2</td>\n",
              "      <td>y2</td>\n",
              "      <td>a2</td>\n",
              "    </tr>\n",
              "    <tr>\n",
              "      <th>3</th>\n",
              "      <td>x3</td>\n",
              "      <td>w3</td>\n",
              "      <td>y3</td>\n",
              "      <td>a3</td>\n",
              "    </tr>\n",
              "  </tbody>\n",
              "</table>\n",
              "</div>"
            ],
            "text/plain": [
              "    X   W   Y   A\n",
              "0  x0  w0  y0  a0\n",
              "1  x1  w1  y1  a1\n",
              "2  x2  w2  y2  a2\n",
              "3  x3  w3  y3  a3"
            ]
          },
          "metadata": {},
          "execution_count": 20
        }
      ]
    },
    {
      "cell_type": "code",
      "metadata": {
        "id": "KukbBxGIrlLv",
        "outputId": "c07cc107-080f-494b-c151-111e819ad232",
        "colab": {
          "base_uri": "https://localhost:8080/",
          "height": 173
        }
      },
      "source": [
        "df_right"
      ],
      "execution_count": 21,
      "outputs": [
        {
          "output_type": "execute_result",
          "data": {
            "text/html": [
              "<div>\n",
              "<style scoped>\n",
              "    .dataframe tbody tr th:only-of-type {\n",
              "        vertical-align: middle;\n",
              "    }\n",
              "\n",
              "    .dataframe tbody tr th {\n",
              "        vertical-align: top;\n",
              "    }\n",
              "\n",
              "    .dataframe thead th {\n",
              "        text-align: right;\n",
              "    }\n",
              "</style>\n",
              "<table border=\"1\" class=\"dataframe\">\n",
              "  <thead>\n",
              "    <tr style=\"text-align: right;\">\n",
              "      <th></th>\n",
              "      <th>Z</th>\n",
              "      <th>A</th>\n",
              "      <th>Y</th>\n",
              "    </tr>\n",
              "  </thead>\n",
              "  <tbody>\n",
              "    <tr>\n",
              "      <th>2</th>\n",
              "      <td>z2</td>\n",
              "      <td>a2</td>\n",
              "      <td>y2</td>\n",
              "    </tr>\n",
              "    <tr>\n",
              "      <th>3</th>\n",
              "      <td>z3</td>\n",
              "      <td>a3</td>\n",
              "      <td>y3</td>\n",
              "    </tr>\n",
              "    <tr>\n",
              "      <th>4</th>\n",
              "      <td>z4</td>\n",
              "      <td>a4</td>\n",
              "      <td>y4</td>\n",
              "    </tr>\n",
              "    <tr>\n",
              "      <th>5</th>\n",
              "      <td>z5</td>\n",
              "      <td>a5</td>\n",
              "      <td>y5</td>\n",
              "    </tr>\n",
              "  </tbody>\n",
              "</table>\n",
              "</div>"
            ],
            "text/plain": [
              "    Z   A   Y\n",
              "2  z2  a2  y2\n",
              "3  z3  a3  y3\n",
              "4  z4  a4  y4\n",
              "5  z5  a5  y5"
            ]
          },
          "metadata": {},
          "execution_count": 21
        }
      ]
    },
    {
      "cell_type": "code",
      "metadata": {
        "id": "uZRrJibkrmUc",
        "outputId": "2bc1f62a-554d-4f1d-94bc-87b99b1178a9",
        "colab": {
          "base_uri": "https://localhost:8080/",
          "height": 235
        }
      },
      "source": [
        "pd.merge(df_left, df_right, how ='outer', on = [\"Y\",'A']) # Union con mas de dos columnas en comun. Se puede \n",
        "# hacer tambien sin especificar cuales son las columnas en común. "
      ],
      "execution_count": 23,
      "outputs": [
        {
          "output_type": "execute_result",
          "data": {
            "text/html": [
              "<div>\n",
              "<style scoped>\n",
              "    .dataframe tbody tr th:only-of-type {\n",
              "        vertical-align: middle;\n",
              "    }\n",
              "\n",
              "    .dataframe tbody tr th {\n",
              "        vertical-align: top;\n",
              "    }\n",
              "\n",
              "    .dataframe thead th {\n",
              "        text-align: right;\n",
              "    }\n",
              "</style>\n",
              "<table border=\"1\" class=\"dataframe\">\n",
              "  <thead>\n",
              "    <tr style=\"text-align: right;\">\n",
              "      <th></th>\n",
              "      <th>X</th>\n",
              "      <th>W</th>\n",
              "      <th>Y</th>\n",
              "      <th>A</th>\n",
              "      <th>Z</th>\n",
              "    </tr>\n",
              "  </thead>\n",
              "  <tbody>\n",
              "    <tr>\n",
              "      <th>0</th>\n",
              "      <td>x0</td>\n",
              "      <td>w0</td>\n",
              "      <td>y0</td>\n",
              "      <td>a0</td>\n",
              "      <td>NaN</td>\n",
              "    </tr>\n",
              "    <tr>\n",
              "      <th>1</th>\n",
              "      <td>x1</td>\n",
              "      <td>w1</td>\n",
              "      <td>y1</td>\n",
              "      <td>a1</td>\n",
              "      <td>NaN</td>\n",
              "    </tr>\n",
              "    <tr>\n",
              "      <th>2</th>\n",
              "      <td>x2</td>\n",
              "      <td>w2</td>\n",
              "      <td>y2</td>\n",
              "      <td>a2</td>\n",
              "      <td>z2</td>\n",
              "    </tr>\n",
              "    <tr>\n",
              "      <th>3</th>\n",
              "      <td>x3</td>\n",
              "      <td>w3</td>\n",
              "      <td>y3</td>\n",
              "      <td>a3</td>\n",
              "      <td>z3</td>\n",
              "    </tr>\n",
              "    <tr>\n",
              "      <th>4</th>\n",
              "      <td>NaN</td>\n",
              "      <td>NaN</td>\n",
              "      <td>y4</td>\n",
              "      <td>a4</td>\n",
              "      <td>z4</td>\n",
              "    </tr>\n",
              "    <tr>\n",
              "      <th>5</th>\n",
              "      <td>NaN</td>\n",
              "      <td>NaN</td>\n",
              "      <td>y5</td>\n",
              "      <td>a5</td>\n",
              "      <td>z5</td>\n",
              "    </tr>\n",
              "  </tbody>\n",
              "</table>\n",
              "</div>"
            ],
            "text/plain": [
              "     X    W   Y   A    Z\n",
              "0   x0   w0  y0  a0  NaN\n",
              "1   x1   w1  y1  a1  NaN\n",
              "2   x2   w2  y2  a2   z2\n",
              "3   x3   w3  y3  a3   z3\n",
              "4  NaN  NaN  y4  a4   z4\n",
              "5  NaN  NaN  y5  a5   z5"
            ]
          },
          "metadata": {},
          "execution_count": 23
        }
      ]
    },
    {
      "cell_type": "code",
      "source": [
        "pd.merge(df_left, df_right, how ='outer') # De esta forma une todas las que están en común."
      ],
      "metadata": {
        "colab": {
          "base_uri": "https://localhost:8080/",
          "height": 235
        },
        "id": "ElHruOCq5IVc",
        "outputId": "cb88f67b-d889-4a34-d4c0-de60366fbd9b"
      },
      "execution_count": 25,
      "outputs": [
        {
          "output_type": "execute_result",
          "data": {
            "text/html": [
              "<div>\n",
              "<style scoped>\n",
              "    .dataframe tbody tr th:only-of-type {\n",
              "        vertical-align: middle;\n",
              "    }\n",
              "\n",
              "    .dataframe tbody tr th {\n",
              "        vertical-align: top;\n",
              "    }\n",
              "\n",
              "    .dataframe thead th {\n",
              "        text-align: right;\n",
              "    }\n",
              "</style>\n",
              "<table border=\"1\" class=\"dataframe\">\n",
              "  <thead>\n",
              "    <tr style=\"text-align: right;\">\n",
              "      <th></th>\n",
              "      <th>X</th>\n",
              "      <th>W</th>\n",
              "      <th>Y</th>\n",
              "      <th>A</th>\n",
              "      <th>Z</th>\n",
              "    </tr>\n",
              "  </thead>\n",
              "  <tbody>\n",
              "    <tr>\n",
              "      <th>0</th>\n",
              "      <td>x0</td>\n",
              "      <td>w0</td>\n",
              "      <td>y0</td>\n",
              "      <td>a0</td>\n",
              "      <td>NaN</td>\n",
              "    </tr>\n",
              "    <tr>\n",
              "      <th>1</th>\n",
              "      <td>x1</td>\n",
              "      <td>w1</td>\n",
              "      <td>y1</td>\n",
              "      <td>a1</td>\n",
              "      <td>NaN</td>\n",
              "    </tr>\n",
              "    <tr>\n",
              "      <th>2</th>\n",
              "      <td>x2</td>\n",
              "      <td>w2</td>\n",
              "      <td>y2</td>\n",
              "      <td>a2</td>\n",
              "      <td>z2</td>\n",
              "    </tr>\n",
              "    <tr>\n",
              "      <th>3</th>\n",
              "      <td>x3</td>\n",
              "      <td>w3</td>\n",
              "      <td>y3</td>\n",
              "      <td>a3</td>\n",
              "      <td>z3</td>\n",
              "    </tr>\n",
              "    <tr>\n",
              "      <th>4</th>\n",
              "      <td>NaN</td>\n",
              "      <td>NaN</td>\n",
              "      <td>y4</td>\n",
              "      <td>a4</td>\n",
              "      <td>z4</td>\n",
              "    </tr>\n",
              "    <tr>\n",
              "      <th>5</th>\n",
              "      <td>NaN</td>\n",
              "      <td>NaN</td>\n",
              "      <td>y5</td>\n",
              "      <td>a5</td>\n",
              "      <td>z5</td>\n",
              "    </tr>\n",
              "  </tbody>\n",
              "</table>\n",
              "</div>"
            ],
            "text/plain": [
              "     X    W   Y   A    Z\n",
              "0   x0   w0  y0  a0  NaN\n",
              "1   x1   w1  y1  a1  NaN\n",
              "2   x2   w2  y2  a2   z2\n",
              "3   x3   w3  y3  a3   z3\n",
              "4  NaN  NaN  y4  a4   z4\n",
              "5  NaN  NaN  y5  a5   z5"
            ]
          },
          "metadata": {},
          "execution_count": 25
        }
      ]
    },
    {
      "cell_type": "code",
      "source": [
        "pd.merge(df_left, df_right, how ='outer', on = 'A') # Ahi le digo que solo una por la A. Lo que me duplica la columna Y con dos sufijos"
      ],
      "metadata": {
        "colab": {
          "base_uri": "https://localhost:8080/",
          "height": 235
        },
        "id": "5qbtQUXD5Tzc",
        "outputId": "2071da22-3638-413a-cbeb-9f4d603765ce"
      },
      "execution_count": 27,
      "outputs": [
        {
          "output_type": "execute_result",
          "data": {
            "text/html": [
              "<div>\n",
              "<style scoped>\n",
              "    .dataframe tbody tr th:only-of-type {\n",
              "        vertical-align: middle;\n",
              "    }\n",
              "\n",
              "    .dataframe tbody tr th {\n",
              "        vertical-align: top;\n",
              "    }\n",
              "\n",
              "    .dataframe thead th {\n",
              "        text-align: right;\n",
              "    }\n",
              "</style>\n",
              "<table border=\"1\" class=\"dataframe\">\n",
              "  <thead>\n",
              "    <tr style=\"text-align: right;\">\n",
              "      <th></th>\n",
              "      <th>X</th>\n",
              "      <th>W</th>\n",
              "      <th>Y_x</th>\n",
              "      <th>A</th>\n",
              "      <th>Z</th>\n",
              "      <th>Y_y</th>\n",
              "    </tr>\n",
              "  </thead>\n",
              "  <tbody>\n",
              "    <tr>\n",
              "      <th>0</th>\n",
              "      <td>x0</td>\n",
              "      <td>w0</td>\n",
              "      <td>y0</td>\n",
              "      <td>a0</td>\n",
              "      <td>NaN</td>\n",
              "      <td>NaN</td>\n",
              "    </tr>\n",
              "    <tr>\n",
              "      <th>1</th>\n",
              "      <td>x1</td>\n",
              "      <td>w1</td>\n",
              "      <td>y1</td>\n",
              "      <td>a1</td>\n",
              "      <td>NaN</td>\n",
              "      <td>NaN</td>\n",
              "    </tr>\n",
              "    <tr>\n",
              "      <th>2</th>\n",
              "      <td>x2</td>\n",
              "      <td>w2</td>\n",
              "      <td>y2</td>\n",
              "      <td>a2</td>\n",
              "      <td>z2</td>\n",
              "      <td>y2</td>\n",
              "    </tr>\n",
              "    <tr>\n",
              "      <th>3</th>\n",
              "      <td>x3</td>\n",
              "      <td>w3</td>\n",
              "      <td>y3</td>\n",
              "      <td>a3</td>\n",
              "      <td>z3</td>\n",
              "      <td>y3</td>\n",
              "    </tr>\n",
              "    <tr>\n",
              "      <th>4</th>\n",
              "      <td>NaN</td>\n",
              "      <td>NaN</td>\n",
              "      <td>NaN</td>\n",
              "      <td>a4</td>\n",
              "      <td>z4</td>\n",
              "      <td>y4</td>\n",
              "    </tr>\n",
              "    <tr>\n",
              "      <th>5</th>\n",
              "      <td>NaN</td>\n",
              "      <td>NaN</td>\n",
              "      <td>NaN</td>\n",
              "      <td>a5</td>\n",
              "      <td>z5</td>\n",
              "      <td>y5</td>\n",
              "    </tr>\n",
              "  </tbody>\n",
              "</table>\n",
              "</div>"
            ],
            "text/plain": [
              "     X    W  Y_x   A    Z  Y_y\n",
              "0   x0   w0   y0  a0  NaN  NaN\n",
              "1   x1   w1   y1  a1  NaN  NaN\n",
              "2   x2   w2   y2  a2   z2   y2\n",
              "3   x3   w3   y3  a3   z3   y3\n",
              "4  NaN  NaN  NaN  a4   z4   y4\n",
              "5  NaN  NaN  NaN  a5   z5   y5"
            ]
          },
          "metadata": {},
          "execution_count": 27
        }
      ]
    },
    {
      "cell_type": "code",
      "source": [
        "pd.merge(df_left, df_right, how ='outer', on = 'A', suffixes=['_left','_right']) # De esta forma le cambio los nombres a los sufijos"
      ],
      "metadata": {
        "colab": {
          "base_uri": "https://localhost:8080/",
          "height": 235
        },
        "id": "gfE-edgy4yol",
        "outputId": "da8e01b2-e81a-495f-ef94-b17b22906208"
      },
      "execution_count": 28,
      "outputs": [
        {
          "output_type": "execute_result",
          "data": {
            "text/html": [
              "<div>\n",
              "<style scoped>\n",
              "    .dataframe tbody tr th:only-of-type {\n",
              "        vertical-align: middle;\n",
              "    }\n",
              "\n",
              "    .dataframe tbody tr th {\n",
              "        vertical-align: top;\n",
              "    }\n",
              "\n",
              "    .dataframe thead th {\n",
              "        text-align: right;\n",
              "    }\n",
              "</style>\n",
              "<table border=\"1\" class=\"dataframe\">\n",
              "  <thead>\n",
              "    <tr style=\"text-align: right;\">\n",
              "      <th></th>\n",
              "      <th>X</th>\n",
              "      <th>W</th>\n",
              "      <th>Y_left</th>\n",
              "      <th>A</th>\n",
              "      <th>Z</th>\n",
              "      <th>Y_right</th>\n",
              "    </tr>\n",
              "  </thead>\n",
              "  <tbody>\n",
              "    <tr>\n",
              "      <th>0</th>\n",
              "      <td>x0</td>\n",
              "      <td>w0</td>\n",
              "      <td>y0</td>\n",
              "      <td>a0</td>\n",
              "      <td>NaN</td>\n",
              "      <td>NaN</td>\n",
              "    </tr>\n",
              "    <tr>\n",
              "      <th>1</th>\n",
              "      <td>x1</td>\n",
              "      <td>w1</td>\n",
              "      <td>y1</td>\n",
              "      <td>a1</td>\n",
              "      <td>NaN</td>\n",
              "      <td>NaN</td>\n",
              "    </tr>\n",
              "    <tr>\n",
              "      <th>2</th>\n",
              "      <td>x2</td>\n",
              "      <td>w2</td>\n",
              "      <td>y2</td>\n",
              "      <td>a2</td>\n",
              "      <td>z2</td>\n",
              "      <td>y2</td>\n",
              "    </tr>\n",
              "    <tr>\n",
              "      <th>3</th>\n",
              "      <td>x3</td>\n",
              "      <td>w3</td>\n",
              "      <td>y3</td>\n",
              "      <td>a3</td>\n",
              "      <td>z3</td>\n",
              "      <td>y3</td>\n",
              "    </tr>\n",
              "    <tr>\n",
              "      <th>4</th>\n",
              "      <td>NaN</td>\n",
              "      <td>NaN</td>\n",
              "      <td>NaN</td>\n",
              "      <td>a4</td>\n",
              "      <td>z4</td>\n",
              "      <td>y4</td>\n",
              "    </tr>\n",
              "    <tr>\n",
              "      <th>5</th>\n",
              "      <td>NaN</td>\n",
              "      <td>NaN</td>\n",
              "      <td>NaN</td>\n",
              "      <td>a5</td>\n",
              "      <td>z5</td>\n",
              "      <td>y5</td>\n",
              "    </tr>\n",
              "  </tbody>\n",
              "</table>\n",
              "</div>"
            ],
            "text/plain": [
              "     X    W Y_left   A    Z Y_right\n",
              "0   x0   w0     y0  a0  NaN     NaN\n",
              "1   x1   w1     y1  a1  NaN     NaN\n",
              "2   x2   w2     y2  a2   z2      y2\n",
              "3   x3   w3     y3  a3   z3      y3\n",
              "4  NaN  NaN    NaN  a4   z4      y4\n",
              "5  NaN  NaN    NaN  a5   z5      y5"
            ]
          },
          "metadata": {},
          "execution_count": 28
        }
      ]
    }
  ]
}